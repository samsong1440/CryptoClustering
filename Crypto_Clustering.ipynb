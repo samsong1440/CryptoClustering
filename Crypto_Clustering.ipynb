{
 "cells": [
  {
   "cell_type": "code",
   "execution_count": null,
   "metadata": {},
   "outputs": [],
   "source": []
  },
  {
   "cell_type": "code",
   "execution_count": 3,
   "metadata": {},
   "outputs": [],
   "source": [
    "# Import required libraries and dependencies\n",
    "import pandas as pd\n",
    "import hvplot.pandas\n",
    "from sklearn.cluster import KMeans\n",
    "from sklearn.decomposition import PCA\n",
    "from sklearn.preprocessing import StandardScaler"
   ]
  },
  {
   "cell_type": "code",
   "execution_count": 4,
   "metadata": {},
   "outputs": [
    {
     "data": {
      "text/html": [
       "<div>\n",
       "<style scoped>\n",
       "    .dataframe tbody tr th:only-of-type {\n",
       "        vertical-align: middle;\n",
       "    }\n",
       "\n",
       "    .dataframe tbody tr th {\n",
       "        vertical-align: top;\n",
       "    }\n",
       "\n",
       "    .dataframe thead th {\n",
       "        text-align: right;\n",
       "    }\n",
       "</style>\n",
       "<table border=\"1\" class=\"dataframe\">\n",
       "  <thead>\n",
       "    <tr style=\"text-align: right;\">\n",
       "      <th></th>\n",
       "      <th>price_change_percentage_24h</th>\n",
       "      <th>price_change_percentage_7d</th>\n",
       "      <th>price_change_percentage_14d</th>\n",
       "      <th>price_change_percentage_30d</th>\n",
       "      <th>price_change_percentage_60d</th>\n",
       "      <th>price_change_percentage_200d</th>\n",
       "      <th>price_change_percentage_1y</th>\n",
       "    </tr>\n",
       "    <tr>\n",
       "      <th>coin_id</th>\n",
       "      <th></th>\n",
       "      <th></th>\n",
       "      <th></th>\n",
       "      <th></th>\n",
       "      <th></th>\n",
       "      <th></th>\n",
       "      <th></th>\n",
       "    </tr>\n",
       "  </thead>\n",
       "  <tbody>\n",
       "    <tr>\n",
       "      <th>bitcoin</th>\n",
       "      <td>1.08388</td>\n",
       "      <td>7.60278</td>\n",
       "      <td>6.57509</td>\n",
       "      <td>7.67258</td>\n",
       "      <td>-3.25185</td>\n",
       "      <td>83.51840</td>\n",
       "      <td>37.51761</td>\n",
       "    </tr>\n",
       "    <tr>\n",
       "      <th>ethereum</th>\n",
       "      <td>0.22392</td>\n",
       "      <td>10.38134</td>\n",
       "      <td>4.80849</td>\n",
       "      <td>0.13169</td>\n",
       "      <td>-12.88890</td>\n",
       "      <td>186.77418</td>\n",
       "      <td>101.96023</td>\n",
       "    </tr>\n",
       "    <tr>\n",
       "      <th>tether</th>\n",
       "      <td>-0.21173</td>\n",
       "      <td>0.04935</td>\n",
       "      <td>0.00640</td>\n",
       "      <td>-0.04237</td>\n",
       "      <td>0.28037</td>\n",
       "      <td>-0.00542</td>\n",
       "      <td>0.01954</td>\n",
       "    </tr>\n",
       "    <tr>\n",
       "      <th>ripple</th>\n",
       "      <td>-0.37819</td>\n",
       "      <td>-0.60926</td>\n",
       "      <td>2.24984</td>\n",
       "      <td>0.23455</td>\n",
       "      <td>-17.55245</td>\n",
       "      <td>39.53888</td>\n",
       "      <td>-16.60193</td>\n",
       "    </tr>\n",
       "    <tr>\n",
       "      <th>bitcoin-cash</th>\n",
       "      <td>2.90585</td>\n",
       "      <td>17.09717</td>\n",
       "      <td>14.75334</td>\n",
       "      <td>15.74903</td>\n",
       "      <td>-13.71793</td>\n",
       "      <td>21.66042</td>\n",
       "      <td>14.49384</td>\n",
       "    </tr>\n",
       "    <tr>\n",
       "      <th>binancecoin</th>\n",
       "      <td>2.10423</td>\n",
       "      <td>12.85511</td>\n",
       "      <td>6.80688</td>\n",
       "      <td>0.05865</td>\n",
       "      <td>36.33486</td>\n",
       "      <td>155.61937</td>\n",
       "      <td>69.69195</td>\n",
       "    </tr>\n",
       "    <tr>\n",
       "      <th>chainlink</th>\n",
       "      <td>-0.23935</td>\n",
       "      <td>20.69459</td>\n",
       "      <td>9.30098</td>\n",
       "      <td>-11.21747</td>\n",
       "      <td>-43.69522</td>\n",
       "      <td>403.22917</td>\n",
       "      <td>325.13186</td>\n",
       "    </tr>\n",
       "    <tr>\n",
       "      <th>cardano</th>\n",
       "      <td>0.00322</td>\n",
       "      <td>13.99302</td>\n",
       "      <td>5.55476</td>\n",
       "      <td>10.10553</td>\n",
       "      <td>-22.84776</td>\n",
       "      <td>264.51418</td>\n",
       "      <td>156.09756</td>\n",
       "    </tr>\n",
       "    <tr>\n",
       "      <th>litecoin</th>\n",
       "      <td>-0.06341</td>\n",
       "      <td>6.60221</td>\n",
       "      <td>7.28931</td>\n",
       "      <td>1.21662</td>\n",
       "      <td>-17.23960</td>\n",
       "      <td>27.49919</td>\n",
       "      <td>-12.66408</td>\n",
       "    </tr>\n",
       "    <tr>\n",
       "      <th>bitcoin-cash-sv</th>\n",
       "      <td>0.92530</td>\n",
       "      <td>3.29641</td>\n",
       "      <td>-1.86656</td>\n",
       "      <td>2.88926</td>\n",
       "      <td>-24.87434</td>\n",
       "      <td>7.42562</td>\n",
       "      <td>93.73082</td>\n",
       "    </tr>\n",
       "  </tbody>\n",
       "</table>\n",
       "</div>"
      ],
      "text/plain": [
       "                 price_change_percentage_24h  price_change_percentage_7d  \\\n",
       "coin_id                                                                    \n",
       "bitcoin                              1.08388                     7.60278   \n",
       "ethereum                             0.22392                    10.38134   \n",
       "tether                              -0.21173                     0.04935   \n",
       "ripple                              -0.37819                    -0.60926   \n",
       "bitcoin-cash                         2.90585                    17.09717   \n",
       "binancecoin                          2.10423                    12.85511   \n",
       "chainlink                           -0.23935                    20.69459   \n",
       "cardano                              0.00322                    13.99302   \n",
       "litecoin                            -0.06341                     6.60221   \n",
       "bitcoin-cash-sv                      0.92530                     3.29641   \n",
       "\n",
       "                 price_change_percentage_14d  price_change_percentage_30d  \\\n",
       "coin_id                                                                     \n",
       "bitcoin                              6.57509                      7.67258   \n",
       "ethereum                             4.80849                      0.13169   \n",
       "tether                               0.00640                     -0.04237   \n",
       "ripple                               2.24984                      0.23455   \n",
       "bitcoin-cash                        14.75334                     15.74903   \n",
       "binancecoin                          6.80688                      0.05865   \n",
       "chainlink                            9.30098                    -11.21747   \n",
       "cardano                              5.55476                     10.10553   \n",
       "litecoin                             7.28931                      1.21662   \n",
       "bitcoin-cash-sv                     -1.86656                      2.88926   \n",
       "\n",
       "                 price_change_percentage_60d  price_change_percentage_200d  \\\n",
       "coin_id                                                                      \n",
       "bitcoin                             -3.25185                      83.51840   \n",
       "ethereum                           -12.88890                     186.77418   \n",
       "tether                               0.28037                      -0.00542   \n",
       "ripple                             -17.55245                      39.53888   \n",
       "bitcoin-cash                       -13.71793                      21.66042   \n",
       "binancecoin                         36.33486                     155.61937   \n",
       "chainlink                          -43.69522                     403.22917   \n",
       "cardano                            -22.84776                     264.51418   \n",
       "litecoin                           -17.23960                      27.49919   \n",
       "bitcoin-cash-sv                    -24.87434                       7.42562   \n",
       "\n",
       "                 price_change_percentage_1y  \n",
       "coin_id                                      \n",
       "bitcoin                            37.51761  \n",
       "ethereum                          101.96023  \n",
       "tether                              0.01954  \n",
       "ripple                            -16.60193  \n",
       "bitcoin-cash                       14.49384  \n",
       "binancecoin                        69.69195  \n",
       "chainlink                         325.13186  \n",
       "cardano                           156.09756  \n",
       "litecoin                          -12.66408  \n",
       "bitcoin-cash-sv                    93.73082  "
      ]
     },
     "execution_count": 4,
     "metadata": {},
     "output_type": "execute_result"
    }
   ],
   "source": [
    "# Load the data into a Pandas DataFrame\n",
    "df_market_data = pd.read_csv(\n",
    "    \"Resources/crypto_market_data.csv\",\n",
    "    index_col=\"coin_id\")\n",
    "\n",
    "# Display sample data\n",
    "df_market_data.head(10)"
   ]
  },
  {
   "cell_type": "code",
   "execution_count": 5,
   "metadata": {},
   "outputs": [
    {
     "data": {
      "text/html": [
       "<div>\n",
       "<style scoped>\n",
       "    .dataframe tbody tr th:only-of-type {\n",
       "        vertical-align: middle;\n",
       "    }\n",
       "\n",
       "    .dataframe tbody tr th {\n",
       "        vertical-align: top;\n",
       "    }\n",
       "\n",
       "    .dataframe thead th {\n",
       "        text-align: right;\n",
       "    }\n",
       "</style>\n",
       "<table border=\"1\" class=\"dataframe\">\n",
       "  <thead>\n",
       "    <tr style=\"text-align: right;\">\n",
       "      <th></th>\n",
       "      <th>price_change_percentage_24h</th>\n",
       "      <th>price_change_percentage_7d</th>\n",
       "      <th>price_change_percentage_14d</th>\n",
       "      <th>price_change_percentage_30d</th>\n",
       "      <th>price_change_percentage_60d</th>\n",
       "      <th>price_change_percentage_200d</th>\n",
       "      <th>price_change_percentage_1y</th>\n",
       "    </tr>\n",
       "  </thead>\n",
       "  <tbody>\n",
       "    <tr>\n",
       "      <th>count</th>\n",
       "      <td>41.000000</td>\n",
       "      <td>41.000000</td>\n",
       "      <td>41.000000</td>\n",
       "      <td>41.000000</td>\n",
       "      <td>41.000000</td>\n",
       "      <td>41.000000</td>\n",
       "      <td>41.000000</td>\n",
       "    </tr>\n",
       "    <tr>\n",
       "      <th>mean</th>\n",
       "      <td>-0.269686</td>\n",
       "      <td>4.497147</td>\n",
       "      <td>0.185787</td>\n",
       "      <td>1.545693</td>\n",
       "      <td>-0.094119</td>\n",
       "      <td>236.537432</td>\n",
       "      <td>347.667956</td>\n",
       "    </tr>\n",
       "    <tr>\n",
       "      <th>std</th>\n",
       "      <td>2.694793</td>\n",
       "      <td>6.375218</td>\n",
       "      <td>8.376939</td>\n",
       "      <td>26.344218</td>\n",
       "      <td>47.365803</td>\n",
       "      <td>435.225304</td>\n",
       "      <td>1247.842884</td>\n",
       "    </tr>\n",
       "    <tr>\n",
       "      <th>min</th>\n",
       "      <td>-13.527860</td>\n",
       "      <td>-6.094560</td>\n",
       "      <td>-18.158900</td>\n",
       "      <td>-34.705480</td>\n",
       "      <td>-44.822480</td>\n",
       "      <td>-0.392100</td>\n",
       "      <td>-17.567530</td>\n",
       "    </tr>\n",
       "    <tr>\n",
       "      <th>25%</th>\n",
       "      <td>-0.608970</td>\n",
       "      <td>0.047260</td>\n",
       "      <td>-5.026620</td>\n",
       "      <td>-10.438470</td>\n",
       "      <td>-25.907990</td>\n",
       "      <td>21.660420</td>\n",
       "      <td>0.406170</td>\n",
       "    </tr>\n",
       "    <tr>\n",
       "      <th>50%</th>\n",
       "      <td>-0.063410</td>\n",
       "      <td>3.296410</td>\n",
       "      <td>0.109740</td>\n",
       "      <td>-0.042370</td>\n",
       "      <td>-7.544550</td>\n",
       "      <td>83.905200</td>\n",
       "      <td>69.691950</td>\n",
       "    </tr>\n",
       "    <tr>\n",
       "      <th>75%</th>\n",
       "      <td>0.612090</td>\n",
       "      <td>7.602780</td>\n",
       "      <td>5.510740</td>\n",
       "      <td>4.578130</td>\n",
       "      <td>0.657260</td>\n",
       "      <td>216.177610</td>\n",
       "      <td>168.372510</td>\n",
       "    </tr>\n",
       "    <tr>\n",
       "      <th>max</th>\n",
       "      <td>4.840330</td>\n",
       "      <td>20.694590</td>\n",
       "      <td>24.239190</td>\n",
       "      <td>140.795700</td>\n",
       "      <td>223.064370</td>\n",
       "      <td>2227.927820</td>\n",
       "      <td>7852.089700</td>\n",
       "    </tr>\n",
       "  </tbody>\n",
       "</table>\n",
       "</div>"
      ],
      "text/plain": [
       "       price_change_percentage_24h  price_change_percentage_7d  \\\n",
       "count                    41.000000                   41.000000   \n",
       "mean                     -0.269686                    4.497147   \n",
       "std                       2.694793                    6.375218   \n",
       "min                     -13.527860                   -6.094560   \n",
       "25%                      -0.608970                    0.047260   \n",
       "50%                      -0.063410                    3.296410   \n",
       "75%                       0.612090                    7.602780   \n",
       "max                       4.840330                   20.694590   \n",
       "\n",
       "       price_change_percentage_14d  price_change_percentage_30d  \\\n",
       "count                    41.000000                    41.000000   \n",
       "mean                      0.185787                     1.545693   \n",
       "std                       8.376939                    26.344218   \n",
       "min                     -18.158900                   -34.705480   \n",
       "25%                      -5.026620                   -10.438470   \n",
       "50%                       0.109740                    -0.042370   \n",
       "75%                       5.510740                     4.578130   \n",
       "max                      24.239190                   140.795700   \n",
       "\n",
       "       price_change_percentage_60d  price_change_percentage_200d  \\\n",
       "count                    41.000000                     41.000000   \n",
       "mean                     -0.094119                    236.537432   \n",
       "std                      47.365803                    435.225304   \n",
       "min                     -44.822480                     -0.392100   \n",
       "25%                     -25.907990                     21.660420   \n",
       "50%                      -7.544550                     83.905200   \n",
       "75%                       0.657260                    216.177610   \n",
       "max                     223.064370                   2227.927820   \n",
       "\n",
       "       price_change_percentage_1y  \n",
       "count                   41.000000  \n",
       "mean                   347.667956  \n",
       "std                   1247.842884  \n",
       "min                    -17.567530  \n",
       "25%                      0.406170  \n",
       "50%                     69.691950  \n",
       "75%                    168.372510  \n",
       "max                   7852.089700  "
      ]
     },
     "execution_count": 5,
     "metadata": {},
     "output_type": "execute_result"
    }
   ],
   "source": [
    "# Generate summary statistics\n",
    "df_market_data.describe()"
   ]
  },
  {
   "cell_type": "code",
   "execution_count": 6,
   "metadata": {},
   "outputs": [
    {
     "data": {},
     "metadata": {},
     "output_type": "display_data"
    },
    {
     "data": {
      "application/vnd.holoviews_exec.v0+json": "",
      "text/html": [
       "<div id='1002'>\n",
       "  <div class=\"bk-root\" id=\"e8f8ea1d-d80a-4044-84c2-61c328fa2101\" data-root-id=\"1002\"></div>\n",
       "</div>\n",
       "<script type=\"application/javascript\">(function(root) {\n",
       "  function embed_document(root) {\n",
       "    var docs_json = {\"a2eb8023-ce7e-4cd2-9ac0-0da4a54e67de\":{\"defs\":[{\"extends\":null,\"module\":null,\"name\":\"ReactiveHTML1\",\"overrides\":[],\"properties\":[]},{\"extends\":null,\"module\":null,\"name\":\"FlexBox1\",\"overrides\":[],\"properties\":[{\"default\":\"flex-start\",\"kind\":null,\"name\":\"align_content\"},{\"default\":\"flex-start\",\"kind\":null,\"name\":\"align_items\"},{\"default\":\"row\",\"kind\":null,\"name\":\"flex_direction\"},{\"default\":\"wrap\",\"kind\":null,\"name\":\"flex_wrap\"},{\"default\":\"flex-start\",\"kind\":null,\"name\":\"justify_content\"}]},{\"extends\":null,\"module\":null,\"name\":\"GridStack1\",\"overrides\":[],\"properties\":[{\"default\":\"warn\",\"kind\":null,\"name\":\"mode\"},{\"default\":null,\"kind\":null,\"name\":\"ncols\"},{\"default\":null,\"kind\":null,\"name\":\"nrows\"},{\"default\":true,\"kind\":null,\"name\":\"allow_resize\"},{\"default\":true,\"kind\":null,\"name\":\"allow_drag\"},{\"default\":[],\"kind\":null,\"name\":\"state\"}]},{\"extends\":null,\"module\":null,\"name\":\"click1\",\"overrides\":[],\"properties\":[{\"default\":\"\",\"kind\":null,\"name\":\"terminal_output\"},{\"default\":\"\",\"kind\":null,\"name\":\"debug_name\"},{\"default\":0,\"kind\":null,\"name\":\"clears\"}]},{\"extends\":null,\"module\":null,\"name\":\"NotificationAreaBase1\",\"overrides\":[],\"properties\":[{\"default\":\"bottom-right\",\"kind\":null,\"name\":\"position\"},{\"default\":0,\"kind\":null,\"name\":\"_clear\"}]},{\"extends\":null,\"module\":null,\"name\":\"NotificationArea1\",\"overrides\":[],\"properties\":[{\"default\":[],\"kind\":null,\"name\":\"notifications\"},{\"default\":\"bottom-right\",\"kind\":null,\"name\":\"position\"},{\"default\":0,\"kind\":null,\"name\":\"_clear\"},{\"default\":[{\"background\":\"#ffc107\",\"icon\":{\"className\":\"fas fa-exclamation-triangle\",\"color\":\"white\",\"tagName\":\"i\"},\"type\":\"warning\"},{\"background\":\"#007bff\",\"icon\":{\"className\":\"fas fa-info-circle\",\"color\":\"white\",\"tagName\":\"i\"},\"type\":\"info\"}],\"kind\":null,\"name\":\"types\"}]},{\"extends\":null,\"module\":null,\"name\":\"Notification\",\"overrides\":[],\"properties\":[{\"default\":null,\"kind\":null,\"name\":\"background\"},{\"default\":3000,\"kind\":null,\"name\":\"duration\"},{\"default\":null,\"kind\":null,\"name\":\"icon\"},{\"default\":\"\",\"kind\":null,\"name\":\"message\"},{\"default\":null,\"kind\":null,\"name\":\"notification_type\"},{\"default\":false,\"kind\":null,\"name\":\"_destroyed\"}]},{\"extends\":null,\"module\":null,\"name\":\"TemplateActions1\",\"overrides\":[],\"properties\":[{\"default\":0,\"kind\":null,\"name\":\"open_modal\"},{\"default\":0,\"kind\":null,\"name\":\"close_modal\"}]},{\"extends\":null,\"module\":null,\"name\":\"MaterialTemplateActions1\",\"overrides\":[],\"properties\":[{\"default\":0,\"kind\":null,\"name\":\"open_modal\"},{\"default\":0,\"kind\":null,\"name\":\"close_modal\"}]}],\"roots\":{\"references\":[{\"attributes\":{\"line_alpha\":0.2,\"line_color\":\"#9467bd\",\"line_width\":2,\"x\":{\"field\":\"coin_id\"},\"y\":{\"field\":\"value\"}},\"id\":\"1204\",\"type\":\"Line\"},{\"attributes\":{},\"id\":\"1043\",\"type\":\"CategoricalTickFormatter\"},{\"attributes\":{},\"id\":\"1164\",\"type\":\"UnionRenderers\"},{\"attributes\":{},\"id\":\"1226\",\"type\":\"UnionRenderers\"},{\"attributes\":{\"coordinates\":null,\"data_source\":{\"id\":\"1169\"},\"glyph\":{\"id\":\"1172\"},\"group\":null,\"hover_glyph\":null,\"muted_glyph\":{\"id\":\"1174\"},\"nonselection_glyph\":{\"id\":\"1173\"},\"selection_glyph\":{\"id\":\"1198\"},\"view\":{\"id\":\"1176\"}},\"id\":\"1175\",\"type\":\"GlyphRenderer\"},{\"attributes\":{\"label\":{\"value\":\"price_change_percentage_24h\"},\"renderers\":[{\"id\":\"1054\"}]},\"id\":\"1067\",\"type\":\"LegendItem\"},{\"attributes\":{\"label\":{\"value\":\"price_change_percentage_14d\"},\"renderers\":[{\"id\":\"1097\"}]},\"id\":\"1113\",\"type\":\"LegendItem\"},{\"attributes\":{\"source\":{\"id\":\"1199\"}},\"id\":\"1206\",\"type\":\"CDSView\"},{\"attributes\":{\"source\":{\"id\":\"1169\"}},\"id\":\"1176\",\"type\":\"CDSView\"},{\"attributes\":{},\"id\":\"1110\",\"type\":\"UnionRenderers\"},{\"attributes\":{\"line_color\":\"#17becf\",\"line_width\":2,\"x\":{\"field\":\"coin_id\"},\"y\":{\"field\":\"value\"}},\"id\":\"1198\",\"type\":\"Line\"},{\"attributes\":{\"line_color\":\"#6d904f\",\"line_width\":2,\"x\":{\"field\":\"coin_id\"},\"y\":{\"field\":\"value\"}},\"id\":\"1140\",\"type\":\"Line\"},{\"attributes\":{},\"id\":\"1029\",\"type\":\"SaveTool\"},{\"attributes\":{},\"id\":\"1044\",\"type\":\"AllLabels\"},{\"attributes\":{},\"id\":\"1020\",\"type\":\"LinearScale\"},{\"attributes\":{\"coordinates\":null,\"data_source\":{\"id\":\"1048\"},\"glyph\":{\"id\":\"1051\"},\"group\":null,\"hover_glyph\":null,\"muted_glyph\":{\"id\":\"1053\"},\"nonselection_glyph\":{\"id\":\"1052\"},\"selection_glyph\":{\"id\":\"1068\"},\"view\":{\"id\":\"1055\"}},\"id\":\"1054\",\"type\":\"GlyphRenderer\"},{\"attributes\":{\"coordinates\":null,\"data_source\":{\"id\":\"1199\"},\"glyph\":{\"id\":\"1202\"},\"group\":null,\"hover_glyph\":null,\"muted_glyph\":{\"id\":\"1204\"},\"nonselection_glyph\":{\"id\":\"1203\"},\"selection_glyph\":{\"id\":\"1230\"},\"view\":{\"id\":\"1206\"}},\"id\":\"1205\",\"type\":\"GlyphRenderer\"},{\"attributes\":{\"line_color\":\"#30a2da\",\"line_width\":2,\"x\":{\"field\":\"coin_id\"},\"y\":{\"field\":\"value\"}},\"id\":\"1051\",\"type\":\"Line\"},{\"attributes\":{\"line_color\":\"#30a2da\",\"line_width\":2,\"x\":{\"field\":\"coin_id\"},\"y\":{\"field\":\"value\"}},\"id\":\"1068\",\"type\":\"Line\"},{\"attributes\":{\"source\":{\"id\":\"1141\"}},\"id\":\"1148\",\"type\":\"CDSView\"},{\"attributes\":{\"line_color\":\"#9467bd\",\"line_width\":2,\"x\":{\"field\":\"coin_id\"},\"y\":{\"field\":\"value\"}},\"id\":\"1202\",\"type\":\"Line\"},{\"attributes\":{\"data\":{\"Variable\":[\"price_change_percentage_60d\",\"price_change_percentage_60d\",\"price_change_percentage_60d\",\"price_change_percentage_60d\",\"price_change_percentage_60d\",\"price_change_percentage_60d\",\"price_change_percentage_60d\",\"price_change_percentage_60d\",\"price_change_percentage_60d\",\"price_change_percentage_60d\",\"price_change_percentage_60d\",\"price_change_percentage_60d\",\"price_change_percentage_60d\",\"price_change_percentage_60d\",\"price_change_percentage_60d\",\"price_change_percentage_60d\",\"price_change_percentage_60d\",\"price_change_percentage_60d\",\"price_change_percentage_60d\",\"price_change_percentage_60d\",\"price_change_percentage_60d\",\"price_change_percentage_60d\",\"price_change_percentage_60d\",\"price_change_percentage_60d\",\"price_change_percentage_60d\",\"price_change_percentage_60d\",\"price_change_percentage_60d\",\"price_change_percentage_60d\",\"price_change_percentage_60d\",\"price_change_percentage_60d\",\"price_change_percentage_60d\",\"price_change_percentage_60d\",\"price_change_percentage_60d\",\"price_change_percentage_60d\",\"price_change_percentage_60d\",\"price_change_percentage_60d\",\"price_change_percentage_60d\",\"price_change_percentage_60d\",\"price_change_percentage_60d\",\"price_change_percentage_60d\",\"price_change_percentage_60d\"],\"coin_id\":[\"bitcoin\",\"ethereum\",\"tether\",\"ripple\",\"bitcoin-cash\",\"binancecoin\",\"chainlink\",\"cardano\",\"litecoin\",\"bitcoin-cash-sv\",\"crypto-com-chain\",\"usd-coin\",\"eos\",\"monero\",\"tron\",\"tezos\",\"okb\",\"stellar\",\"cosmos\",\"cdai\",\"neo\",\"wrapped-bitcoin\",\"leo-token\",\"huobi-token\",\"nem\",\"binance-usd\",\"iota\",\"vechain\",\"zcash\",\"theta-token\",\"dash\",\"ethereum-classic\",\"ethlend\",\"maker\",\"havven\",\"omisego\",\"celsius-degree-token\",\"ontology\",\"ftx-token\",\"true-usd\",\"digibyte\"],\"value\":{\"__ndarray__\":\"FvvL7skDCsAs1JrmHccpwKjjMQOV8dE/2qz6XG2NMcBzol2FlG8rwIleRrHcKkJAN8MN+PzYRcBi26LMBtk2wCEf9GxWPTHAq5UJv9TfOMBg5dAi23kwwDygbMoV3qU/l631RUIrPsDNzMzMzNxEQJm7lpAPGhZAms5OBkdpRsBKe4MvTKYGwEsfuqC+zT7APL1SliHOHMC4AZ8fRgjlP9L7xteeCStAFqQZi6azDMCvJeSDni0ewDeOWItPQQvAXvQVpBm3VEDaOGItPgW4PwpLPKBsQkHAaw4QzNHPRcAJM23/yoo0wBmQvd79AVRAfa62Yn85OsBVGFsIcug5wLCsNCkFHQFA529CIQKeMsA0uoPYmbZDwPKwUGua0VNA/pqsUQ/ia0Ao8iTpmllAwFuxv+yenBdAmrFoOjsZ0D8s1JrmHRc/wA==\",\"dtype\":\"float64\",\"order\":\"little\",\"shape\":[41]}},\"selected\":{\"id\":\"1142\"},\"selection_policy\":{\"id\":\"1164\"}},\"id\":\"1141\",\"type\":\"ColumnDataSource\"},{\"attributes\":{},\"id\":\"1047\",\"type\":\"AllLabels\"},{\"attributes\":{},\"id\":\"1046\",\"type\":\"BasicTickFormatter\"},{\"attributes\":{\"axis_label\":\"\",\"coordinates\":null,\"formatter\":{\"id\":\"1046\"},\"group\":null,\"major_label_policy\":{\"id\":\"1047\"},\"ticker\":{\"id\":\"1026\"}},\"id\":\"1025\",\"type\":\"LinearAxis\"},{\"attributes\":{\"source\":{\"id\":\"1048\"}},\"id\":\"1055\",\"type\":\"CDSView\"},{\"attributes\":{\"label\":{\"value\":\"price_change_percentage_1y\"},\"renderers\":[{\"id\":\"1205\"}]},\"id\":\"1229\",\"type\":\"LegendItem\"},{\"attributes\":{\"axis\":{\"id\":\"1022\"},\"coordinates\":null,\"grid_line_color\":null,\"group\":null,\"ticker\":null},\"id\":\"1024\",\"type\":\"Grid\"},{\"attributes\":{\"label\":{\"value\":\"price_change_percentage_60d\"},\"renderers\":[{\"id\":\"1147\"}]},\"id\":\"1167\",\"type\":\"LegendItem\"},{\"attributes\":{\"data\":{\"Variable\":[\"price_change_percentage_7d\",\"price_change_percentage_7d\",\"price_change_percentage_7d\",\"price_change_percentage_7d\",\"price_change_percentage_7d\",\"price_change_percentage_7d\",\"price_change_percentage_7d\",\"price_change_percentage_7d\",\"price_change_percentage_7d\",\"price_change_percentage_7d\",\"price_change_percentage_7d\",\"price_change_percentage_7d\",\"price_change_percentage_7d\",\"price_change_percentage_7d\",\"price_change_percentage_7d\",\"price_change_percentage_7d\",\"price_change_percentage_7d\",\"price_change_percentage_7d\",\"price_change_percentage_7d\",\"price_change_percentage_7d\",\"price_change_percentage_7d\",\"price_change_percentage_7d\",\"price_change_percentage_7d\",\"price_change_percentage_7d\",\"price_change_percentage_7d\",\"price_change_percentage_7d\",\"price_change_percentage_7d\",\"price_change_percentage_7d\",\"price_change_percentage_7d\",\"price_change_percentage_7d\",\"price_change_percentage_7d\",\"price_change_percentage_7d\",\"price_change_percentage_7d\",\"price_change_percentage_7d\",\"price_change_percentage_7d\",\"price_change_percentage_7d\",\"price_change_percentage_7d\",\"price_change_percentage_7d\",\"price_change_percentage_7d\",\"price_change_percentage_7d\",\"price_change_percentage_7d\"],\"coin_id\":[\"bitcoin\",\"ethereum\",\"tether\",\"ripple\",\"bitcoin-cash\",\"binancecoin\",\"chainlink\",\"cardano\",\"litecoin\",\"bitcoin-cash-sv\",\"crypto-com-chain\",\"usd-coin\",\"eos\",\"monero\",\"tron\",\"tezos\",\"okb\",\"stellar\",\"cosmos\",\"cdai\",\"neo\",\"wrapped-bitcoin\",\"leo-token\",\"huobi-token\",\"nem\",\"binance-usd\",\"iota\",\"vechain\",\"zcash\",\"theta-token\",\"dash\",\"ethereum-classic\",\"ethlend\",\"maker\",\"havven\",\"omisego\",\"celsius-degree-token\",\"ontology\",\"ftx-token\",\"true-usd\",\"digibyte\"],\"value\":{\"__ndarray__\":\"RbsKKT9pHkAzUBn/PsMkQL99HThnRKk/yVnY0w5/47/+JhQi4BgxQBL3WPrQtSlA7yB2ptCxNEA/jBAebfwrQPFL/bypaBpArKjBNAxfCkByv0NRoK8WwPlJtU/HY76/lPsdigL99L+n6Egu/5EvQE1KQbeX9BBA0m9fB87pIUBlU67wLjcSwKbtX1lpkgBAZwqd19gVMEBcIEHxY8ytP3wnZr0YigNAOh4zUBmfHUD3Hi457pT1vzNQGf8+4/k/kQ96Nqs+6781Y9F0djKoP2dEaW/wRRhAgXhdv2A3/L/8GHPXErIkQP8JLlbUYBjAVU0QdR9gFEDRlnMprmoIQGCrBIvD2RBAAiuHFtlOIECbG9MTllgRQKhXyjLEURtAqn06HjNQ4z+UvDrHgGzzvwltOZfiahxAsD2zJEBNxT8yj/zBwHPlPw==\",\"dtype\":\"float64\",\"order\":\"little\",\"shape\":[41]}},\"selected\":{\"id\":\"1070\"},\"selection_policy\":{\"id\":\"1086\"}},\"id\":\"1069\",\"type\":\"ColumnDataSource\"},{\"attributes\":{\"children\":[{\"id\":\"1003\"},{\"id\":\"1013\"},{\"id\":\"1253\"}],\"margin\":[0,0,0,0],\"name\":\"Row00998\",\"tags\":[\"embedded\"]},\"id\":\"1002\",\"type\":\"Row\"},{\"attributes\":{\"line_alpha\":0.2,\"line_color\":\"#17becf\",\"line_width\":2,\"x\":{\"field\":\"coin_id\"},\"y\":{\"field\":\"value\"}},\"id\":\"1174\",\"type\":\"Line\"},{\"attributes\":{\"line_alpha\":0.1,\"line_color\":\"#fc4f30\",\"line_width\":2,\"x\":{\"field\":\"coin_id\"},\"y\":{\"field\":\"value\"}},\"id\":\"1073\",\"type\":\"Line\"},{\"attributes\":{\"line_alpha\":0.2,\"line_color\":\"#8b8b8b\",\"line_width\":2,\"x\":{\"field\":\"coin_id\"},\"y\":{\"field\":\"value\"}},\"id\":\"1146\",\"type\":\"Line\"},{\"attributes\":{\"line_alpha\":0.1,\"line_color\":\"#9467bd\",\"line_width\":2,\"x\":{\"field\":\"coin_id\"},\"y\":{\"field\":\"value\"}},\"id\":\"1203\",\"type\":\"Line\"},{\"attributes\":{\"overlay\":{\"id\":\"1034\"}},\"id\":\"1032\",\"type\":\"BoxZoomTool\"},{\"attributes\":{\"data\":{\"Variable\":[\"price_change_percentage_24h\",\"price_change_percentage_24h\",\"price_change_percentage_24h\",\"price_change_percentage_24h\",\"price_change_percentage_24h\",\"price_change_percentage_24h\",\"price_change_percentage_24h\",\"price_change_percentage_24h\",\"price_change_percentage_24h\",\"price_change_percentage_24h\",\"price_change_percentage_24h\",\"price_change_percentage_24h\",\"price_change_percentage_24h\",\"price_change_percentage_24h\",\"price_change_percentage_24h\",\"price_change_percentage_24h\",\"price_change_percentage_24h\",\"price_change_percentage_24h\",\"price_change_percentage_24h\",\"price_change_percentage_24h\",\"price_change_percentage_24h\",\"price_change_percentage_24h\",\"price_change_percentage_24h\",\"price_change_percentage_24h\",\"price_change_percentage_24h\",\"price_change_percentage_24h\",\"price_change_percentage_24h\",\"price_change_percentage_24h\",\"price_change_percentage_24h\",\"price_change_percentage_24h\",\"price_change_percentage_24h\",\"price_change_percentage_24h\",\"price_change_percentage_24h\",\"price_change_percentage_24h\",\"price_change_percentage_24h\",\"price_change_percentage_24h\",\"price_change_percentage_24h\",\"price_change_percentage_24h\",\"price_change_percentage_24h\",\"price_change_percentage_24h\",\"price_change_percentage_24h\"],\"coin_id\":[\"bitcoin\",\"ethereum\",\"tether\",\"ripple\",\"bitcoin-cash\",\"binancecoin\",\"chainlink\",\"cardano\",\"litecoin\",\"bitcoin-cash-sv\",\"crypto-com-chain\",\"usd-coin\",\"eos\",\"monero\",\"tron\",\"tezos\",\"okb\",\"stellar\",\"cosmos\",\"cdai\",\"neo\",\"wrapped-bitcoin\",\"leo-token\",\"huobi-token\",\"nem\",\"binance-usd\",\"iota\",\"vechain\",\"zcash\",\"theta-token\",\"dash\",\"ethereum-classic\",\"ethlend\",\"maker\",\"havven\",\"omisego\",\"celsius-degree-token\",\"ontology\",\"ftx-token\",\"true-usd\",\"digibyte\"],\"value\":{\"__ndarray__\":\"nZ0MjpJX8T8MzXUaaanMP5mByvj3Gcu/wCZr1EM02L8ep+hILj8HQL0Yyol21QBAwhcmUwWjzr//CS5W1GBqP7JGPUSjO7C/QKTfvg6c7T8urYbEPZbjPzeJQWDl0Ma/1pC4x9KHwj87NgLxun7bP90HILWJk7M/JjYf14aK5b83iUFg5dAFwG3i5H6HIvC/5nlwd9Zu7r9i83FtqBjLP+iHEcKjjd8/M9yAzw+j8T/fGtgqweLAv+RmuAGfH9q/UdobfGEy678D7KNTVz67v8YzaOif4No/teBFX0Ga9D8G2Eenrnzjvx+duvJZPhLAoMN8eQH28L+cxCCwcmjdv667eapDDivAX5hMFYxK479EUaBP5EkQwAZkr3d/XBNA0JuKVBgbBEDqBDQRNrz1vxo09E9wseo/tI6qJoi6r79qMA3DR8QHQA==\",\"dtype\":\"float64\",\"order\":\"little\",\"shape\":[41]}},\"selected\":{\"id\":\"1049\"},\"selection_policy\":{\"id\":\"1063\"}},\"id\":\"1048\",\"type\":\"ColumnDataSource\"},{\"attributes\":{\"coordinates\":null,\"data_source\":{\"id\":\"1115\"},\"glyph\":{\"id\":\"1118\"},\"group\":null,\"hover_glyph\":null,\"muted_glyph\":{\"id\":\"1120\"},\"nonselection_glyph\":{\"id\":\"1119\"},\"selection_glyph\":{\"id\":\"1140\"},\"view\":{\"id\":\"1122\"}},\"id\":\"1121\",\"type\":\"GlyphRenderer\"},{\"attributes\":{\"click_policy\":\"mute\",\"coordinates\":null,\"group\":null,\"items\":[{\"id\":\"1067\"},{\"id\":\"1089\"},{\"id\":\"1113\"},{\"id\":\"1139\"},{\"id\":\"1167\"},{\"id\":\"1197\"},{\"id\":\"1229\"}],\"location\":[0,0],\"title\":\"Variable\"},\"id\":\"1066\",\"type\":\"Legend\"},{\"attributes\":{\"line_alpha\":0.1,\"line_color\":\"#17becf\",\"line_width\":2,\"x\":{\"field\":\"coin_id\"},\"y\":{\"field\":\"value\"}},\"id\":\"1173\",\"type\":\"Line\"},{\"attributes\":{\"data\":{\"Variable\":[\"price_change_percentage_200d\",\"price_change_percentage_200d\",\"price_change_percentage_200d\",\"price_change_percentage_200d\",\"price_change_percentage_200d\",\"price_change_percentage_200d\",\"price_change_percentage_200d\",\"price_change_percentage_200d\",\"price_change_percentage_200d\",\"price_change_percentage_200d\",\"price_change_percentage_200d\",\"price_change_percentage_200d\",\"price_change_percentage_200d\",\"price_change_percentage_200d\",\"price_change_percentage_200d\",\"price_change_percentage_200d\",\"price_change_percentage_200d\",\"price_change_percentage_200d\",\"price_change_percentage_200d\",\"price_change_percentage_200d\",\"price_change_percentage_200d\",\"price_change_percentage_200d\",\"price_change_percentage_200d\",\"price_change_percentage_200d\",\"price_change_percentage_200d\",\"price_change_percentage_200d\",\"price_change_percentage_200d\",\"price_change_percentage_200d\",\"price_change_percentage_200d\",\"price_change_percentage_200d\",\"price_change_percentage_200d\",\"price_change_percentage_200d\",\"price_change_percentage_200d\",\"price_change_percentage_200d\",\"price_change_percentage_200d\",\"price_change_percentage_200d\",\"price_change_percentage_200d\",\"price_change_percentage_200d\",\"price_change_percentage_200d\",\"price_change_percentage_200d\",\"price_change_percentage_200d\"],\"coin_id\":[\"bitcoin\",\"ethereum\",\"tether\",\"ripple\",\"bitcoin-cash\",\"binancecoin\",\"chainlink\",\"cardano\",\"litecoin\",\"bitcoin-cash-sv\",\"crypto-com-chain\",\"usd-coin\",\"eos\",\"monero\",\"tron\",\"tezos\",\"okb\",\"stellar\",\"cosmos\",\"cdai\",\"neo\",\"wrapped-bitcoin\",\"leo-token\",\"huobi-token\",\"nem\",\"binance-usd\",\"iota\",\"vechain\",\"zcash\",\"theta-token\",\"dash\",\"ethereum-classic\",\"ethlend\",\"maker\",\"havven\",\"omisego\",\"celsius-degree-token\",\"ontology\",\"ftx-token\",\"true-usd\",\"digibyte\"],\"value\":{\"__ndarray__\":\"xY8xdy3hVED0piIVxlhnQBe86CtIM3a/9zsUBfrEQ0DTn/1IEak1QPTDCOHRc2NAl3MprqozeUAexM4UOohwQIB9dOrKfztAFhiyutWzHUCN7iB2plZsQIQqNXugFcS/ZHWr56QPMkALe9rhrzBlQH+8V61MnGBA5nlwd9a2RUARHm0csfpDQC+Lic3HJ1VAkj8YeO4/Z0AOvjCZKhjZv2vUQzS61GNAtRX7y+75VEC5GW7A52cwQAPso1NXHkVAKa4q+64Fa0A7NgLxun65P+TaUDHOwVdAyM1wAz7bcEAFwHgGDaNeQH3Qs1k1lYtAOUVHcvnvGEANGvonuMgkQCYZOQvbZ6FAGD4ipkSiVED5MeauZXeDQHi0ccQaSoJAC170FcTYmEB1PGagMmJLQC2yne+nvkxAndfYJaq3tr9R9wFIbSl+QA==\",\"dtype\":\"float64\",\"order\":\"little\",\"shape\":[41]}},\"selected\":{\"id\":\"1170\"},\"selection_policy\":{\"id\":\"1194\"}},\"id\":\"1169\",\"type\":\"ColumnDataSource\"},{\"attributes\":{\"label\":{\"value\":\"price_change_percentage_200d\"},\"renderers\":[{\"id\":\"1175\"}]},\"id\":\"1197\",\"type\":\"LegendItem\"},{\"attributes\":{},\"id\":\"1031\",\"type\":\"WheelZoomTool\"},{\"attributes\":{\"line_alpha\":0.2,\"line_color\":\"#e5ae38\",\"line_width\":2,\"x\":{\"field\":\"coin_id\"},\"y\":{\"field\":\"value\"}},\"id\":\"1096\",\"type\":\"Line\"},{\"attributes\":{},\"id\":\"1170\",\"type\":\"Selection\"},{\"attributes\":{\"below\":[{\"id\":\"1022\"}],\"center\":[{\"id\":\"1024\"},{\"id\":\"1028\"}],\"height\":400,\"left\":[{\"id\":\"1025\"}],\"margin\":[5,5,5,5],\"min_border_bottom\":10,\"min_border_left\":10,\"min_border_right\":10,\"min_border_top\":10,\"renderers\":[{\"id\":\"1054\"},{\"id\":\"1075\"},{\"id\":\"1097\"},{\"id\":\"1121\"},{\"id\":\"1147\"},{\"id\":\"1175\"},{\"id\":\"1205\"}],\"right\":[{\"id\":\"1066\"}],\"sizing_mode\":\"fixed\",\"title\":{\"id\":\"1014\"},\"toolbar\":{\"id\":\"1035\"},\"width\":800,\"x_range\":{\"id\":\"1004\"},\"x_scale\":{\"id\":\"1018\"},\"y_range\":{\"id\":\"1005\"},\"y_scale\":{\"id\":\"1020\"}},\"id\":\"1013\",\"subtype\":\"Figure\",\"type\":\"Plot\"},{\"attributes\":{\"line_color\":\"#e5ae38\",\"line_width\":2,\"x\":{\"field\":\"coin_id\"},\"y\":{\"field\":\"value\"}},\"id\":\"1114\",\"type\":\"Line\"},{\"attributes\":{\"label\":{\"value\":\"price_change_percentage_7d\"},\"renderers\":[{\"id\":\"1075\"}]},\"id\":\"1089\",\"type\":\"LegendItem\"},{\"attributes\":{\"axis\":{\"id\":\"1025\"},\"coordinates\":null,\"dimension\":1,\"grid_line_color\":null,\"group\":null,\"ticker\":null},\"id\":\"1028\",\"type\":\"Grid\"},{\"attributes\":{\"coordinates\":null,\"data_source\":{\"id\":\"1069\"},\"glyph\":{\"id\":\"1072\"},\"group\":null,\"hover_glyph\":null,\"muted_glyph\":{\"id\":\"1074\"},\"nonselection_glyph\":{\"id\":\"1073\"},\"selection_glyph\":{\"id\":\"1090\"},\"view\":{\"id\":\"1076\"}},\"id\":\"1075\",\"type\":\"GlyphRenderer\"},{\"attributes\":{},\"id\":\"1194\",\"type\":\"UnionRenderers\"},{\"attributes\":{},\"id\":\"1049\",\"type\":\"Selection\"},{\"attributes\":{\"source\":{\"id\":\"1069\"}},\"id\":\"1076\",\"type\":\"CDSView\"},{\"attributes\":{},\"id\":\"1030\",\"type\":\"PanTool\"},{\"attributes\":{\"line_alpha\":0.2,\"line_color\":\"#fc4f30\",\"line_width\":2,\"x\":{\"field\":\"coin_id\"},\"y\":{\"field\":\"value\"}},\"id\":\"1074\",\"type\":\"Line\"},{\"attributes\":{\"coordinates\":null,\"data_source\":{\"id\":\"1141\"},\"glyph\":{\"id\":\"1144\"},\"group\":null,\"hover_glyph\":null,\"muted_glyph\":{\"id\":\"1146\"},\"nonselection_glyph\":{\"id\":\"1145\"},\"selection_glyph\":{\"id\":\"1168\"},\"view\":{\"id\":\"1148\"}},\"id\":\"1147\",\"type\":\"GlyphRenderer\"},{\"attributes\":{},\"id\":\"1070\",\"type\":\"Selection\"},{\"attributes\":{},\"id\":\"1136\",\"type\":\"UnionRenderers\"},{\"attributes\":{},\"id\":\"1116\",\"type\":\"Selection\"},{\"attributes\":{},\"id\":\"1086\",\"type\":\"UnionRenderers\"},{\"attributes\":{\"end\":8641.780918,\"reset_end\":8641.780918,\"reset_start\":-834.5136980000001,\"start\":-834.5136980000001,\"tags\":[[[\"value\",\"value\",null]]]},\"id\":\"1005\",\"type\":\"Range1d\"},{\"attributes\":{\"line_color\":\"#fc4f30\",\"line_width\":2,\"x\":{\"field\":\"coin_id\"},\"y\":{\"field\":\"value\"}},\"id\":\"1072\",\"type\":\"Line\"},{\"attributes\":{\"factors\":[\"bitcoin\",\"ethereum\",\"tether\",\"ripple\",\"bitcoin-cash\",\"binancecoin\",\"chainlink\",\"cardano\",\"litecoin\",\"bitcoin-cash-sv\",\"crypto-com-chain\",\"usd-coin\",\"eos\",\"monero\",\"tron\",\"tezos\",\"okb\",\"stellar\",\"cosmos\",\"cdai\",\"neo\",\"wrapped-bitcoin\",\"leo-token\",\"huobi-token\",\"nem\",\"binance-usd\",\"iota\",\"vechain\",\"zcash\",\"theta-token\",\"dash\",\"ethereum-classic\",\"ethlend\",\"maker\",\"havven\",\"omisego\",\"celsius-degree-token\",\"ontology\",\"ftx-token\",\"true-usd\",\"digibyte\"],\"tags\":[[[\"coin_id\",\"coin_id\",null]]]},\"id\":\"1004\",\"type\":\"FactorRange\"},{\"attributes\":{\"line_color\":\"#17becf\",\"line_width\":2,\"x\":{\"field\":\"coin_id\"},\"y\":{\"field\":\"value\"}},\"id\":\"1172\",\"type\":\"Line\"},{\"attributes\":{\"callback\":null,\"renderers\":[{\"id\":\"1054\"},{\"id\":\"1075\"},{\"id\":\"1097\"},{\"id\":\"1121\"},{\"id\":\"1147\"},{\"id\":\"1175\"},{\"id\":\"1205\"}],\"tags\":[\"hv_created\"],\"tooltips\":[[\"Variable\",\"@{Variable}\"],[\"coin_id\",\"@{coin_id}\"],[\"value\",\"@{value}\"]]},\"id\":\"1006\",\"type\":\"HoverTool\"},{\"attributes\":{\"line_color\":\"#8b8b8b\",\"line_width\":2,\"x\":{\"field\":\"coin_id\"},\"y\":{\"field\":\"value\"}},\"id\":\"1168\",\"type\":\"Line\"},{\"attributes\":{\"line_color\":\"#9467bd\",\"line_width\":2,\"x\":{\"field\":\"coin_id\"},\"y\":{\"field\":\"value\"}},\"id\":\"1230\",\"type\":\"Line\"},{\"attributes\":{},\"id\":\"1026\",\"type\":\"BasicTicker\"},{\"attributes\":{\"line_alpha\":0.1,\"line_color\":\"#30a2da\",\"line_width\":2,\"x\":{\"field\":\"coin_id\"},\"y\":{\"field\":\"value\"}},\"id\":\"1052\",\"type\":\"Line\"},{\"attributes\":{\"line_alpha\":0.2,\"line_color\":\"#30a2da\",\"line_width\":2,\"x\":{\"field\":\"coin_id\"},\"y\":{\"field\":\"value\"}},\"id\":\"1053\",\"type\":\"Line\"},{\"attributes\":{\"margin\":[5,5,5,5],\"name\":\"HSpacer01003\",\"sizing_mode\":\"stretch_width\"},\"id\":\"1253\",\"type\":\"Spacer\"},{\"attributes\":{},\"id\":\"1200\",\"type\":\"Selection\"},{\"attributes\":{\"bottom_units\":\"screen\",\"coordinates\":null,\"fill_alpha\":0.5,\"fill_color\":\"lightgrey\",\"group\":null,\"left_units\":\"screen\",\"level\":\"overlay\",\"line_alpha\":1.0,\"line_color\":\"black\",\"line_dash\":[4,4],\"line_width\":2,\"right_units\":\"screen\",\"syncable\":false,\"top_units\":\"screen\"},\"id\":\"1034\",\"type\":\"BoxAnnotation\"},{\"attributes\":{\"coordinates\":null,\"group\":null,\"text_color\":\"black\",\"text_font_size\":\"12pt\"},\"id\":\"1014\",\"type\":\"Title\"},{\"attributes\":{\"axis_label\":\"coin_id\",\"coordinates\":null,\"formatter\":{\"id\":\"1043\"},\"group\":null,\"major_label_orientation\":1.5707963267948966,\"major_label_policy\":{\"id\":\"1044\"},\"ticker\":{\"id\":\"1023\"}},\"id\":\"1022\",\"type\":\"CategoricalAxis\"},{\"attributes\":{},\"id\":\"1018\",\"type\":\"CategoricalScale\"},{\"attributes\":{\"tools\":[{\"id\":\"1006\"},{\"id\":\"1029\"},{\"id\":\"1030\"},{\"id\":\"1031\"},{\"id\":\"1032\"},{\"id\":\"1033\"}]},\"id\":\"1035\",\"type\":\"Toolbar\"},{\"attributes\":{\"margin\":[5,5,5,5],\"name\":\"HSpacer01002\",\"sizing_mode\":\"stretch_width\"},\"id\":\"1003\",\"type\":\"Spacer\"},{\"attributes\":{\"line_alpha\":0.1,\"line_color\":\"#e5ae38\",\"line_width\":2,\"x\":{\"field\":\"coin_id\"},\"y\":{\"field\":\"value\"}},\"id\":\"1095\",\"type\":\"Line\"},{\"attributes\":{\"line_color\":\"#fc4f30\",\"line_width\":2,\"x\":{\"field\":\"coin_id\"},\"y\":{\"field\":\"value\"}},\"id\":\"1090\",\"type\":\"Line\"},{\"attributes\":{\"label\":{\"value\":\"price_change_percentage_30d\"},\"renderers\":[{\"id\":\"1121\"}]},\"id\":\"1139\",\"type\":\"LegendItem\"},{\"attributes\":{\"line_alpha\":0.1,\"line_color\":\"#6d904f\",\"line_width\":2,\"x\":{\"field\":\"coin_id\"},\"y\":{\"field\":\"value\"}},\"id\":\"1119\",\"type\":\"Line\"},{\"attributes\":{},\"id\":\"1063\",\"type\":\"UnionRenderers\"},{\"attributes\":{\"source\":{\"id\":\"1115\"}},\"id\":\"1122\",\"type\":\"CDSView\"},{\"attributes\":{\"line_alpha\":0.1,\"line_color\":\"#8b8b8b\",\"line_width\":2,\"x\":{\"field\":\"coin_id\"},\"y\":{\"field\":\"value\"}},\"id\":\"1145\",\"type\":\"Line\"},{\"attributes\":{\"line_color\":\"#8b8b8b\",\"line_width\":2,\"x\":{\"field\":\"coin_id\"},\"y\":{\"field\":\"value\"}},\"id\":\"1144\",\"type\":\"Line\"},{\"attributes\":{\"data\":{\"Variable\":[\"price_change_percentage_30d\",\"price_change_percentage_30d\",\"price_change_percentage_30d\",\"price_change_percentage_30d\",\"price_change_percentage_30d\",\"price_change_percentage_30d\",\"price_change_percentage_30d\",\"price_change_percentage_30d\",\"price_change_percentage_30d\",\"price_change_percentage_30d\",\"price_change_percentage_30d\",\"price_change_percentage_30d\",\"price_change_percentage_30d\",\"price_change_percentage_30d\",\"price_change_percentage_30d\",\"price_change_percentage_30d\",\"price_change_percentage_30d\",\"price_change_percentage_30d\",\"price_change_percentage_30d\",\"price_change_percentage_30d\",\"price_change_percentage_30d\",\"price_change_percentage_30d\",\"price_change_percentage_30d\",\"price_change_percentage_30d\",\"price_change_percentage_30d\",\"price_change_percentage_30d\",\"price_change_percentage_30d\",\"price_change_percentage_30d\",\"price_change_percentage_30d\",\"price_change_percentage_30d\",\"price_change_percentage_30d\",\"price_change_percentage_30d\",\"price_change_percentage_30d\",\"price_change_percentage_30d\",\"price_change_percentage_30d\",\"price_change_percentage_30d\",\"price_change_percentage_30d\",\"price_change_percentage_30d\",\"price_change_percentage_30d\",\"price_change_percentage_30d\",\"price_change_percentage_30d\"],\"coin_id\":[\"bitcoin\",\"ethereum\",\"tether\",\"ripple\",\"bitcoin-cash\",\"binancecoin\",\"chainlink\",\"cardano\",\"litecoin\",\"bitcoin-cash-sv\",\"crypto-com-chain\",\"usd-coin\",\"eos\",\"monero\",\"tron\",\"tezos\",\"okb\",\"stellar\",\"cosmos\",\"cdai\",\"neo\",\"wrapped-bitcoin\",\"leo-token\",\"huobi-token\",\"nem\",\"binance-usd\",\"iota\",\"vechain\",\"zcash\",\"theta-token\",\"dash\",\"ethereum-classic\",\"ethlend\",\"maker\",\"havven\",\"omisego\",\"celsius-degree-token\",\"ontology\",\"ftx-token\",\"true-usd\",\"digibyte\"],\"value\":{\"__ndarray__\":\"VMa/z7iwHkAl6ZrJN9vAP/28qUiFsaW/L26jAbwFzj8dcjPcgH8vQPMf0m9fB64/5bhTOlhvJsBnfjUHCDYkQGWNeohGd/M/sCDNWDQdB0Cmft5UpHIxwJgvL8A+OsW/t0WZDTKJEsDeVKTC2HpDQEzD8BExNSnAjWK5pdVALMDjjcwjf+AkwIrIsIo3QiDAjliLTwFQEkAWpBmLpnMBwE3WqIdo9DXAVG8NbJWAHUAnMQisHJoIQGA8g4b+CQrACcTr+gU7DcCPpQ9dUN+SP80Bgjl6nBDA9S1zuixWLMBC7Eyh83odQEku/yH9bj9AtTf4wmQqH8Am/FI/byoHQNjYJaq3/j3A9GxWfa62MECdRloqb9c0wF4R/G8lOyLArK3YX3aZYUC1/SsrTVpBwP/PYb68ICXAFR3J5T+knz+ndLD+z4EqQA==\",\"dtype\":\"float64\",\"order\":\"little\",\"shape\":[41]}},\"selected\":{\"id\":\"1116\"},\"selection_policy\":{\"id\":\"1136\"}},\"id\":\"1115\",\"type\":\"ColumnDataSource\"},{\"attributes\":{\"coordinates\":null,\"data_source\":{\"id\":\"1091\"},\"glyph\":{\"id\":\"1094\"},\"group\":null,\"hover_glyph\":null,\"muted_glyph\":{\"id\":\"1096\"},\"nonselection_glyph\":{\"id\":\"1095\"},\"selection_glyph\":{\"id\":\"1114\"},\"view\":{\"id\":\"1098\"}},\"id\":\"1097\",\"type\":\"GlyphRenderer\"},{\"attributes\":{},\"id\":\"1142\",\"type\":\"Selection\"},{\"attributes\":{},\"id\":\"1023\",\"type\":\"CategoricalTicker\"},{\"attributes\":{},\"id\":\"1092\",\"type\":\"Selection\"},{\"attributes\":{\"data\":{\"Variable\":[\"price_change_percentage_14d\",\"price_change_percentage_14d\",\"price_change_percentage_14d\",\"price_change_percentage_14d\",\"price_change_percentage_14d\",\"price_change_percentage_14d\",\"price_change_percentage_14d\",\"price_change_percentage_14d\",\"price_change_percentage_14d\",\"price_change_percentage_14d\",\"price_change_percentage_14d\",\"price_change_percentage_14d\",\"price_change_percentage_14d\",\"price_change_percentage_14d\",\"price_change_percentage_14d\",\"price_change_percentage_14d\",\"price_change_percentage_14d\",\"price_change_percentage_14d\",\"price_change_percentage_14d\",\"price_change_percentage_14d\",\"price_change_percentage_14d\",\"price_change_percentage_14d\",\"price_change_percentage_14d\",\"price_change_percentage_14d\",\"price_change_percentage_14d\",\"price_change_percentage_14d\",\"price_change_percentage_14d\",\"price_change_percentage_14d\",\"price_change_percentage_14d\",\"price_change_percentage_14d\",\"price_change_percentage_14d\",\"price_change_percentage_14d\",\"price_change_percentage_14d\",\"price_change_percentage_14d\",\"price_change_percentage_14d\",\"price_change_percentage_14d\",\"price_change_percentage_14d\",\"price_change_percentage_14d\",\"price_change_percentage_14d\",\"price_change_percentage_14d\",\"price_change_percentage_14d\"],\"coin_id\":[\"bitcoin\",\"ethereum\",\"tether\",\"ripple\",\"bitcoin-cash\",\"binancecoin\",\"chainlink\",\"cardano\",\"litecoin\",\"bitcoin-cash-sv\",\"crypto-com-chain\",\"usd-coin\",\"eos\",\"monero\",\"tron\",\"tezos\",\"okb\",\"stellar\",\"cosmos\",\"cdai\",\"neo\",\"wrapped-bitcoin\",\"leo-token\",\"huobi-token\",\"nem\",\"binance-usd\",\"iota\",\"vechain\",\"zcash\",\"theta-token\",\"dash\",\"ethereum-classic\",\"ethlend\",\"maker\",\"havven\",\"omisego\",\"celsius-degree-token\",\"ontology\",\"ftx-token\",\"true-usd\",\"digibyte\"],\"value\":{\"__ndarray__\":\"zQaZZORMGkB5knTN5DsTQC1DHOviNno/ctwpHaz/AUCLic3HtYEtQJgvL8A+OhtACoDxDBqaIkAOhGQBEzgWQICfceFAKB1AIVnABG7d/b8xsfm4NhQhwGtI3GPpQ3e/pfeNrz0z8j8ao3VUNWkyQBUA4xk0dPY/VIzzN6GQAkCXrfVFQhsUwKpla32RUPG/Qgkzbf8KFkDPg7uzdtvFP8MN+PwwsiPAYFlpUgo6GkB3+GuyRh0cwM2v5gDBHN0/jliLTwEwBUDWrZ6T3jeuP7pOIy2VNw7Am1Wfq60oMsAJM23/yioXQJfK2xFOSxrAQE0tW+uL4D9OucK7XET0v0SLbOf7mSPA/pqsUQ/R978vaYzWUZUqwDtT6LzGbirAvodLjjs9OEByUMJM2x8lwJ30vvG1Z8q/ZCMQr+sXvD+7D0BqE0cdwA==\",\"dtype\":\"float64\",\"order\":\"little\",\"shape\":[41]}},\"selected\":{\"id\":\"1092\"},\"selection_policy\":{\"id\":\"1110\"}},\"id\":\"1091\",\"type\":\"ColumnDataSource\"},{\"attributes\":{\"line_alpha\":0.2,\"line_color\":\"#6d904f\",\"line_width\":2,\"x\":{\"field\":\"coin_id\"},\"y\":{\"field\":\"value\"}},\"id\":\"1120\",\"type\":\"Line\"},{\"attributes\":{\"line_color\":\"#6d904f\",\"line_width\":2,\"x\":{\"field\":\"coin_id\"},\"y\":{\"field\":\"value\"}},\"id\":\"1118\",\"type\":\"Line\"},{\"attributes\":{\"data\":{\"Variable\":[\"price_change_percentage_1y\",\"price_change_percentage_1y\",\"price_change_percentage_1y\",\"price_change_percentage_1y\",\"price_change_percentage_1y\",\"price_change_percentage_1y\",\"price_change_percentage_1y\",\"price_change_percentage_1y\",\"price_change_percentage_1y\",\"price_change_percentage_1y\",\"price_change_percentage_1y\",\"price_change_percentage_1y\",\"price_change_percentage_1y\",\"price_change_percentage_1y\",\"price_change_percentage_1y\",\"price_change_percentage_1y\",\"price_change_percentage_1y\",\"price_change_percentage_1y\",\"price_change_percentage_1y\",\"price_change_percentage_1y\",\"price_change_percentage_1y\",\"price_change_percentage_1y\",\"price_change_percentage_1y\",\"price_change_percentage_1y\",\"price_change_percentage_1y\",\"price_change_percentage_1y\",\"price_change_percentage_1y\",\"price_change_percentage_1y\",\"price_change_percentage_1y\",\"price_change_percentage_1y\",\"price_change_percentage_1y\",\"price_change_percentage_1y\",\"price_change_percentage_1y\",\"price_change_percentage_1y\",\"price_change_percentage_1y\",\"price_change_percentage_1y\",\"price_change_percentage_1y\",\"price_change_percentage_1y\",\"price_change_percentage_1y\",\"price_change_percentage_1y\",\"price_change_percentage_1y\"],\"coin_id\":[\"bitcoin\",\"ethereum\",\"tether\",\"ripple\",\"bitcoin-cash\",\"binancecoin\",\"chainlink\",\"cardano\",\"litecoin\",\"bitcoin-cash-sv\",\"crypto-com-chain\",\"usd-coin\",\"eos\",\"monero\",\"tron\",\"tezos\",\"okb\",\"stellar\",\"cosmos\",\"cdai\",\"neo\",\"wrapped-bitcoin\",\"leo-token\",\"huobi-token\",\"nem\",\"binance-usd\",\"iota\",\"vechain\",\"zcash\",\"theta-token\",\"dash\",\"ethereum-classic\",\"ethlend\",\"maker\",\"havven\",\"omisego\",\"celsius-degree-token\",\"ontology\",\"ftx-token\",\"true-usd\",\"digibyte\"],\"value\":{\"__ndarray__\":\"kQpjC0HCQkDWqIdodH1ZQN/42jNLApQ/NXugFRiaMMDN6bKY2PwsQOcdp+hIbFFAaTo7GRxSdEC6LCY2H4NjQPnaM0sCVCnA0NA/wcVuV0CQvd798RBzQL4wmSoYlci/t39lpUmRMcDovMYuUaFhQEPKT6p9nk1A6PaSxmiAYUBdUN8yp75hQMzuycNCnStAw7ZFmQ2cVEAHsTOFzmvSvx/0bFZ9aWBAhhvw+WHEQkAN/RNcrAA1QN8Vwf9WkjhAS7A4nPkWaUAVUn5S7dPBPzUk7rH04Q/AIsMq3shbaUBf0hito7hUQPyMCwcC64VAzsKedvirA8Dwoq8gzTgmQHRGlPYWrL5Ayk+qfTpOJUDfiVkvRjaFQEfJq3MMC3RAnFCIgONmn0CsVib8Uk8pwNttF5rrC2VAyXGndLD+2T/ZfFwbKgxnQA==\",\"dtype\":\"float64\",\"order\":\"little\",\"shape\":[41]}},\"selected\":{\"id\":\"1200\"},\"selection_policy\":{\"id\":\"1226\"}},\"id\":\"1199\",\"type\":\"ColumnDataSource\"},{\"attributes\":{},\"id\":\"1033\",\"type\":\"ResetTool\"},{\"attributes\":{\"line_color\":\"#e5ae38\",\"line_width\":2,\"x\":{\"field\":\"coin_id\"},\"y\":{\"field\":\"value\"}},\"id\":\"1094\",\"type\":\"Line\"},{\"attributes\":{\"source\":{\"id\":\"1091\"}},\"id\":\"1098\",\"type\":\"CDSView\"}],\"root_ids\":[\"1002\"]},\"title\":\"Bokeh Application\",\"version\":\"2.4.3\"}};\n",
       "    var render_items = [{\"docid\":\"a2eb8023-ce7e-4cd2-9ac0-0da4a54e67de\",\"root_ids\":[\"1002\"],\"roots\":{\"1002\":\"e8f8ea1d-d80a-4044-84c2-61c328fa2101\"}}];\n",
       "    root.Bokeh.embed.embed_items_notebook(docs_json, render_items);\n",
       "  }\n",
       "  if (root.Bokeh !== undefined && root.Bokeh.Panel !== undefined) {\n",
       "    embed_document(root);\n",
       "  } else {\n",
       "    var attempts = 0;\n",
       "    var timer = setInterval(function(root) {\n",
       "      if (root.Bokeh !== undefined && root.Bokeh.Panel !== undefined) {\n",
       "        clearInterval(timer);\n",
       "        embed_document(root);\n",
       "      } else if (document.readyState == \"complete\") {\n",
       "        attempts++;\n",
       "        if (attempts > 200) {\n",
       "          clearInterval(timer);\n",
       "          console.log(\"Bokeh: ERROR: Unable to run BokehJS code because BokehJS library is missing\");\n",
       "        }\n",
       "      }\n",
       "    }, 25, root)\n",
       "  }\n",
       "})(window);</script>"
      ],
      "text/plain": [
       ":NdOverlay   [Variable]\n",
       "   :Curve   [coin_id]   (value)"
      ]
     },
     "execution_count": 6,
     "metadata": {
      "application/vnd.holoviews_exec.v0+json": {
       "id": "1002"
      }
     },
     "output_type": "execute_result"
    }
   ],
   "source": [
    "# Plot your data to see what's in your DataFrame\n",
    "df_market_data.hvplot.line(\n",
    "    width=800,\n",
    "    height=400,\n",
    "    rot=90\n",
    ")"
   ]
  },
  {
   "attachments": {},
   "cell_type": "markdown",
   "metadata": {},
   "source": [
    "---"
   ]
  },
  {
   "attachments": {},
   "cell_type": "markdown",
   "metadata": {},
   "source": [
    "### Prepare the Data"
   ]
  },
  {
   "cell_type": "code",
   "execution_count": 7,
   "metadata": {},
   "outputs": [],
   "source": [
    "# Use the `StandardScaler()` module from scikit-learn to normalize the data from the CSV file\n",
    "scaled_market = StandardScaler().fit_transform(df_market_data)"
   ]
  },
  {
   "cell_type": "code",
   "execution_count": 8,
   "metadata": {},
   "outputs": [
    {
     "data": {
      "text/html": [
       "<div>\n",
       "<style scoped>\n",
       "    .dataframe tbody tr th:only-of-type {\n",
       "        vertical-align: middle;\n",
       "    }\n",
       "\n",
       "    .dataframe tbody tr th {\n",
       "        vertical-align: top;\n",
       "    }\n",
       "\n",
       "    .dataframe thead th {\n",
       "        text-align: right;\n",
       "    }\n",
       "</style>\n",
       "<table border=\"1\" class=\"dataframe\">\n",
       "  <thead>\n",
       "    <tr style=\"text-align: right;\">\n",
       "      <th></th>\n",
       "      <th>price_change_percentage_24h</th>\n",
       "      <th>price_change_percentage_7d</th>\n",
       "      <th>price_change_percentage_14d</th>\n",
       "      <th>price_change_percentage_30d</th>\n",
       "      <th>price_change_percentage_60d</th>\n",
       "      <th>price_change_percentage_200d</th>\n",
       "      <th>price_change_percentage_1y</th>\n",
       "    </tr>\n",
       "    <tr>\n",
       "      <th>coin_id</th>\n",
       "      <th></th>\n",
       "      <th></th>\n",
       "      <th></th>\n",
       "      <th></th>\n",
       "      <th></th>\n",
       "      <th></th>\n",
       "      <th></th>\n",
       "    </tr>\n",
       "  </thead>\n",
       "  <tbody>\n",
       "    <tr>\n",
       "      <th>bitcoin</th>\n",
       "      <td>0.508529</td>\n",
       "      <td>0.493193</td>\n",
       "      <td>0.772200</td>\n",
       "      <td>0.235460</td>\n",
       "      <td>-0.067495</td>\n",
       "      <td>-0.355953</td>\n",
       "      <td>-0.251637</td>\n",
       "    </tr>\n",
       "    <tr>\n",
       "      <th>ethereum</th>\n",
       "      <td>0.185446</td>\n",
       "      <td>0.934445</td>\n",
       "      <td>0.558692</td>\n",
       "      <td>-0.054341</td>\n",
       "      <td>-0.273483</td>\n",
       "      <td>-0.115759</td>\n",
       "      <td>-0.199352</td>\n",
       "    </tr>\n",
       "    <tr>\n",
       "      <th>tether</th>\n",
       "      <td>0.021774</td>\n",
       "      <td>-0.706337</td>\n",
       "      <td>-0.021680</td>\n",
       "      <td>-0.061030</td>\n",
       "      <td>0.008005</td>\n",
       "      <td>-0.550247</td>\n",
       "      <td>-0.282061</td>\n",
       "    </tr>\n",
       "    <tr>\n",
       "      <th>ripple</th>\n",
       "      <td>-0.040764</td>\n",
       "      <td>-0.810928</td>\n",
       "      <td>0.249458</td>\n",
       "      <td>-0.050388</td>\n",
       "      <td>-0.373164</td>\n",
       "      <td>-0.458259</td>\n",
       "      <td>-0.295546</td>\n",
       "    </tr>\n",
       "    <tr>\n",
       "      <th>bitcoin-cash</th>\n",
       "      <td>1.193036</td>\n",
       "      <td>2.000959</td>\n",
       "      <td>1.760610</td>\n",
       "      <td>0.545842</td>\n",
       "      <td>-0.291203</td>\n",
       "      <td>-0.499848</td>\n",
       "      <td>-0.270317</td>\n",
       "    </tr>\n",
       "    <tr>\n",
       "      <th>binancecoin</th>\n",
       "      <td>0.891871</td>\n",
       "      <td>1.327295</td>\n",
       "      <td>0.800214</td>\n",
       "      <td>-0.057148</td>\n",
       "      <td>0.778653</td>\n",
       "      <td>-0.188232</td>\n",
       "      <td>-0.225533</td>\n",
       "    </tr>\n",
       "    <tr>\n",
       "      <th>chainlink</th>\n",
       "      <td>0.011397</td>\n",
       "      <td>2.572251</td>\n",
       "      <td>1.101647</td>\n",
       "      <td>-0.490495</td>\n",
       "      <td>-0.931954</td>\n",
       "      <td>0.387759</td>\n",
       "      <td>-0.018284</td>\n",
       "    </tr>\n",
       "    <tr>\n",
       "      <th>cardano</th>\n",
       "      <td>0.102530</td>\n",
       "      <td>1.508001</td>\n",
       "      <td>0.648885</td>\n",
       "      <td>0.328959</td>\n",
       "      <td>-0.486349</td>\n",
       "      <td>0.065080</td>\n",
       "      <td>-0.155428</td>\n",
       "    </tr>\n",
       "    <tr>\n",
       "      <th>litecoin</th>\n",
       "      <td>0.077497</td>\n",
       "      <td>0.334297</td>\n",
       "      <td>0.858520</td>\n",
       "      <td>-0.012646</td>\n",
       "      <td>-0.366477</td>\n",
       "      <td>-0.486266</td>\n",
       "      <td>-0.292351</td>\n",
       "    </tr>\n",
       "    <tr>\n",
       "      <th>bitcoin-cash-sv</th>\n",
       "      <td>0.448952</td>\n",
       "      <td>-0.190684</td>\n",
       "      <td>-0.248043</td>\n",
       "      <td>0.051634</td>\n",
       "      <td>-0.529666</td>\n",
       "      <td>-0.532961</td>\n",
       "      <td>-0.206029</td>\n",
       "    </tr>\n",
       "  </tbody>\n",
       "</table>\n",
       "</div>"
      ],
      "text/plain": [
       "                 price_change_percentage_24h  price_change_percentage_7d  \\\n",
       "coin_id                                                                    \n",
       "bitcoin                             0.508529                    0.493193   \n",
       "ethereum                            0.185446                    0.934445   \n",
       "tether                              0.021774                   -0.706337   \n",
       "ripple                             -0.040764                   -0.810928   \n",
       "bitcoin-cash                        1.193036                    2.000959   \n",
       "binancecoin                         0.891871                    1.327295   \n",
       "chainlink                           0.011397                    2.572251   \n",
       "cardano                             0.102530                    1.508001   \n",
       "litecoin                            0.077497                    0.334297   \n",
       "bitcoin-cash-sv                     0.448952                   -0.190684   \n",
       "\n",
       "                 price_change_percentage_14d  price_change_percentage_30d  \\\n",
       "coin_id                                                                     \n",
       "bitcoin                             0.772200                     0.235460   \n",
       "ethereum                            0.558692                    -0.054341   \n",
       "tether                             -0.021680                    -0.061030   \n",
       "ripple                              0.249458                    -0.050388   \n",
       "bitcoin-cash                        1.760610                     0.545842   \n",
       "binancecoin                         0.800214                    -0.057148   \n",
       "chainlink                           1.101647                    -0.490495   \n",
       "cardano                             0.648885                     0.328959   \n",
       "litecoin                            0.858520                    -0.012646   \n",
       "bitcoin-cash-sv                    -0.248043                     0.051634   \n",
       "\n",
       "                 price_change_percentage_60d  price_change_percentage_200d  \\\n",
       "coin_id                                                                      \n",
       "bitcoin                            -0.067495                     -0.355953   \n",
       "ethereum                           -0.273483                     -0.115759   \n",
       "tether                              0.008005                     -0.550247   \n",
       "ripple                             -0.373164                     -0.458259   \n",
       "bitcoin-cash                       -0.291203                     -0.499848   \n",
       "binancecoin                         0.778653                     -0.188232   \n",
       "chainlink                          -0.931954                      0.387759   \n",
       "cardano                            -0.486349                      0.065080   \n",
       "litecoin                           -0.366477                     -0.486266   \n",
       "bitcoin-cash-sv                    -0.529666                     -0.532961   \n",
       "\n",
       "                 price_change_percentage_1y  \n",
       "coin_id                                      \n",
       "bitcoin                           -0.251637  \n",
       "ethereum                          -0.199352  \n",
       "tether                            -0.282061  \n",
       "ripple                            -0.295546  \n",
       "bitcoin-cash                      -0.270317  \n",
       "binancecoin                       -0.225533  \n",
       "chainlink                         -0.018284  \n",
       "cardano                           -0.155428  \n",
       "litecoin                          -0.292351  \n",
       "bitcoin-cash-sv                   -0.206029  "
      ]
     },
     "execution_count": 8,
     "metadata": {},
     "output_type": "execute_result"
    }
   ],
   "source": [
    "# Create a DataFrame with the scaled data\n",
    "scaled_market_df = pd.DataFrame(scaled_market, columns = df_market_data.columns)\n",
    "\n",
    "# Copy the crypto names from the original data\n",
    "scaled_market_df[\"coin_id\"] = df_market_data.index\n",
    "\n",
    "# Set the coinid column as index\n",
    "scaled_market_df = scaled_market_df.set_index(\"coin_id\")\n",
    "\n",
    "# Display sample data\n",
    "scaled_market_df.head(10)"
   ]
  },
  {
   "attachments": {},
   "cell_type": "markdown",
   "metadata": {},
   "source": [
    "---"
   ]
  },
  {
   "attachments": {},
   "cell_type": "markdown",
   "metadata": {},
   "source": [
    "### Find the Best Value for k Using the Original Data."
   ]
  },
  {
   "cell_type": "code",
   "execution_count": 10,
   "metadata": {},
   "outputs": [
    {
     "name": "stdout",
     "output_type": "stream",
     "text": [
      "[1, 2, 3, 4, 5, 6, 7, 8, 9, 10, 11]\n"
     ]
    }
   ],
   "source": [
    "# Create a list with the number of k-values from 1 to 11\n",
    "k_list = list(range(1,12))\n",
    "print(k_list)"
   ]
  },
  {
   "cell_type": "code",
   "execution_count": 11,
   "metadata": {},
   "outputs": [
    {
     "name": "stderr",
     "output_type": "stream",
     "text": [
      "c:\\Users\\gnos9\\anaconda3\\lib\\site-packages\\sklearn\\cluster\\_kmeans.py:1036: UserWarning: KMeans is known to have a memory leak on Windows with MKL, when there are less chunks than available threads. You can avoid it by setting the environment variable OMP_NUM_THREADS=1.\n",
      "  warnings.warn(\n"
     ]
    }
   ],
   "source": [
    "# Create an empty list to store the inertia values\n",
    "inertia_values = []\n",
    "\n",
    "# Create a for loop to compute the inertia with each possible value of k\n",
    "# Inside the loop:\n",
    "# 1. Create a KMeans model using the loop counter for the n_clusters\n",
    "# 2. Fit the model to the data using `df_market_data_scaled`\n",
    "# 3. Append the model.inertia_ to the inertia list\n",
    "\n",
    "for i in k_list:\n",
    "    k_model = KMeans(n_clusters = i, random_state = 0)\n",
    "    k_model.fit(scaled_market_df)\n",
    "    inertia_values.append(k_model.inertia_)"
   ]
  },
  {
   "cell_type": "code",
   "execution_count": 12,
   "metadata": {},
   "outputs": [],
   "source": [
    "# Create a dictionary with the data to plot the Elbow curve\n",
    "elbow_curve = {\"k\": k_list, \"inertia\": inertia_values}\n",
    "\n",
    "# Create a DataFrame with the data to plot the Elbow curve\n",
    "elbow_curve_df = pd.DataFrame(elbow_curve)"
   ]
  },
  {
   "cell_type": "code",
   "execution_count": 13,
   "metadata": {},
   "outputs": [
    {
     "data": {},
     "metadata": {},
     "output_type": "display_data"
    },
    {
     "data": {
      "application/vnd.holoviews_exec.v0+json": "",
      "text/html": [
       "<div id='1365'>\n",
       "  <div class=\"bk-root\" id=\"0b97c4a1-5dac-44b0-9ff9-a7e782d51f2f\" data-root-id=\"1365\"></div>\n",
       "</div>\n",
       "<script type=\"application/javascript\">(function(root) {\n",
       "  function embed_document(root) {\n",
       "    var docs_json = {\"5cfcd7ec-7726-487d-bed3-a45fa231c6e0\":{\"defs\":[{\"extends\":null,\"module\":null,\"name\":\"ReactiveHTML1\",\"overrides\":[],\"properties\":[]},{\"extends\":null,\"module\":null,\"name\":\"FlexBox1\",\"overrides\":[],\"properties\":[{\"default\":\"flex-start\",\"kind\":null,\"name\":\"align_content\"},{\"default\":\"flex-start\",\"kind\":null,\"name\":\"align_items\"},{\"default\":\"row\",\"kind\":null,\"name\":\"flex_direction\"},{\"default\":\"wrap\",\"kind\":null,\"name\":\"flex_wrap\"},{\"default\":\"flex-start\",\"kind\":null,\"name\":\"justify_content\"}]},{\"extends\":null,\"module\":null,\"name\":\"GridStack1\",\"overrides\":[],\"properties\":[{\"default\":\"warn\",\"kind\":null,\"name\":\"mode\"},{\"default\":null,\"kind\":null,\"name\":\"ncols\"},{\"default\":null,\"kind\":null,\"name\":\"nrows\"},{\"default\":true,\"kind\":null,\"name\":\"allow_resize\"},{\"default\":true,\"kind\":null,\"name\":\"allow_drag\"},{\"default\":[],\"kind\":null,\"name\":\"state\"}]},{\"extends\":null,\"module\":null,\"name\":\"click1\",\"overrides\":[],\"properties\":[{\"default\":\"\",\"kind\":null,\"name\":\"terminal_output\"},{\"default\":\"\",\"kind\":null,\"name\":\"debug_name\"},{\"default\":0,\"kind\":null,\"name\":\"clears\"}]},{\"extends\":null,\"module\":null,\"name\":\"NotificationAreaBase1\",\"overrides\":[],\"properties\":[{\"default\":\"bottom-right\",\"kind\":null,\"name\":\"position\"},{\"default\":0,\"kind\":null,\"name\":\"_clear\"}]},{\"extends\":null,\"module\":null,\"name\":\"NotificationArea1\",\"overrides\":[],\"properties\":[{\"default\":[],\"kind\":null,\"name\":\"notifications\"},{\"default\":\"bottom-right\",\"kind\":null,\"name\":\"position\"},{\"default\":0,\"kind\":null,\"name\":\"_clear\"},{\"default\":[{\"background\":\"#ffc107\",\"icon\":{\"className\":\"fas fa-exclamation-triangle\",\"color\":\"white\",\"tagName\":\"i\"},\"type\":\"warning\"},{\"background\":\"#007bff\",\"icon\":{\"className\":\"fas fa-info-circle\",\"color\":\"white\",\"tagName\":\"i\"},\"type\":\"info\"}],\"kind\":null,\"name\":\"types\"}]},{\"extends\":null,\"module\":null,\"name\":\"Notification\",\"overrides\":[],\"properties\":[{\"default\":null,\"kind\":null,\"name\":\"background\"},{\"default\":3000,\"kind\":null,\"name\":\"duration\"},{\"default\":null,\"kind\":null,\"name\":\"icon\"},{\"default\":\"\",\"kind\":null,\"name\":\"message\"},{\"default\":null,\"kind\":null,\"name\":\"notification_type\"},{\"default\":false,\"kind\":null,\"name\":\"_destroyed\"}]},{\"extends\":null,\"module\":null,\"name\":\"TemplateActions1\",\"overrides\":[],\"properties\":[{\"default\":0,\"kind\":null,\"name\":\"open_modal\"},{\"default\":0,\"kind\":null,\"name\":\"close_modal\"}]},{\"extends\":null,\"module\":null,\"name\":\"MaterialTemplateActions1\",\"overrides\":[],\"properties\":[{\"default\":0,\"kind\":null,\"name\":\"open_modal\"},{\"default\":0,\"kind\":null,\"name\":\"close_modal\"}]}],\"roots\":{\"references\":[{\"attributes\":{\"children\":[{\"id\":\"1366\"},{\"id\":\"1370\"},{\"id\":\"1427\"}],\"margin\":[0,0,0,0],\"name\":\"Row01204\",\"tags\":[\"embedded\"]},\"id\":\"1365\",\"type\":\"Row\"},{\"attributes\":{\"overlay\":{\"id\":\"1392\"}},\"id\":\"1390\",\"type\":\"BoxZoomTool\"},{\"attributes\":{},\"id\":\"1391\",\"type\":\"ResetTool\"},{\"attributes\":{\"data\":{\"inertia\":{\"__ndarray__\":\"AAAAAADwcUByhzI6P3poQN6RvNowzF5AGO6ulG/BU0BmEQsuWlNQQObqC/e6cUpAiCebkxT1RUBu++EeLsJCQMF0IF8cPkBAineL7Q85PEAnCo+5pos4QA==\",\"dtype\":\"float64\",\"order\":\"little\",\"shape\":[11]},\"k\":[1,2,3,4,5,6,7,8,9,10,11]},\"selected\":{\"id\":\"1401\"},\"selection_policy\":{\"id\":\"1424\"}},\"id\":\"1400\",\"type\":\"ColumnDataSource\"},{\"attributes\":{\"line_color\":\"#30a2da\",\"line_width\":2,\"x\":{\"field\":\"k\"},\"y\":{\"field\":\"inertia\"}},\"id\":\"1408\",\"type\":\"Line\"},{\"attributes\":{\"bottom_units\":\"screen\",\"coordinates\":null,\"fill_alpha\":0.5,\"fill_color\":\"lightgrey\",\"group\":null,\"left_units\":\"screen\",\"level\":\"overlay\",\"line_alpha\":1.0,\"line_color\":\"black\",\"line_dash\":[4,4],\"line_width\":2,\"right_units\":\"screen\",\"syncable\":false,\"top_units\":\"screen\"},\"id\":\"1392\",\"type\":\"BoxAnnotation\"},{\"attributes\":{\"coordinates\":null,\"data_source\":{\"id\":\"1400\"},\"glyph\":{\"id\":\"1403\"},\"group\":null,\"hover_glyph\":null,\"muted_glyph\":{\"id\":\"1405\"},\"nonselection_glyph\":{\"id\":\"1404\"},\"selection_glyph\":{\"id\":\"1408\"},\"view\":{\"id\":\"1407\"}},\"id\":\"1406\",\"type\":\"GlyphRenderer\"},{\"attributes\":{\"source\":{\"id\":\"1400\"}},\"id\":\"1407\",\"type\":\"CDSView\"},{\"attributes\":{},\"id\":\"1411\",\"type\":\"BasicTickFormatter\"},{\"attributes\":{\"end\":313.24544872308525,\"reset_end\":313.24544872308525,\"reset_start\":-1.6999359539375618,\"start\":-1.6999359539375618,\"tags\":[[[\"inertia\",\"inertia\",null]]]},\"id\":\"1368\",\"type\":\"Range1d\"},{\"attributes\":{\"below\":[{\"id\":\"1379\"}],\"center\":[{\"id\":\"1382\"},{\"id\":\"1386\"}],\"height\":300,\"left\":[{\"id\":\"1383\"}],\"margin\":[5,5,5,5],\"min_border_bottom\":10,\"min_border_left\":10,\"min_border_right\":10,\"min_border_top\":10,\"renderers\":[{\"id\":\"1406\"}],\"sizing_mode\":\"fixed\",\"title\":{\"id\":\"1371\"},\"toolbar\":{\"id\":\"1393\"},\"width\":700,\"x_range\":{\"id\":\"1367\"},\"x_scale\":{\"id\":\"1375\"},\"y_range\":{\"id\":\"1368\"},\"y_scale\":{\"id\":\"1377\"}},\"id\":\"1370\",\"subtype\":\"Figure\",\"type\":\"Plot\"},{\"attributes\":{},\"id\":\"1424\",\"type\":\"UnionRenderers\"},{\"attributes\":{\"ticks\":[1,2,3,4,5,6,7,8,9,10,11]},\"id\":\"1409\",\"type\":\"FixedTicker\"},{\"attributes\":{},\"id\":\"1412\",\"type\":\"AllLabels\"},{\"attributes\":{\"tools\":[{\"id\":\"1369\"},{\"id\":\"1387\"},{\"id\":\"1388\"},{\"id\":\"1389\"},{\"id\":\"1390\"},{\"id\":\"1391\"}]},\"id\":\"1393\",\"type\":\"Toolbar\"},{\"attributes\":{\"end\":11.0,\"reset_end\":11.0,\"reset_start\":1.0,\"start\":1.0,\"tags\":[[[\"k\",\"k\",null]]]},\"id\":\"1367\",\"type\":\"Range1d\"},{\"attributes\":{},\"id\":\"1375\",\"type\":\"LinearScale\"},{\"attributes\":{\"line_alpha\":0.1,\"line_color\":\"#30a2da\",\"line_width\":2,\"x\":{\"field\":\"k\"},\"y\":{\"field\":\"inertia\"}},\"id\":\"1404\",\"type\":\"Line\"},{\"attributes\":{},\"id\":\"1417\",\"type\":\"AllLabels\"},{\"attributes\":{\"callback\":null,\"renderers\":[{\"id\":\"1406\"}],\"tags\":[\"hv_created\"],\"tooltips\":[[\"k\",\"@{k}\"],[\"inertia\",\"@{inertia}\"]]},\"id\":\"1369\",\"type\":\"HoverTool\"},{\"attributes\":{\"line_color\":\"#30a2da\",\"line_width\":2,\"x\":{\"field\":\"k\"},\"y\":{\"field\":\"inertia\"}},\"id\":\"1403\",\"type\":\"Line\"},{\"attributes\":{\"margin\":[5,5,5,5],\"name\":\"HSpacer01209\",\"sizing_mode\":\"stretch_width\"},\"id\":\"1427\",\"type\":\"Spacer\"},{\"attributes\":{\"coordinates\":null,\"group\":null,\"text\":\"Elbow Curve\",\"text_color\":\"black\",\"text_font_size\":\"12pt\"},\"id\":\"1371\",\"type\":\"Title\"},{\"attributes\":{},\"id\":\"1377\",\"type\":\"LinearScale\"},{\"attributes\":{\"line_alpha\":0.2,\"line_color\":\"#30a2da\",\"line_width\":2,\"x\":{\"field\":\"k\"},\"y\":{\"field\":\"inertia\"}},\"id\":\"1405\",\"type\":\"Line\"},{\"attributes\":{},\"id\":\"1416\",\"type\":\"BasicTickFormatter\"},{\"attributes\":{\"axis_label\":\"k\",\"coordinates\":null,\"formatter\":{\"id\":\"1411\"},\"group\":null,\"major_label_policy\":{\"id\":\"1412\"},\"ticker\":{\"id\":\"1409\"}},\"id\":\"1379\",\"type\":\"LinearAxis\"},{\"attributes\":{},\"id\":\"1388\",\"type\":\"PanTool\"},{\"attributes\":{},\"id\":\"1401\",\"type\":\"Selection\"},{\"attributes\":{\"axis\":{\"id\":\"1379\"},\"coordinates\":null,\"grid_line_color\":null,\"group\":null,\"ticker\":null},\"id\":\"1382\",\"type\":\"Grid\"},{\"attributes\":{\"margin\":[5,5,5,5],\"name\":\"HSpacer01208\",\"sizing_mode\":\"stretch_width\"},\"id\":\"1366\",\"type\":\"Spacer\"},{\"attributes\":{\"axis_label\":\"inertia\",\"coordinates\":null,\"formatter\":{\"id\":\"1416\"},\"group\":null,\"major_label_policy\":{\"id\":\"1417\"},\"ticker\":{\"id\":\"1384\"}},\"id\":\"1383\",\"type\":\"LinearAxis\"},{\"attributes\":{\"axis\":{\"id\":\"1383\"},\"coordinates\":null,\"dimension\":1,\"grid_line_color\":null,\"group\":null,\"ticker\":null},\"id\":\"1386\",\"type\":\"Grid\"},{\"attributes\":{},\"id\":\"1384\",\"type\":\"BasicTicker\"},{\"attributes\":{},\"id\":\"1389\",\"type\":\"WheelZoomTool\"},{\"attributes\":{},\"id\":\"1387\",\"type\":\"SaveTool\"}],\"root_ids\":[\"1365\"]},\"title\":\"Bokeh Application\",\"version\":\"2.4.3\"}};\n",
       "    var render_items = [{\"docid\":\"5cfcd7ec-7726-487d-bed3-a45fa231c6e0\",\"root_ids\":[\"1365\"],\"roots\":{\"1365\":\"0b97c4a1-5dac-44b0-9ff9-a7e782d51f2f\"}}];\n",
       "    root.Bokeh.embed.embed_items_notebook(docs_json, render_items);\n",
       "  }\n",
       "  if (root.Bokeh !== undefined && root.Bokeh.Panel !== undefined) {\n",
       "    embed_document(root);\n",
       "  } else {\n",
       "    var attempts = 0;\n",
       "    var timer = setInterval(function(root) {\n",
       "      if (root.Bokeh !== undefined && root.Bokeh.Panel !== undefined) {\n",
       "        clearInterval(timer);\n",
       "        embed_document(root);\n",
       "      } else if (document.readyState == \"complete\") {\n",
       "        attempts++;\n",
       "        if (attempts > 200) {\n",
       "          clearInterval(timer);\n",
       "          console.log(\"Bokeh: ERROR: Unable to run BokehJS code because BokehJS library is missing\");\n",
       "        }\n",
       "      }\n",
       "    }, 25, root)\n",
       "  }\n",
       "})(window);</script>"
      ],
      "text/plain": [
       ":Curve   [k]   (inertia)"
      ]
     },
     "execution_count": 13,
     "metadata": {
      "application/vnd.holoviews_exec.v0+json": {
       "id": "1365"
      }
     },
     "output_type": "execute_result"
    }
   ],
   "source": [
    "# Plot a line chart with all the inertia values computed with \n",
    "# the different values of k to visually identify the optimal value for k.\n",
    "elbow_curve_df.hvplot.line(\n",
    "    x = \"k\",\n",
    "    y = \"inertia\",\n",
    "    title = \"Elbow Curve\",\n",
    "    xticks = k_list\n",
    ")"
   ]
  },
  {
   "attachments": {},
   "cell_type": "markdown",
   "metadata": {},
   "source": [
    "#### Answer the following question: \n",
    "\n",
    "**Question:** What is the best value for `k`?\n",
    "\n",
    "**Answer: 4 ** "
   ]
  },
  {
   "attachments": {},
   "cell_type": "markdown",
   "metadata": {},
   "source": [
    "---"
   ]
  },
  {
   "attachments": {},
   "cell_type": "markdown",
   "metadata": {},
   "source": [
    "### Cluster Cryptocurrencies with K-means Using the Original Data"
   ]
  },
  {
   "cell_type": "code",
   "execution_count": 14,
   "metadata": {},
   "outputs": [],
   "source": [
    "# Initialize the K-Means model using the best value for k\n",
    "k_model = KMeans(n_clusters = 4)"
   ]
  },
  {
   "cell_type": "code",
   "execution_count": 15,
   "metadata": {},
   "outputs": [
    {
     "data": {
      "text/plain": [
       "KMeans(n_clusters=4)"
      ]
     },
     "execution_count": 15,
     "metadata": {},
     "output_type": "execute_result"
    }
   ],
   "source": [
    "# Fit the K-Means model using the scaled data\n",
    "\n",
    "k_model.fit(scaled_market_df)"
   ]
  },
  {
   "cell_type": "code",
   "execution_count": 16,
   "metadata": {},
   "outputs": [
    {
     "name": "stdout",
     "output_type": "stream",
     "text": [
      "[3 3 0 0 3 3 3 3 3 0 0 0 0 3 0 3 0 0 3 0 0 3 0 0 0 0 0 0 3 0 0 0 2 3 0 0 1\n",
      " 0 0 0 0]\n"
     ]
    }
   ],
   "source": [
    "# Predict the clusters to group the cryptocurrencies using the scaled data\n",
    "market_clusters = k_model.predict(scaled_market_df)\n",
    "\n",
    "# Print the resulting array of cluster values.\n",
    "print(market_clusters)"
   ]
  },
  {
   "cell_type": "code",
   "execution_count": 17,
   "metadata": {},
   "outputs": [],
   "source": [
    "# Create a copy of the DataFrame\n",
    "market_predict_df = scaled_market_df.copy()"
   ]
  },
  {
   "cell_type": "code",
   "execution_count": 18,
   "metadata": {},
   "outputs": [
    {
     "data": {
      "text/html": [
       "<div>\n",
       "<style scoped>\n",
       "    .dataframe tbody tr th:only-of-type {\n",
       "        vertical-align: middle;\n",
       "    }\n",
       "\n",
       "    .dataframe tbody tr th {\n",
       "        vertical-align: top;\n",
       "    }\n",
       "\n",
       "    .dataframe thead th {\n",
       "        text-align: right;\n",
       "    }\n",
       "</style>\n",
       "<table border=\"1\" class=\"dataframe\">\n",
       "  <thead>\n",
       "    <tr style=\"text-align: right;\">\n",
       "      <th></th>\n",
       "      <th>price_change_percentage_24h</th>\n",
       "      <th>price_change_percentage_7d</th>\n",
       "      <th>price_change_percentage_14d</th>\n",
       "      <th>price_change_percentage_30d</th>\n",
       "      <th>price_change_percentage_60d</th>\n",
       "      <th>price_change_percentage_200d</th>\n",
       "      <th>price_change_percentage_1y</th>\n",
       "      <th>PredictedClusters</th>\n",
       "    </tr>\n",
       "    <tr>\n",
       "      <th>coin_id</th>\n",
       "      <th></th>\n",
       "      <th></th>\n",
       "      <th></th>\n",
       "      <th></th>\n",
       "      <th></th>\n",
       "      <th></th>\n",
       "      <th></th>\n",
       "      <th></th>\n",
       "    </tr>\n",
       "  </thead>\n",
       "  <tbody>\n",
       "    <tr>\n",
       "      <th>bitcoin</th>\n",
       "      <td>0.508529</td>\n",
       "      <td>0.493193</td>\n",
       "      <td>0.772200</td>\n",
       "      <td>0.235460</td>\n",
       "      <td>-0.067495</td>\n",
       "      <td>-0.355953</td>\n",
       "      <td>-0.251637</td>\n",
       "      <td>3</td>\n",
       "    </tr>\n",
       "    <tr>\n",
       "      <th>ethereum</th>\n",
       "      <td>0.185446</td>\n",
       "      <td>0.934445</td>\n",
       "      <td>0.558692</td>\n",
       "      <td>-0.054341</td>\n",
       "      <td>-0.273483</td>\n",
       "      <td>-0.115759</td>\n",
       "      <td>-0.199352</td>\n",
       "      <td>3</td>\n",
       "    </tr>\n",
       "    <tr>\n",
       "      <th>tether</th>\n",
       "      <td>0.021774</td>\n",
       "      <td>-0.706337</td>\n",
       "      <td>-0.021680</td>\n",
       "      <td>-0.061030</td>\n",
       "      <td>0.008005</td>\n",
       "      <td>-0.550247</td>\n",
       "      <td>-0.282061</td>\n",
       "      <td>0</td>\n",
       "    </tr>\n",
       "    <tr>\n",
       "      <th>ripple</th>\n",
       "      <td>-0.040764</td>\n",
       "      <td>-0.810928</td>\n",
       "      <td>0.249458</td>\n",
       "      <td>-0.050388</td>\n",
       "      <td>-0.373164</td>\n",
       "      <td>-0.458259</td>\n",
       "      <td>-0.295546</td>\n",
       "      <td>0</td>\n",
       "    </tr>\n",
       "    <tr>\n",
       "      <th>bitcoin-cash</th>\n",
       "      <td>1.193036</td>\n",
       "      <td>2.000959</td>\n",
       "      <td>1.760610</td>\n",
       "      <td>0.545842</td>\n",
       "      <td>-0.291203</td>\n",
       "      <td>-0.499848</td>\n",
       "      <td>-0.270317</td>\n",
       "      <td>3</td>\n",
       "    </tr>\n",
       "    <tr>\n",
       "      <th>binancecoin</th>\n",
       "      <td>0.891871</td>\n",
       "      <td>1.327295</td>\n",
       "      <td>0.800214</td>\n",
       "      <td>-0.057148</td>\n",
       "      <td>0.778653</td>\n",
       "      <td>-0.188232</td>\n",
       "      <td>-0.225533</td>\n",
       "      <td>3</td>\n",
       "    </tr>\n",
       "    <tr>\n",
       "      <th>chainlink</th>\n",
       "      <td>0.011397</td>\n",
       "      <td>2.572251</td>\n",
       "      <td>1.101647</td>\n",
       "      <td>-0.490495</td>\n",
       "      <td>-0.931954</td>\n",
       "      <td>0.387759</td>\n",
       "      <td>-0.018284</td>\n",
       "      <td>3</td>\n",
       "    </tr>\n",
       "    <tr>\n",
       "      <th>cardano</th>\n",
       "      <td>0.102530</td>\n",
       "      <td>1.508001</td>\n",
       "      <td>0.648885</td>\n",
       "      <td>0.328959</td>\n",
       "      <td>-0.486349</td>\n",
       "      <td>0.065080</td>\n",
       "      <td>-0.155428</td>\n",
       "      <td>3</td>\n",
       "    </tr>\n",
       "    <tr>\n",
       "      <th>litecoin</th>\n",
       "      <td>0.077497</td>\n",
       "      <td>0.334297</td>\n",
       "      <td>0.858520</td>\n",
       "      <td>-0.012646</td>\n",
       "      <td>-0.366477</td>\n",
       "      <td>-0.486266</td>\n",
       "      <td>-0.292351</td>\n",
       "      <td>3</td>\n",
       "    </tr>\n",
       "    <tr>\n",
       "      <th>bitcoin-cash-sv</th>\n",
       "      <td>0.448952</td>\n",
       "      <td>-0.190684</td>\n",
       "      <td>-0.248043</td>\n",
       "      <td>0.051634</td>\n",
       "      <td>-0.529666</td>\n",
       "      <td>-0.532961</td>\n",
       "      <td>-0.206029</td>\n",
       "      <td>0</td>\n",
       "    </tr>\n",
       "  </tbody>\n",
       "</table>\n",
       "</div>"
      ],
      "text/plain": [
       "                 price_change_percentage_24h  price_change_percentage_7d  \\\n",
       "coin_id                                                                    \n",
       "bitcoin                             0.508529                    0.493193   \n",
       "ethereum                            0.185446                    0.934445   \n",
       "tether                              0.021774                   -0.706337   \n",
       "ripple                             -0.040764                   -0.810928   \n",
       "bitcoin-cash                        1.193036                    2.000959   \n",
       "binancecoin                         0.891871                    1.327295   \n",
       "chainlink                           0.011397                    2.572251   \n",
       "cardano                             0.102530                    1.508001   \n",
       "litecoin                            0.077497                    0.334297   \n",
       "bitcoin-cash-sv                     0.448952                   -0.190684   \n",
       "\n",
       "                 price_change_percentage_14d  price_change_percentage_30d  \\\n",
       "coin_id                                                                     \n",
       "bitcoin                             0.772200                     0.235460   \n",
       "ethereum                            0.558692                    -0.054341   \n",
       "tether                             -0.021680                    -0.061030   \n",
       "ripple                              0.249458                    -0.050388   \n",
       "bitcoin-cash                        1.760610                     0.545842   \n",
       "binancecoin                         0.800214                    -0.057148   \n",
       "chainlink                           1.101647                    -0.490495   \n",
       "cardano                             0.648885                     0.328959   \n",
       "litecoin                            0.858520                    -0.012646   \n",
       "bitcoin-cash-sv                    -0.248043                     0.051634   \n",
       "\n",
       "                 price_change_percentage_60d  price_change_percentage_200d  \\\n",
       "coin_id                                                                      \n",
       "bitcoin                            -0.067495                     -0.355953   \n",
       "ethereum                           -0.273483                     -0.115759   \n",
       "tether                              0.008005                     -0.550247   \n",
       "ripple                             -0.373164                     -0.458259   \n",
       "bitcoin-cash                       -0.291203                     -0.499848   \n",
       "binancecoin                         0.778653                     -0.188232   \n",
       "chainlink                          -0.931954                      0.387759   \n",
       "cardano                            -0.486349                      0.065080   \n",
       "litecoin                           -0.366477                     -0.486266   \n",
       "bitcoin-cash-sv                    -0.529666                     -0.532961   \n",
       "\n",
       "                 price_change_percentage_1y  PredictedClusters  \n",
       "coin_id                                                         \n",
       "bitcoin                           -0.251637                  3  \n",
       "ethereum                          -0.199352                  3  \n",
       "tether                            -0.282061                  0  \n",
       "ripple                            -0.295546                  0  \n",
       "bitcoin-cash                      -0.270317                  3  \n",
       "binancecoin                       -0.225533                  3  \n",
       "chainlink                         -0.018284                  3  \n",
       "cardano                           -0.155428                  3  \n",
       "litecoin                          -0.292351                  3  \n",
       "bitcoin-cash-sv                   -0.206029                  0  "
      ]
     },
     "execution_count": 18,
     "metadata": {},
     "output_type": "execute_result"
    }
   ],
   "source": [
    "# Add a new column to the DataFrame with the predicted clusters\n",
    "market_predict_df[\"PredictedClusters\"] = market_clusters\n",
    "\n",
    "# Display sample data\n",
    "market_predict_df.head(10)"
   ]
  },
  {
   "cell_type": "code",
   "execution_count": 19,
   "metadata": {},
   "outputs": [
    {
     "data": {},
     "metadata": {},
     "output_type": "display_data"
    },
    {
     "data": {
      "application/vnd.holoviews_exec.v0+json": "",
      "text/html": [
       "<div id='1474'>\n",
       "  <div class=\"bk-root\" id=\"a7a6e264-192c-4c5a-a171-37df6e528ef8\" data-root-id=\"1474\"></div>\n",
       "</div>\n",
       "<script type=\"application/javascript\">(function(root) {\n",
       "  function embed_document(root) {\n",
       "    var docs_json = {\"11158759-c403-4cb7-9aa8-ab6b6c4a6db7\":{\"defs\":[{\"extends\":null,\"module\":null,\"name\":\"ReactiveHTML1\",\"overrides\":[],\"properties\":[]},{\"extends\":null,\"module\":null,\"name\":\"FlexBox1\",\"overrides\":[],\"properties\":[{\"default\":\"flex-start\",\"kind\":null,\"name\":\"align_content\"},{\"default\":\"flex-start\",\"kind\":null,\"name\":\"align_items\"},{\"default\":\"row\",\"kind\":null,\"name\":\"flex_direction\"},{\"default\":\"wrap\",\"kind\":null,\"name\":\"flex_wrap\"},{\"default\":\"flex-start\",\"kind\":null,\"name\":\"justify_content\"}]},{\"extends\":null,\"module\":null,\"name\":\"GridStack1\",\"overrides\":[],\"properties\":[{\"default\":\"warn\",\"kind\":null,\"name\":\"mode\"},{\"default\":null,\"kind\":null,\"name\":\"ncols\"},{\"default\":null,\"kind\":null,\"name\":\"nrows\"},{\"default\":true,\"kind\":null,\"name\":\"allow_resize\"},{\"default\":true,\"kind\":null,\"name\":\"allow_drag\"},{\"default\":[],\"kind\":null,\"name\":\"state\"}]},{\"extends\":null,\"module\":null,\"name\":\"click1\",\"overrides\":[],\"properties\":[{\"default\":\"\",\"kind\":null,\"name\":\"terminal_output\"},{\"default\":\"\",\"kind\":null,\"name\":\"debug_name\"},{\"default\":0,\"kind\":null,\"name\":\"clears\"}]},{\"extends\":null,\"module\":null,\"name\":\"NotificationAreaBase1\",\"overrides\":[],\"properties\":[{\"default\":\"bottom-right\",\"kind\":null,\"name\":\"position\"},{\"default\":0,\"kind\":null,\"name\":\"_clear\"}]},{\"extends\":null,\"module\":null,\"name\":\"NotificationArea1\",\"overrides\":[],\"properties\":[{\"default\":[],\"kind\":null,\"name\":\"notifications\"},{\"default\":\"bottom-right\",\"kind\":null,\"name\":\"position\"},{\"default\":0,\"kind\":null,\"name\":\"_clear\"},{\"default\":[{\"background\":\"#ffc107\",\"icon\":{\"className\":\"fas fa-exclamation-triangle\",\"color\":\"white\",\"tagName\":\"i\"},\"type\":\"warning\"},{\"background\":\"#007bff\",\"icon\":{\"className\":\"fas fa-info-circle\",\"color\":\"white\",\"tagName\":\"i\"},\"type\":\"info\"}],\"kind\":null,\"name\":\"types\"}]},{\"extends\":null,\"module\":null,\"name\":\"Notification\",\"overrides\":[],\"properties\":[{\"default\":null,\"kind\":null,\"name\":\"background\"},{\"default\":3000,\"kind\":null,\"name\":\"duration\"},{\"default\":null,\"kind\":null,\"name\":\"icon\"},{\"default\":\"\",\"kind\":null,\"name\":\"message\"},{\"default\":null,\"kind\":null,\"name\":\"notification_type\"},{\"default\":false,\"kind\":null,\"name\":\"_destroyed\"}]},{\"extends\":null,\"module\":null,\"name\":\"TemplateActions1\",\"overrides\":[],\"properties\":[{\"default\":0,\"kind\":null,\"name\":\"open_modal\"},{\"default\":0,\"kind\":null,\"name\":\"close_modal\"}]},{\"extends\":null,\"module\":null,\"name\":\"MaterialTemplateActions1\",\"overrides\":[],\"properties\":[{\"default\":0,\"kind\":null,\"name\":\"open_modal\"},{\"default\":0,\"kind\":null,\"name\":\"close_modal\"}]}],\"roots\":{\"references\":[{\"attributes\":{\"data\":{\"PredictedClusters\":[3,3,3,3,3,3,3,3,3,3,3,3,3],\"price_change_percentage_24h\":{\"__ndarray__\":\"DdlqYN9F4D86azDosLzHPzALIwCtFvM/9w6McDSK7D/VDHOpb1eHPzMEvaFkP7o/Sds39trWsz9Epj8/c9DQP4xAeNEVZ8O/qq8st/Fh0L8FWWk3mH7gP6wo083aUMC//ACFOIMFwL8=\",\"dtype\":\"float64\",\"order\":\"little\",\"shape\":[13]},\"price_change_percentage_7d\":{\"__ndarray__\":\"U1k8q3mQ3z9yoPpI+ebtPzAB2dP2AQBAgmkOMZk89T8FNulI+JMEQCZRaSLGIPg/84wjaB1l1T8rMp3jf678P2VmURqKqeY/XK6ZksNx/T9DfMqy1o7dPyTPDB1Xu+0/srW7TleV4j8=\",\"dtype\":\"float64\",\"order\":\"little\",\"shape\":[13]}},\"selected\":{\"id\":\"1586\"},\"selection_policy\":{\"id\":\"1606\"}},\"id\":\"1585\",\"type\":\"ColumnDataSource\"},{\"attributes\":{},\"id\":\"1533\",\"type\":\"UnionRenderers\"},{\"attributes\":{\"angle\":{\"value\":0.0},\"fill_alpha\":{\"value\":1.0},\"fill_color\":{\"value\":\"#6d904f\"},\"hatch_alpha\":{\"value\":1.0},\"hatch_color\":{\"value\":\"#6d904f\"},\"hatch_scale\":{\"value\":12.0},\"hatch_weight\":{\"value\":1.0},\"line_alpha\":{\"value\":1.0},\"line_cap\":{\"value\":\"butt\"},\"line_color\":{\"value\":\"#6d904f\"},\"line_dash\":{\"value\":[]},\"line_dash_offset\":{\"value\":0},\"line_join\":{\"value\":\"bevel\"},\"line_width\":{\"value\":1},\"marker\":{\"value\":\"circle\"},\"size\":{\"value\":5.477225575051661},\"x\":{\"field\":\"price_change_percentage_24h\"},\"y\":{\"field\":\"price_change_percentage_7d\"}},\"id\":\"1610\",\"type\":\"Scatter\"},{\"attributes\":{},\"id\":\"1556\",\"type\":\"UnionRenderers\"},{\"attributes\":{\"fill_color\":{\"value\":\"#30a2da\"},\"hatch_color\":{\"value\":\"#30a2da\"},\"line_color\":{\"value\":\"#30a2da\"},\"size\":{\"value\":5.477225575051661},\"x\":{\"field\":\"price_change_percentage_24h\"},\"y\":{\"field\":\"price_change_percentage_7d\"}},\"id\":\"1521\",\"type\":\"Scatter\"},{\"attributes\":{\"margin\":[5,5,5,5],\"name\":\"HSpacer01385\",\"sizing_mode\":\"stretch_width\"},\"id\":\"1475\",\"type\":\"Spacer\"},{\"attributes\":{},\"id\":\"1519\",\"type\":\"Selection\"},{\"attributes\":{\"children\":[{\"id\":\"1475\"},{\"id\":\"1482\"},{\"id\":\"1627\"}],\"margin\":[0,0,0,0],\"name\":\"Row01381\",\"tags\":[\"embedded\"]},\"id\":\"1474\",\"type\":\"Row\"},{\"attributes\":{},\"id\":\"1513\",\"type\":\"BasicTickFormatter\"},{\"attributes\":{},\"id\":\"1514\",\"type\":\"AllLabels\"},{\"attributes\":{},\"id\":\"1516\",\"type\":\"BasicTickFormatter\"},{\"attributes\":{},\"id\":\"1517\",\"type\":\"AllLabels\"},{\"attributes\":{\"angle\":{\"value\":0.0},\"fill_alpha\":{\"value\":1.0},\"fill_color\":{\"value\":\"#e5ae38\"},\"hatch_alpha\":{\"value\":1.0},\"hatch_color\":{\"value\":\"#e5ae38\"},\"hatch_scale\":{\"value\":12.0},\"hatch_weight\":{\"value\":1.0},\"line_alpha\":{\"value\":1.0},\"line_cap\":{\"value\":\"butt\"},\"line_color\":{\"value\":\"#e5ae38\"},\"line_dash\":{\"value\":[]},\"line_dash_offset\":{\"value\":0},\"line_join\":{\"value\":\"bevel\"},\"line_width\":{\"value\":1},\"marker\":{\"value\":\"circle\"},\"size\":{\"value\":5.477225575051661},\"x\":{\"field\":\"price_change_percentage_24h\"},\"y\":{\"field\":\"price_change_percentage_7d\"}},\"id\":\"1584\",\"type\":\"Scatter\"},{\"attributes\":{\"coordinates\":null,\"data_source\":{\"id\":\"1585\"},\"glyph\":{\"id\":\"1588\"},\"group\":null,\"hover_glyph\":null,\"muted_glyph\":{\"id\":\"1590\"},\"nonselection_glyph\":{\"id\":\"1589\"},\"selection_glyph\":{\"id\":\"1610\"},\"view\":{\"id\":\"1592\"}},\"id\":\"1591\",\"type\":\"GlyphRenderer\"},{\"attributes\":{\"data\":{\"PredictedClusters\":[1],\"price_change_percentage_24h\":{\"__ndarray__\":\"VLqXBn668D8=\",\"dtype\":\"float64\",\"order\":\"little\",\"shape\":[1]},\"price_change_percentage_7d\":{\"__ndarray__\":\"Nv03JFjJ478=\",\"dtype\":\"float64\",\"order\":\"little\",\"shape\":[1]}},\"selected\":{\"id\":\"1540\"},\"selection_policy\":{\"id\":\"1556\"}},\"id\":\"1539\",\"type\":\"ColumnDataSource\"},{\"attributes\":{\"coordinates\":null,\"data_source\":{\"id\":\"1518\"},\"glyph\":{\"id\":\"1521\"},\"group\":null,\"hover_glyph\":null,\"muted_glyph\":{\"id\":\"1523\"},\"nonselection_glyph\":{\"id\":\"1522\"},\"selection_glyph\":{\"id\":\"1538\"},\"view\":{\"id\":\"1525\"}},\"id\":\"1524\",\"type\":\"GlyphRenderer\"},{\"attributes\":{\"margin\":[5,5,5,5],\"name\":\"HSpacer01386\",\"sizing_mode\":\"stretch_width\"},\"id\":\"1627\",\"type\":\"Spacer\"},{\"attributes\":{\"angle\":{\"value\":0.0},\"fill_alpha\":{\"value\":1.0},\"fill_color\":{\"value\":\"#fc4f30\"},\"hatch_alpha\":{\"value\":1.0},\"hatch_color\":{\"value\":\"#fc4f30\"},\"hatch_scale\":{\"value\":12.0},\"hatch_weight\":{\"value\":1.0},\"line_alpha\":{\"value\":1.0},\"line_cap\":{\"value\":\"butt\"},\"line_color\":{\"value\":\"#fc4f30\"},\"line_dash\":{\"value\":[]},\"line_dash_offset\":{\"value\":0},\"line_join\":{\"value\":\"bevel\"},\"line_width\":{\"value\":1},\"marker\":{\"value\":\"circle\"},\"size\":{\"value\":5.477225575051661},\"x\":{\"field\":\"price_change_percentage_24h\"},\"y\":{\"field\":\"price_change_percentage_7d\"}},\"id\":\"1560\",\"type\":\"Scatter\"},{\"attributes\":{\"fill_color\":{\"value\":\"#6d904f\"},\"hatch_color\":{\"value\":\"#6d904f\"},\"line_color\":{\"value\":\"#6d904f\"},\"size\":{\"value\":5.477225575051661},\"x\":{\"field\":\"price_change_percentage_24h\"},\"y\":{\"field\":\"price_change_percentage_7d\"}},\"id\":\"1588\",\"type\":\"Scatter\"},{\"attributes\":{\"fill_alpha\":{\"value\":0.2},\"fill_color\":{\"value\":\"#30a2da\"},\"hatch_alpha\":{\"value\":0.2},\"hatch_color\":{\"value\":\"#30a2da\"},\"line_alpha\":{\"value\":0.2},\"line_color\":{\"value\":\"#30a2da\"},\"size\":{\"value\":5.477225575051661},\"x\":{\"field\":\"price_change_percentage_24h\"},\"y\":{\"field\":\"price_change_percentage_7d\"}},\"id\":\"1523\",\"type\":\"Scatter\"},{\"attributes\":{\"end\":2.2155632386560065,\"reset_end\":2.2155632386560065,\"reset_start\":-5.276792781891412,\"start\":-5.276792781891412,\"tags\":[[[\"price_change_percentage_24h\",\"price_change_percentage_24h\",null]]]},\"id\":\"1476\",\"type\":\"Range1d\"},{\"attributes\":{\"fill_alpha\":{\"value\":0.2},\"fill_color\":{\"value\":\"#6d904f\"},\"hatch_alpha\":{\"value\":0.2},\"hatch_color\":{\"value\":\"#6d904f\"},\"line_alpha\":{\"value\":0.2},\"line_color\":{\"value\":\"#6d904f\"},\"size\":{\"value\":5.477225575051661},\"x\":{\"field\":\"price_change_percentage_24h\"},\"y\":{\"field\":\"price_change_percentage_7d\"}},\"id\":\"1590\",\"type\":\"Scatter\"},{\"attributes\":{\"source\":{\"id\":\"1561\"}},\"id\":\"1568\",\"type\":\"CDSView\"},{\"attributes\":{},\"id\":\"1586\",\"type\":\"Selection\"},{\"attributes\":{\"label\":{\"value\":\"3\"},\"renderers\":[{\"id\":\"1591\"}]},\"id\":\"1609\",\"type\":\"LegendItem\"},{\"attributes\":{\"click_policy\":\"mute\",\"coordinates\":null,\"group\":null,\"items\":[{\"id\":\"1537\"},{\"id\":\"1559\"},{\"id\":\"1583\"},{\"id\":\"1609\"}],\"location\":[0,0],\"title\":\"PredictedClusters\"},\"id\":\"1536\",\"type\":\"Legend\"},{\"attributes\":{\"label\":{\"value\":\"0\"},\"renderers\":[{\"id\":\"1524\"}]},\"id\":\"1537\",\"type\":\"LegendItem\"},{\"attributes\":{\"callback\":null,\"renderers\":[{\"id\":\"1524\"},{\"id\":\"1545\"},{\"id\":\"1567\"},{\"id\":\"1591\"}],\"tags\":[\"hv_created\"],\"tooltips\":[[\"PredictedClusters\",\"@{PredictedClusters}\"],[\"price_change_percentage_24h\",\"@{price_change_percentage_24h}\"],[\"price_change_percentage_7d\",\"@{price_change_percentage_7d}\"]]},\"id\":\"1478\",\"type\":\"HoverTool\"},{\"attributes\":{\"label\":{\"value\":\"2\"},\"renderers\":[{\"id\":\"1567\"}]},\"id\":\"1583\",\"type\":\"LegendItem\"},{\"attributes\":{\"coordinates\":null,\"data_source\":{\"id\":\"1561\"},\"glyph\":{\"id\":\"1564\"},\"group\":null,\"hover_glyph\":null,\"muted_glyph\":{\"id\":\"1566\"},\"nonselection_glyph\":{\"id\":\"1565\"},\"selection_glyph\":{\"id\":\"1584\"},\"view\":{\"id\":\"1568\"}},\"id\":\"1567\",\"type\":\"GlyphRenderer\"},{\"attributes\":{},\"id\":\"1540\",\"type\":\"Selection\"},{\"attributes\":{\"end\":2.997678656273595,\"reset_end\":2.997678656273595,\"reset_start\":-2.107454305728652,\"start\":-2.107454305728652,\"tags\":[[[\"price_change_percentage_7d\",\"price_change_percentage_7d\",null]]]},\"id\":\"1477\",\"type\":\"Range1d\"},{\"attributes\":{},\"id\":\"1487\",\"type\":\"LinearScale\"},{\"attributes\":{},\"id\":\"1606\",\"type\":\"UnionRenderers\"},{\"attributes\":{\"fill_alpha\":{\"value\":0.1},\"fill_color\":{\"value\":\"#6d904f\"},\"hatch_alpha\":{\"value\":0.1},\"hatch_color\":{\"value\":\"#6d904f\"},\"line_alpha\":{\"value\":0.1},\"line_color\":{\"value\":\"#6d904f\"},\"size\":{\"value\":5.477225575051661},\"x\":{\"field\":\"price_change_percentage_24h\"},\"y\":{\"field\":\"price_change_percentage_7d\"}},\"id\":\"1589\",\"type\":\"Scatter\"},{\"attributes\":{\"angle\":{\"value\":0.0},\"fill_alpha\":{\"value\":1.0},\"fill_color\":{\"value\":\"#30a2da\"},\"hatch_alpha\":{\"value\":1.0},\"hatch_color\":{\"value\":\"#30a2da\"},\"hatch_scale\":{\"value\":12.0},\"hatch_weight\":{\"value\":1.0},\"line_alpha\":{\"value\":1.0},\"line_cap\":{\"value\":\"butt\"},\"line_color\":{\"value\":\"#30a2da\"},\"line_dash\":{\"value\":[]},\"line_dash_offset\":{\"value\":0},\"line_join\":{\"value\":\"bevel\"},\"line_width\":{\"value\":1},\"marker\":{\"value\":\"circle\"},\"size\":{\"value\":5.477225575051661},\"x\":{\"field\":\"price_change_percentage_24h\"},\"y\":{\"field\":\"price_change_percentage_7d\"}},\"id\":\"1538\",\"type\":\"Scatter\"},{\"attributes\":{\"source\":{\"id\":\"1585\"}},\"id\":\"1592\",\"type\":\"CDSView\"},{\"attributes\":{\"source\":{\"id\":\"1539\"}},\"id\":\"1546\",\"type\":\"CDSView\"},{\"attributes\":{},\"id\":\"1580\",\"type\":\"UnionRenderers\"},{\"attributes\":{\"data\":{\"PredictedClusters\":[2],\"price_change_percentage_24h\":{\"__ndarray__\":\"3WeHPpbsE8A=\",\"dtype\":\"float64\",\"order\":\"little\",\"shape\":[1]},\"price_change_percentage_7d\":{\"__ndarray__\":\"dIWi2pshp78=\",\"dtype\":\"float64\",\"order\":\"little\",\"shape\":[1]}},\"selected\":{\"id\":\"1562\"},\"selection_policy\":{\"id\":\"1580\"}},\"id\":\"1561\",\"type\":\"ColumnDataSource\"},{\"attributes\":{},\"id\":\"1489\",\"type\":\"LinearScale\"},{\"attributes\":{\"fill_alpha\":{\"value\":0.2},\"fill_color\":{\"value\":\"#fc4f30\"},\"hatch_alpha\":{\"value\":0.2},\"hatch_color\":{\"value\":\"#fc4f30\"},\"line_alpha\":{\"value\":0.2},\"line_color\":{\"value\":\"#fc4f30\"},\"size\":{\"value\":5.477225575051661},\"x\":{\"field\":\"price_change_percentage_24h\"},\"y\":{\"field\":\"price_change_percentage_7d\"}},\"id\":\"1544\",\"type\":\"Scatter\"},{\"attributes\":{\"coordinates\":null,\"data_source\":{\"id\":\"1539\"},\"glyph\":{\"id\":\"1542\"},\"group\":null,\"hover_glyph\":null,\"muted_glyph\":{\"id\":\"1544\"},\"nonselection_glyph\":{\"id\":\"1543\"},\"selection_glyph\":{\"id\":\"1560\"},\"view\":{\"id\":\"1546\"}},\"id\":\"1545\",\"type\":\"GlyphRenderer\"},{\"attributes\":{\"below\":[{\"id\":\"1491\"}],\"center\":[{\"id\":\"1494\"},{\"id\":\"1498\"}],\"height\":300,\"left\":[{\"id\":\"1495\"}],\"margin\":[5,5,5,5],\"min_border_bottom\":10,\"min_border_left\":10,\"min_border_right\":10,\"min_border_top\":10,\"renderers\":[{\"id\":\"1524\"},{\"id\":\"1545\"},{\"id\":\"1567\"},{\"id\":\"1591\"}],\"right\":[{\"id\":\"1536\"}],\"sizing_mode\":\"fixed\",\"title\":{\"id\":\"1483\"},\"toolbar\":{\"id\":\"1505\"},\"width\":700,\"x_range\":{\"id\":\"1476\"},\"x_scale\":{\"id\":\"1487\"},\"y_range\":{\"id\":\"1477\"},\"y_scale\":{\"id\":\"1489\"}},\"id\":\"1482\",\"subtype\":\"Figure\",\"type\":\"Plot\"},{\"attributes\":{\"coordinates\":null,\"group\":null,\"text_color\":\"black\",\"text_font_size\":\"12pt\"},\"id\":\"1483\",\"type\":\"Title\"},{\"attributes\":{\"source\":{\"id\":\"1518\"}},\"id\":\"1525\",\"type\":\"CDSView\"},{\"attributes\":{\"fill_alpha\":{\"value\":0.1},\"fill_color\":{\"value\":\"#30a2da\"},\"hatch_alpha\":{\"value\":0.1},\"hatch_color\":{\"value\":\"#30a2da\"},\"line_alpha\":{\"value\":0.1},\"line_color\":{\"value\":\"#30a2da\"},\"size\":{\"value\":5.477225575051661},\"x\":{\"field\":\"price_change_percentage_24h\"},\"y\":{\"field\":\"price_change_percentage_7d\"}},\"id\":\"1522\",\"type\":\"Scatter\"},{\"attributes\":{\"axis_label\":\"price_change_percentage_24h\",\"coordinates\":null,\"formatter\":{\"id\":\"1513\"},\"group\":null,\"major_label_policy\":{\"id\":\"1514\"},\"ticker\":{\"id\":\"1492\"}},\"id\":\"1491\",\"type\":\"LinearAxis\"},{\"attributes\":{\"fill_alpha\":{\"value\":0.1},\"fill_color\":{\"value\":\"#e5ae38\"},\"hatch_alpha\":{\"value\":0.1},\"hatch_color\":{\"value\":\"#e5ae38\"},\"line_alpha\":{\"value\":0.1},\"line_color\":{\"value\":\"#e5ae38\"},\"size\":{\"value\":5.477225575051661},\"x\":{\"field\":\"price_change_percentage_24h\"},\"y\":{\"field\":\"price_change_percentage_7d\"}},\"id\":\"1565\",\"type\":\"Scatter\"},{\"attributes\":{},\"id\":\"1492\",\"type\":\"BasicTicker\"},{\"attributes\":{\"axis\":{\"id\":\"1491\"},\"coordinates\":null,\"grid_line_color\":null,\"group\":null,\"ticker\":null},\"id\":\"1494\",\"type\":\"Grid\"},{\"attributes\":{\"fill_color\":{\"value\":\"#e5ae38\"},\"hatch_color\":{\"value\":\"#e5ae38\"},\"line_color\":{\"value\":\"#e5ae38\"},\"size\":{\"value\":5.477225575051661},\"x\":{\"field\":\"price_change_percentage_24h\"},\"y\":{\"field\":\"price_change_percentage_7d\"}},\"id\":\"1564\",\"type\":\"Scatter\"},{\"attributes\":{\"data\":{\"PredictedClusters\":[0,0,0,0,0,0,0,0,0,0,0,0,0,0,0,0,0,0,0,0,0,0,0,0,0,0],\"price_change_percentage_24h\":{\"__ndarray__\":\"mCJF1OlLlj/mJRG3Ed+kv1qZGRifu9w//rJXHrAz1T/yMTqenpahPx9kk3dK7sM/GTRehHalwD90fnl54Irtv9XPDahDw9G/+VOWQSEmxz+kpbukw1bSP6eM4M4OgKo/BcMOj9+jqr/Chq6S5ebLv2h3TIfCZ68/weEQ8QyV0D/KmZTmC7niP1YH9WGFy/m/N7JuVBEB07/EU4GAhEGyv8Ocf0hw2/a/lrPBJY23/j/IKcQzxy3av5WrmDyeito/Bf22eE/6sz9Y362Ir3rzPw==\",\"dtype\":\"float64\",\"order\":\"little\",\"shape\":[26]},\"price_change_percentage_7d\":{\"__ndarray__\":\"bZSIvk+a5r9RujxqH/Ppvw2U7adXaMi/d+r7VGbW+b9EGSx/8nTnv4rfBo4Lhe2/BEBwXEEApb8Udj8VbP/2vySelkVDp9i/7SZvVsyO5r8uu+JVH+LUvziN+gRMte2/o2qlez1D3b/CtPLKIS7rvyYjaswHnea/US6joeTvzz/dRmuCvtDvv/9TV66U6fq/ZWX+mWVCuD8GJ0pHuV/Nv8nIE2ZWH5q/TTxj/me11z+Htdvf1gXtv2Avihmzf9o/e31xtwIC5r/STlu6Y3Ljvw==\",\"dtype\":\"float64\",\"order\":\"little\",\"shape\":[26]}},\"selected\":{\"id\":\"1519\"},\"selection_policy\":{\"id\":\"1533\"}},\"id\":\"1518\",\"type\":\"ColumnDataSource\"},{\"attributes\":{},\"id\":\"1500\",\"type\":\"PanTool\"},{\"attributes\":{\"fill_alpha\":{\"value\":0.2},\"fill_color\":{\"value\":\"#e5ae38\"},\"hatch_alpha\":{\"value\":0.2},\"hatch_color\":{\"value\":\"#e5ae38\"},\"line_alpha\":{\"value\":0.2},\"line_color\":{\"value\":\"#e5ae38\"},\"size\":{\"value\":5.477225575051661},\"x\":{\"field\":\"price_change_percentage_24h\"},\"y\":{\"field\":\"price_change_percentage_7d\"}},\"id\":\"1566\",\"type\":\"Scatter\"},{\"attributes\":{\"label\":{\"value\":\"1\"},\"renderers\":[{\"id\":\"1545\"}]},\"id\":\"1559\",\"type\":\"LegendItem\"},{\"attributes\":{},\"id\":\"1562\",\"type\":\"Selection\"},{\"attributes\":{\"axis_label\":\"price_change_percentage_7d\",\"coordinates\":null,\"formatter\":{\"id\":\"1516\"},\"group\":null,\"major_label_policy\":{\"id\":\"1517\"},\"ticker\":{\"id\":\"1496\"}},\"id\":\"1495\",\"type\":\"LinearAxis\"},{\"attributes\":{\"axis\":{\"id\":\"1495\"},\"coordinates\":null,\"dimension\":1,\"grid_line_color\":null,\"group\":null,\"ticker\":null},\"id\":\"1498\",\"type\":\"Grid\"},{\"attributes\":{},\"id\":\"1496\",\"type\":\"BasicTicker\"},{\"attributes\":{},\"id\":\"1501\",\"type\":\"WheelZoomTool\"},{\"attributes\":{\"tools\":[{\"id\":\"1478\"},{\"id\":\"1499\"},{\"id\":\"1500\"},{\"id\":\"1501\"},{\"id\":\"1502\"},{\"id\":\"1503\"}]},\"id\":\"1505\",\"type\":\"Toolbar\"},{\"attributes\":{\"fill_alpha\":{\"value\":0.1},\"fill_color\":{\"value\":\"#fc4f30\"},\"hatch_alpha\":{\"value\":0.1},\"hatch_color\":{\"value\":\"#fc4f30\"},\"line_alpha\":{\"value\":0.1},\"line_color\":{\"value\":\"#fc4f30\"},\"size\":{\"value\":5.477225575051661},\"x\":{\"field\":\"price_change_percentage_24h\"},\"y\":{\"field\":\"price_change_percentage_7d\"}},\"id\":\"1543\",\"type\":\"Scatter\"},{\"attributes\":{},\"id\":\"1499\",\"type\":\"SaveTool\"},{\"attributes\":{\"fill_color\":{\"value\":\"#fc4f30\"},\"hatch_color\":{\"value\":\"#fc4f30\"},\"line_color\":{\"value\":\"#fc4f30\"},\"size\":{\"value\":5.477225575051661},\"x\":{\"field\":\"price_change_percentage_24h\"},\"y\":{\"field\":\"price_change_percentage_7d\"}},\"id\":\"1542\",\"type\":\"Scatter\"},{\"attributes\":{\"overlay\":{\"id\":\"1504\"}},\"id\":\"1502\",\"type\":\"BoxZoomTool\"},{\"attributes\":{},\"id\":\"1503\",\"type\":\"ResetTool\"},{\"attributes\":{\"bottom_units\":\"screen\",\"coordinates\":null,\"fill_alpha\":0.5,\"fill_color\":\"lightgrey\",\"group\":null,\"left_units\":\"screen\",\"level\":\"overlay\",\"line_alpha\":1.0,\"line_color\":\"black\",\"line_dash\":[4,4],\"line_width\":2,\"right_units\":\"screen\",\"syncable\":false,\"top_units\":\"screen\"},\"id\":\"1504\",\"type\":\"BoxAnnotation\"}],\"root_ids\":[\"1474\"]},\"title\":\"Bokeh Application\",\"version\":\"2.4.3\"}};\n",
       "    var render_items = [{\"docid\":\"11158759-c403-4cb7-9aa8-ab6b6c4a6db7\",\"root_ids\":[\"1474\"],\"roots\":{\"1474\":\"a7a6e264-192c-4c5a-a171-37df6e528ef8\"}}];\n",
       "    root.Bokeh.embed.embed_items_notebook(docs_json, render_items);\n",
       "  }\n",
       "  if (root.Bokeh !== undefined && root.Bokeh.Panel !== undefined) {\n",
       "    embed_document(root);\n",
       "  } else {\n",
       "    var attempts = 0;\n",
       "    var timer = setInterval(function(root) {\n",
       "      if (root.Bokeh !== undefined && root.Bokeh.Panel !== undefined) {\n",
       "        clearInterval(timer);\n",
       "        embed_document(root);\n",
       "      } else if (document.readyState == \"complete\") {\n",
       "        attempts++;\n",
       "        if (attempts > 200) {\n",
       "          clearInterval(timer);\n",
       "          console.log(\"Bokeh: ERROR: Unable to run BokehJS code because BokehJS library is missing\");\n",
       "        }\n",
       "      }\n",
       "    }, 25, root)\n",
       "  }\n",
       "})(window);</script>"
      ],
      "text/plain": [
       ":NdOverlay   [PredictedClusters]\n",
       "   :Scatter   [price_change_percentage_24h]   (price_change_percentage_7d)"
      ]
     },
     "execution_count": 19,
     "metadata": {
      "application/vnd.holoviews_exec.v0+json": {
       "id": "1474"
      }
     },
     "output_type": "execute_result"
    }
   ],
   "source": [
    "# Create a scatter plot using hvPlot by setting \n",
    "# `x=\"price_change_percentage_24h\"` and `y=\"price_change_percentage_7d\"`. \n",
    "# Color the graph points with the labels found using K-Means and \n",
    "# add the crypto name in the `hover_cols` parameter to identify \n",
    "# the cryptocurrency represented by each data point.\n",
    "market_predict_df.hvplot.scatter(\n",
    "    x = \"price_change_percentage_24h\",\n",
    "    y = \"price_change_percentage_7d\",\n",
    "    by = \"PredictedClusters\"\n",
    ")"
   ]
  },
  {
   "attachments": {},
   "cell_type": "markdown",
   "metadata": {},
   "source": [
    "---"
   ]
  },
  {
   "attachments": {},
   "cell_type": "markdown",
   "metadata": {},
   "source": [
    "### Optimize Clusters with Principal Component Analysis."
   ]
  },
  {
   "cell_type": "code",
   "execution_count": 20,
   "metadata": {},
   "outputs": [],
   "source": [
    "# Create a PCA model instance and set `n_components=3`.\n",
    "pca = PCA(n_components = 3)"
   ]
  },
  {
   "cell_type": "code",
   "execution_count": 21,
   "metadata": {},
   "outputs": [
    {
     "data": {
      "text/plain": [
       "array([[ 2.03409288, -0.64157137, -0.35762863],\n",
       "       [ 1.99450168, -0.49054937, -0.91224962],\n",
       "       [-1.06854412, -0.41720452,  0.5963108 ],\n",
       "       [-1.04091865, -0.45523427,  0.4678008 ],\n",
       "       [ 3.30276384, -1.24245766, -0.217276  ]])"
      ]
     },
     "execution_count": 21,
     "metadata": {},
     "output_type": "execute_result"
    }
   ],
   "source": [
    "# Use the PCA model with `fit_transform` to reduce to \n",
    "# three principal components.\n",
    "market_pca = pca.fit_transform(market_predict_df)\n",
    "\n",
    "# View the first five rows of the DataFrame. \n",
    "market_pca[:5]"
   ]
  },
  {
   "cell_type": "code",
   "execution_count": 22,
   "metadata": {},
   "outputs": [
    {
     "data": {
      "text/plain": [
       "array([0.36941241, 0.29169375, 0.22893878])"
      ]
     },
     "execution_count": 22,
     "metadata": {},
     "output_type": "execute_result"
    }
   ],
   "source": [
    "# Retrieve the explained variance to determine how much information \n",
    "# can be attributed to each principal component.\n",
    "pca.explained_variance_ratio_\n"
   ]
  },
  {
   "attachments": {},
   "cell_type": "markdown",
   "metadata": {},
   "source": [
    "#### Answer the following question: \n",
    "\n",
    "**Question:** What is the total explained variance of the three principal components?\n",
    "\n",
    "**Answer:** "
   ]
  },
  {
   "cell_type": "code",
   "execution_count": 23,
   "metadata": {},
   "outputs": [
    {
     "data": {
      "text/html": [
       "<div>\n",
       "<style scoped>\n",
       "    .dataframe tbody tr th:only-of-type {\n",
       "        vertical-align: middle;\n",
       "    }\n",
       "\n",
       "    .dataframe tbody tr th {\n",
       "        vertical-align: top;\n",
       "    }\n",
       "\n",
       "    .dataframe thead th {\n",
       "        text-align: right;\n",
       "    }\n",
       "</style>\n",
       "<table border=\"1\" class=\"dataframe\">\n",
       "  <thead>\n",
       "    <tr style=\"text-align: right;\">\n",
       "      <th></th>\n",
       "      <th>PC1</th>\n",
       "      <th>PC2</th>\n",
       "      <th>PC3</th>\n",
       "    </tr>\n",
       "    <tr>\n",
       "      <th>coin_id</th>\n",
       "      <th></th>\n",
       "      <th></th>\n",
       "      <th></th>\n",
       "    </tr>\n",
       "  </thead>\n",
       "  <tbody>\n",
       "    <tr>\n",
       "      <th>bitcoin</th>\n",
       "      <td>2.034093</td>\n",
       "      <td>-0.641571</td>\n",
       "      <td>-0.357629</td>\n",
       "    </tr>\n",
       "    <tr>\n",
       "      <th>ethereum</th>\n",
       "      <td>1.994502</td>\n",
       "      <td>-0.490549</td>\n",
       "      <td>-0.912250</td>\n",
       "    </tr>\n",
       "    <tr>\n",
       "      <th>tether</th>\n",
       "      <td>-1.068544</td>\n",
       "      <td>-0.417205</td>\n",
       "      <td>0.596311</td>\n",
       "    </tr>\n",
       "    <tr>\n",
       "      <th>ripple</th>\n",
       "      <td>-1.040919</td>\n",
       "      <td>-0.455234</td>\n",
       "      <td>0.467801</td>\n",
       "    </tr>\n",
       "    <tr>\n",
       "      <th>bitcoin-cash</th>\n",
       "      <td>3.302764</td>\n",
       "      <td>-1.242458</td>\n",
       "      <td>-0.217276</td>\n",
       "    </tr>\n",
       "    <tr>\n",
       "      <th>binancecoin</th>\n",
       "      <td>2.505692</td>\n",
       "      <td>-0.575832</td>\n",
       "      <td>-0.129389</td>\n",
       "    </tr>\n",
       "    <tr>\n",
       "      <th>chainlink</th>\n",
       "      <td>2.770042</td>\n",
       "      <td>-0.495691</td>\n",
       "      <td>-1.890371</td>\n",
       "    </tr>\n",
       "    <tr>\n",
       "      <th>cardano</th>\n",
       "      <td>2.372449</td>\n",
       "      <td>-0.389146</td>\n",
       "      <td>-0.992513</td>\n",
       "    </tr>\n",
       "    <tr>\n",
       "      <th>litecoin</th>\n",
       "      <td>1.832344</td>\n",
       "      <td>-0.678797</td>\n",
       "      <td>-0.741581</td>\n",
       "    </tr>\n",
       "    <tr>\n",
       "      <th>bitcoin-cash-sv</th>\n",
       "      <td>-0.928101</td>\n",
       "      <td>-0.744485</td>\n",
       "      <td>0.333337</td>\n",
       "    </tr>\n",
       "  </tbody>\n",
       "</table>\n",
       "</div>"
      ],
      "text/plain": [
       "                      PC1       PC2       PC3\n",
       "coin_id                                      \n",
       "bitcoin          2.034093 -0.641571 -0.357629\n",
       "ethereum         1.994502 -0.490549 -0.912250\n",
       "tether          -1.068544 -0.417205  0.596311\n",
       "ripple          -1.040919 -0.455234  0.467801\n",
       "bitcoin-cash     3.302764 -1.242458 -0.217276\n",
       "binancecoin      2.505692 -0.575832 -0.129389\n",
       "chainlink        2.770042 -0.495691 -1.890371\n",
       "cardano          2.372449 -0.389146 -0.992513\n",
       "litecoin         1.832344 -0.678797 -0.741581\n",
       "bitcoin-cash-sv -0.928101 -0.744485  0.333337"
      ]
     },
     "execution_count": 23,
     "metadata": {},
     "output_type": "execute_result"
    }
   ],
   "source": [
    "# Create a new DataFrame with the PCA data.\n",
    "market_pca_df = pd.DataFrame(market_pca, columns = [\"PC1\", \"PC2\", \"PC3\"])\n",
    "\n",
    "# Copy the crypto names from the original data\n",
    "market_pca_df[\"coin_id\"] = df_market_data.index\n",
    "\n",
    "# Set the coinid column as index\n",
    "market_pca_df = market_pca_df.set_index(\"coin_id\")\n",
    "\n",
    "# Display sample data\n",
    "market_pca_df.head(10)"
   ]
  },
  {
   "attachments": {},
   "cell_type": "markdown",
   "metadata": {},
   "source": [
    "---"
   ]
  },
  {
   "attachments": {},
   "cell_type": "markdown",
   "metadata": {},
   "source": [
    "### Find the Best Value for k Using the PCA Data"
   ]
  },
  {
   "cell_type": "code",
   "execution_count": 24,
   "metadata": {},
   "outputs": [],
   "source": [
    "# Create a list with the number of k-values from 1 to 11\n",
    "k_list = list(range(1, 12))\n"
   ]
  },
  {
   "cell_type": "code",
   "execution_count": 26,
   "metadata": {},
   "outputs": [
    {
     "name": "stderr",
     "output_type": "stream",
     "text": [
      "c:\\Users\\gnos9\\anaconda3\\lib\\site-packages\\sklearn\\cluster\\_kmeans.py:1036: UserWarning: KMeans is known to have a memory leak on Windows with MKL, when there are less chunks than available threads. You can avoid it by setting the environment variable OMP_NUM_THREADS=1.\n",
      "  warnings.warn(\n"
     ]
    }
   ],
   "source": [
    "# Create an empy list to store the inertia values\n",
    "inertia_values = []\n",
    "\n",
    "# Create a for loop to compute the inertia with each possible value of k\n",
    "# Inside the loop:\n",
    "# 1. Create a KMeans model using the loop counter for the n_clusters\n",
    "# 2. Fit the model to the data using `df_market_data_pca`\n",
    "# 3. Append the model.inertia_ to the inertia list\n",
    "for i in k_list:\n",
    "    k_model = KMeans(n_clusters = i, random_state = 0)\n",
    "    k_model.fit(market_pca_df)\n",
    "    inertia_values.append(k_model.inertia_)"
   ]
  },
  {
   "cell_type": "code",
   "execution_count": 27,
   "metadata": {},
   "outputs": [],
   "source": [
    "# Create a dictionary with the data to plot the Elbow curve\n",
    "elbow_data_df = {\n",
    "    \"k\": k_list,\n",
    "    \"inertia\": inertia_values\n",
    "}\n",
    "\n",
    "# Create a DataFrame with the data to plot the Elbow curve\n",
    "elbow_pca_df = pd.DataFrame(elbow_data_df)"
   ]
  },
  {
   "cell_type": "code",
   "execution_count": 28,
   "metadata": {},
   "outputs": [
    {
     "data": {},
     "metadata": {},
     "output_type": "display_data"
    },
    {
     "data": {
      "application/vnd.holoviews_exec.v0+json": "",
      "text/html": [
       "<div id='1709'>\n",
       "  <div class=\"bk-root\" id=\"94c48677-5763-4479-b975-ec9739dd8bdb\" data-root-id=\"1709\"></div>\n",
       "</div>\n",
       "<script type=\"application/javascript\">(function(root) {\n",
       "  function embed_document(root) {\n",
       "    var docs_json = {\"7a99451b-b217-4f60-be64-48924af52557\":{\"defs\":[{\"extends\":null,\"module\":null,\"name\":\"ReactiveHTML1\",\"overrides\":[],\"properties\":[]},{\"extends\":null,\"module\":null,\"name\":\"FlexBox1\",\"overrides\":[],\"properties\":[{\"default\":\"flex-start\",\"kind\":null,\"name\":\"align_content\"},{\"default\":\"flex-start\",\"kind\":null,\"name\":\"align_items\"},{\"default\":\"row\",\"kind\":null,\"name\":\"flex_direction\"},{\"default\":\"wrap\",\"kind\":null,\"name\":\"flex_wrap\"},{\"default\":\"flex-start\",\"kind\":null,\"name\":\"justify_content\"}]},{\"extends\":null,\"module\":null,\"name\":\"GridStack1\",\"overrides\":[],\"properties\":[{\"default\":\"warn\",\"kind\":null,\"name\":\"mode\"},{\"default\":null,\"kind\":null,\"name\":\"ncols\"},{\"default\":null,\"kind\":null,\"name\":\"nrows\"},{\"default\":true,\"kind\":null,\"name\":\"allow_resize\"},{\"default\":true,\"kind\":null,\"name\":\"allow_drag\"},{\"default\":[],\"kind\":null,\"name\":\"state\"}]},{\"extends\":null,\"module\":null,\"name\":\"click1\",\"overrides\":[],\"properties\":[{\"default\":\"\",\"kind\":null,\"name\":\"terminal_output\"},{\"default\":\"\",\"kind\":null,\"name\":\"debug_name\"},{\"default\":0,\"kind\":null,\"name\":\"clears\"}]},{\"extends\":null,\"module\":null,\"name\":\"NotificationAreaBase1\",\"overrides\":[],\"properties\":[{\"default\":\"bottom-right\",\"kind\":null,\"name\":\"position\"},{\"default\":0,\"kind\":null,\"name\":\"_clear\"}]},{\"extends\":null,\"module\":null,\"name\":\"NotificationArea1\",\"overrides\":[],\"properties\":[{\"default\":[],\"kind\":null,\"name\":\"notifications\"},{\"default\":\"bottom-right\",\"kind\":null,\"name\":\"position\"},{\"default\":0,\"kind\":null,\"name\":\"_clear\"},{\"default\":[{\"background\":\"#ffc107\",\"icon\":{\"className\":\"fas fa-exclamation-triangle\",\"color\":\"white\",\"tagName\":\"i\"},\"type\":\"warning\"},{\"background\":\"#007bff\",\"icon\":{\"className\":\"fas fa-info-circle\",\"color\":\"white\",\"tagName\":\"i\"},\"type\":\"info\"}],\"kind\":null,\"name\":\"types\"}]},{\"extends\":null,\"module\":null,\"name\":\"Notification\",\"overrides\":[],\"properties\":[{\"default\":null,\"kind\":null,\"name\":\"background\"},{\"default\":3000,\"kind\":null,\"name\":\"duration\"},{\"default\":null,\"kind\":null,\"name\":\"icon\"},{\"default\":\"\",\"kind\":null,\"name\":\"message\"},{\"default\":null,\"kind\":null,\"name\":\"notification_type\"},{\"default\":false,\"kind\":null,\"name\":\"_destroyed\"}]},{\"extends\":null,\"module\":null,\"name\":\"TemplateActions1\",\"overrides\":[],\"properties\":[{\"default\":0,\"kind\":null,\"name\":\"open_modal\"},{\"default\":0,\"kind\":null,\"name\":\"close_modal\"}]},{\"extends\":null,\"module\":null,\"name\":\"MaterialTemplateActions1\",\"overrides\":[],\"properties\":[{\"default\":0,\"kind\":null,\"name\":\"open_modal\"},{\"default\":0,\"kind\":null,\"name\":\"close_modal\"}]}],\"roots\":{\"references\":[{\"attributes\":{\"line_alpha\":0.1,\"line_color\":\"#30a2da\",\"line_width\":2,\"x\":{\"field\":\"k\"},\"y\":{\"field\":\"inertia\"}},\"id\":\"1748\",\"type\":\"Line\"},{\"attributes\":{\"children\":[{\"id\":\"1710\"},{\"id\":\"1714\"},{\"id\":\"1771\"}],\"margin\":[0,0,0,0],\"name\":\"Row01529\",\"tags\":[\"embedded\"]},\"id\":\"1709\",\"type\":\"Row\"},{\"attributes\":{},\"id\":\"1733\",\"type\":\"WheelZoomTool\"},{\"attributes\":{\"line_alpha\":0.2,\"line_color\":\"#30a2da\",\"line_width\":2,\"x\":{\"field\":\"k\"},\"y\":{\"field\":\"inertia\"}},\"id\":\"1749\",\"type\":\"Line\"},{\"attributes\":{\"data\":{\"inertia\":{\"__ndarray__\":\"EdBJfsFbdECAjgI0NClpQPHljuIn71tALqyynUAZREAnVP4fJ/I9QHBpBZ0p/TRAmKD1eOS6LkDT7Sh6NEAoQOqJZW6+8SRANxGAhU2wH0CwZeYO2NAaQA==\",\"dtype\":\"float64\",\"order\":\"little\",\"shape\":[11]},\"k\":[1,2,3,4,5,6,7,8,9,10,11]},\"selected\":{\"id\":\"1745\"},\"selection_policy\":{\"id\":\"1768\"}},\"id\":\"1744\",\"type\":\"ColumnDataSource\"},{\"attributes\":{},\"id\":\"1731\",\"type\":\"SaveTool\"},{\"attributes\":{\"line_color\":\"#30a2da\",\"line_width\":2,\"x\":{\"field\":\"k\"},\"y\":{\"field\":\"inertia\"}},\"id\":\"1752\",\"type\":\"Line\"},{\"attributes\":{\"overlay\":{\"id\":\"1736\"}},\"id\":\"1734\",\"type\":\"BoxZoomTool\"},{\"attributes\":{\"coordinates\":null,\"data_source\":{\"id\":\"1744\"},\"glyph\":{\"id\":\"1747\"},\"group\":null,\"hover_glyph\":null,\"muted_glyph\":{\"id\":\"1749\"},\"nonselection_glyph\":{\"id\":\"1748\"},\"selection_glyph\":{\"id\":\"1752\"},\"view\":{\"id\":\"1751\"}},\"id\":\"1750\",\"type\":\"GlyphRenderer\"},{\"attributes\":{},\"id\":\"1735\",\"type\":\"ResetTool\"},{\"attributes\":{\"source\":{\"id\":\"1744\"}},\"id\":\"1751\",\"type\":\"CDSView\"},{\"attributes\":{\"margin\":[5,5,5,5],\"name\":\"HSpacer01533\",\"sizing_mode\":\"stretch_width\"},\"id\":\"1710\",\"type\":\"Spacer\"},{\"attributes\":{\"bottom_units\":\"screen\",\"coordinates\":null,\"fill_alpha\":0.5,\"fill_color\":\"lightgrey\",\"group\":null,\"left_units\":\"screen\",\"level\":\"overlay\",\"line_alpha\":1.0,\"line_color\":\"black\",\"line_dash\":[4,4],\"line_width\":2,\"right_units\":\"screen\",\"syncable\":false,\"top_units\":\"screen\"},\"id\":\"1736\",\"type\":\"BoxAnnotation\"},{\"attributes\":{},\"id\":\"1755\",\"type\":\"BasicTickFormatter\"},{\"attributes\":{\"end\":357.63781861675545,\"reset_end\":357.63781861675545,\"reset_start\":-25.199129841556115,\"start\":-25.199129841556115,\"tags\":[[[\"inertia\",\"inertia\",null]]]},\"id\":\"1712\",\"type\":\"Range1d\"},{\"attributes\":{\"line_color\":\"#30a2da\",\"line_width\":2,\"x\":{\"field\":\"k\"},\"y\":{\"field\":\"inertia\"}},\"id\":\"1747\",\"type\":\"Line\"},{\"attributes\":{\"below\":[{\"id\":\"1723\"}],\"center\":[{\"id\":\"1726\"},{\"id\":\"1730\"}],\"height\":300,\"left\":[{\"id\":\"1727\"}],\"margin\":[5,5,5,5],\"min_border_bottom\":10,\"min_border_left\":10,\"min_border_right\":10,\"min_border_top\":10,\"renderers\":[{\"id\":\"1750\"}],\"sizing_mode\":\"fixed\",\"title\":{\"id\":\"1715\"},\"toolbar\":{\"id\":\"1737\"},\"width\":700,\"x_range\":{\"id\":\"1711\"},\"x_scale\":{\"id\":\"1719\"},\"y_range\":{\"id\":\"1712\"},\"y_scale\":{\"id\":\"1721\"}},\"id\":\"1714\",\"subtype\":\"Figure\",\"type\":\"Plot\"},{\"attributes\":{\"ticks\":[1,2,3,4,5,6,7,8,9,10,11]},\"id\":\"1753\",\"type\":\"FixedTicker\"},{\"attributes\":{},\"id\":\"1756\",\"type\":\"AllLabels\"},{\"attributes\":{},\"id\":\"1745\",\"type\":\"Selection\"},{\"attributes\":{\"end\":11.0,\"reset_end\":11.0,\"reset_start\":1.0,\"start\":1.0,\"tags\":[[[\"k\",\"k\",null]]]},\"id\":\"1711\",\"type\":\"Range1d\"},{\"attributes\":{\"tools\":[{\"id\":\"1713\"},{\"id\":\"1731\"},{\"id\":\"1732\"},{\"id\":\"1733\"},{\"id\":\"1734\"},{\"id\":\"1735\"}]},\"id\":\"1737\",\"type\":\"Toolbar\"},{\"attributes\":{},\"id\":\"1719\",\"type\":\"LinearScale\"},{\"attributes\":{},\"id\":\"1761\",\"type\":\"AllLabels\"},{\"attributes\":{\"callback\":null,\"renderers\":[{\"id\":\"1750\"}],\"tags\":[\"hv_created\"],\"tooltips\":[[\"k\",\"@{k}\"],[\"inertia\",\"@{inertia}\"]]},\"id\":\"1713\",\"type\":\"HoverTool\"},{\"attributes\":{},\"id\":\"1721\",\"type\":\"LinearScale\"},{\"attributes\":{},\"id\":\"1732\",\"type\":\"PanTool\"},{\"attributes\":{\"coordinates\":null,\"group\":null,\"text\":\"Elbow Curve\",\"text_color\":\"black\",\"text_font_size\":\"12pt\"},\"id\":\"1715\",\"type\":\"Title\"},{\"attributes\":{\"axis\":{\"id\":\"1723\"},\"coordinates\":null,\"grid_line_color\":null,\"group\":null,\"ticker\":null},\"id\":\"1726\",\"type\":\"Grid\"},{\"attributes\":{\"axis_label\":\"k\",\"coordinates\":null,\"formatter\":{\"id\":\"1755\"},\"group\":null,\"major_label_policy\":{\"id\":\"1756\"},\"ticker\":{\"id\":\"1753\"}},\"id\":\"1723\",\"type\":\"LinearAxis\"},{\"attributes\":{},\"id\":\"1760\",\"type\":\"BasicTickFormatter\"},{\"attributes\":{},\"id\":\"1768\",\"type\":\"UnionRenderers\"},{\"attributes\":{\"margin\":[5,5,5,5],\"name\":\"HSpacer01534\",\"sizing_mode\":\"stretch_width\"},\"id\":\"1771\",\"type\":\"Spacer\"},{\"attributes\":{\"axis_label\":\"inertia\",\"coordinates\":null,\"formatter\":{\"id\":\"1760\"},\"group\":null,\"major_label_policy\":{\"id\":\"1761\"},\"ticker\":{\"id\":\"1728\"}},\"id\":\"1727\",\"type\":\"LinearAxis\"},{\"attributes\":{\"axis\":{\"id\":\"1727\"},\"coordinates\":null,\"dimension\":1,\"grid_line_color\":null,\"group\":null,\"ticker\":null},\"id\":\"1730\",\"type\":\"Grid\"},{\"attributes\":{},\"id\":\"1728\",\"type\":\"BasicTicker\"}],\"root_ids\":[\"1709\"]},\"title\":\"Bokeh Application\",\"version\":\"2.4.3\"}};\n",
       "    var render_items = [{\"docid\":\"7a99451b-b217-4f60-be64-48924af52557\",\"root_ids\":[\"1709\"],\"roots\":{\"1709\":\"94c48677-5763-4479-b975-ec9739dd8bdb\"}}];\n",
       "    root.Bokeh.embed.embed_items_notebook(docs_json, render_items);\n",
       "  }\n",
       "  if (root.Bokeh !== undefined && root.Bokeh.Panel !== undefined) {\n",
       "    embed_document(root);\n",
       "  } else {\n",
       "    var attempts = 0;\n",
       "    var timer = setInterval(function(root) {\n",
       "      if (root.Bokeh !== undefined && root.Bokeh.Panel !== undefined) {\n",
       "        clearInterval(timer);\n",
       "        embed_document(root);\n",
       "      } else if (document.readyState == \"complete\") {\n",
       "        attempts++;\n",
       "        if (attempts > 200) {\n",
       "          clearInterval(timer);\n",
       "          console.log(\"Bokeh: ERROR: Unable to run BokehJS code because BokehJS library is missing\");\n",
       "        }\n",
       "      }\n",
       "    }, 25, root)\n",
       "  }\n",
       "})(window);</script>"
      ],
      "text/plain": [
       ":Curve   [k]   (inertia)"
      ]
     },
     "execution_count": 28,
     "metadata": {
      "application/vnd.holoviews_exec.v0+json": {
       "id": "1709"
      }
     },
     "output_type": "execute_result"
    }
   ],
   "source": [
    "# Plot a line chart with all the inertia values computed with \n",
    "# the different values of k to visually identify the optimal value for k.\n",
    "elbow_plot_pca = elbow_pca_df.hvplot.line(x = \"k\", y = \"inertia\", title = \"Elbow Curve\", xticks = k_list)\n",
    "elbow_plot_pca"
   ]
  },
  {
   "attachments": {},
   "cell_type": "markdown",
   "metadata": {},
   "source": [
    "#### Answer the following questions: \n",
    "\n",
    "* **Question:** What is the best value for `k` when using the PCA data?\n",
    "\n",
    "  * **Answer: 4 **\n",
    "\n",
    "\n",
    "* **Question:** Does it differ from the best k value found using the original data?\n",
    "\n",
    "  * **Answer: No, both k values using the PCA data will be 4. ** "
   ]
  },
  {
   "attachments": {},
   "cell_type": "markdown",
   "metadata": {},
   "source": [
    "### Cluster Cryptocurrencies with K-means Using the PCA Data"
   ]
  },
  {
   "cell_type": "code",
   "execution_count": 29,
   "metadata": {},
   "outputs": [],
   "source": [
    "# Initialize the K-Means model using the best value for k\n",
    "model = KMeans(n_clusters = 4)"
   ]
  },
  {
   "cell_type": "code",
   "execution_count": 30,
   "metadata": {},
   "outputs": [
    {
     "data": {
      "text/plain": [
       "KMeans(n_clusters=4)"
      ]
     },
     "execution_count": 30,
     "metadata": {},
     "output_type": "execute_result"
    }
   ],
   "source": [
    "# Fit the K-Means model using the PCA data\n",
    "model.fit(market_pca_df)"
   ]
  },
  {
   "cell_type": "code",
   "execution_count": 31,
   "metadata": {},
   "outputs": [
    {
     "name": "stdout",
     "output_type": "stream",
     "text": [
      "[1 1 0 0 1 1 1 1 1 0 0 0 0 1 0 1 0 0 1 0 0 1 0 0 0 0 0 0 1 0 0 0 2 1 0 0 3\n",
      " 0 0 0 0]\n"
     ]
    }
   ],
   "source": [
    "# Predict the clusters to group the cryptocurrencies using the PCA data\n",
    "market_clusters = model.predict(market_pca_df)\n",
    "\n",
    "# Print the resulting array of cluster values.\n",
    "print(market_clusters)"
   ]
  },
  {
   "cell_type": "code",
   "execution_count": 32,
   "metadata": {},
   "outputs": [
    {
     "data": {
      "text/html": [
       "<div>\n",
       "<style scoped>\n",
       "    .dataframe tbody tr th:only-of-type {\n",
       "        vertical-align: middle;\n",
       "    }\n",
       "\n",
       "    .dataframe tbody tr th {\n",
       "        vertical-align: top;\n",
       "    }\n",
       "\n",
       "    .dataframe thead th {\n",
       "        text-align: right;\n",
       "    }\n",
       "</style>\n",
       "<table border=\"1\" class=\"dataframe\">\n",
       "  <thead>\n",
       "    <tr style=\"text-align: right;\">\n",
       "      <th></th>\n",
       "      <th>PC1</th>\n",
       "      <th>PC2</th>\n",
       "      <th>PC3</th>\n",
       "      <th>PredictedClusters</th>\n",
       "    </tr>\n",
       "    <tr>\n",
       "      <th>coin_id</th>\n",
       "      <th></th>\n",
       "      <th></th>\n",
       "      <th></th>\n",
       "      <th></th>\n",
       "    </tr>\n",
       "  </thead>\n",
       "  <tbody>\n",
       "    <tr>\n",
       "      <th>bitcoin</th>\n",
       "      <td>2.034093</td>\n",
       "      <td>-0.641571</td>\n",
       "      <td>-0.357629</td>\n",
       "      <td>1</td>\n",
       "    </tr>\n",
       "    <tr>\n",
       "      <th>ethereum</th>\n",
       "      <td>1.994502</td>\n",
       "      <td>-0.490549</td>\n",
       "      <td>-0.912250</td>\n",
       "      <td>1</td>\n",
       "    </tr>\n",
       "    <tr>\n",
       "      <th>tether</th>\n",
       "      <td>-1.068544</td>\n",
       "      <td>-0.417205</td>\n",
       "      <td>0.596311</td>\n",
       "      <td>0</td>\n",
       "    </tr>\n",
       "    <tr>\n",
       "      <th>ripple</th>\n",
       "      <td>-1.040919</td>\n",
       "      <td>-0.455234</td>\n",
       "      <td>0.467801</td>\n",
       "      <td>0</td>\n",
       "    </tr>\n",
       "    <tr>\n",
       "      <th>bitcoin-cash</th>\n",
       "      <td>3.302764</td>\n",
       "      <td>-1.242458</td>\n",
       "      <td>-0.217276</td>\n",
       "      <td>1</td>\n",
       "    </tr>\n",
       "    <tr>\n",
       "      <th>binancecoin</th>\n",
       "      <td>2.505692</td>\n",
       "      <td>-0.575832</td>\n",
       "      <td>-0.129389</td>\n",
       "      <td>1</td>\n",
       "    </tr>\n",
       "    <tr>\n",
       "      <th>chainlink</th>\n",
       "      <td>2.770042</td>\n",
       "      <td>-0.495691</td>\n",
       "      <td>-1.890371</td>\n",
       "      <td>1</td>\n",
       "    </tr>\n",
       "    <tr>\n",
       "      <th>cardano</th>\n",
       "      <td>2.372449</td>\n",
       "      <td>-0.389146</td>\n",
       "      <td>-0.992513</td>\n",
       "      <td>1</td>\n",
       "    </tr>\n",
       "    <tr>\n",
       "      <th>litecoin</th>\n",
       "      <td>1.832344</td>\n",
       "      <td>-0.678797</td>\n",
       "      <td>-0.741581</td>\n",
       "      <td>1</td>\n",
       "    </tr>\n",
       "    <tr>\n",
       "      <th>bitcoin-cash-sv</th>\n",
       "      <td>-0.928101</td>\n",
       "      <td>-0.744485</td>\n",
       "      <td>0.333337</td>\n",
       "      <td>0</td>\n",
       "    </tr>\n",
       "  </tbody>\n",
       "</table>\n",
       "</div>"
      ],
      "text/plain": [
       "                      PC1       PC2       PC3  PredictedClusters\n",
       "coin_id                                                         \n",
       "bitcoin          2.034093 -0.641571 -0.357629                  1\n",
       "ethereum         1.994502 -0.490549 -0.912250                  1\n",
       "tether          -1.068544 -0.417205  0.596311                  0\n",
       "ripple          -1.040919 -0.455234  0.467801                  0\n",
       "bitcoin-cash     3.302764 -1.242458 -0.217276                  1\n",
       "binancecoin      2.505692 -0.575832 -0.129389                  1\n",
       "chainlink        2.770042 -0.495691 -1.890371                  1\n",
       "cardano          2.372449 -0.389146 -0.992513                  1\n",
       "litecoin         1.832344 -0.678797 -0.741581                  1\n",
       "bitcoin-cash-sv -0.928101 -0.744485  0.333337                  0"
      ]
     },
     "execution_count": 32,
     "metadata": {},
     "output_type": "execute_result"
    }
   ],
   "source": [
    "# Create a copy of the DataFrame with the PCA data\n",
    "duplicate_market_pca_df = market_pca_df.copy()\n",
    "\n",
    "# Add a new column to the DataFrame with the predicted clusters\n",
    "duplicate_market_pca_df[\"PredictedClusters\"] = market_clusters\n",
    "\n",
    "# Display sample data\n",
    "duplicate_market_pca_df.head(10)"
   ]
  },
  {
   "cell_type": "code",
   "execution_count": 33,
   "metadata": {},
   "outputs": [
    {
     "data": {},
     "metadata": {},
     "output_type": "display_data"
    },
    {
     "data": {
      "application/vnd.holoviews_exec.v0+json": "",
      "text/html": [
       "<div id='1818'>\n",
       "  <div class=\"bk-root\" id=\"d465760f-d37e-40f0-b9ef-7b11a00c3a08\" data-root-id=\"1818\"></div>\n",
       "</div>\n",
       "<script type=\"application/javascript\">(function(root) {\n",
       "  function embed_document(root) {\n",
       "    var docs_json = {\"de9522ca-48c3-4a18-a4f1-a832960d96bd\":{\"defs\":[{\"extends\":null,\"module\":null,\"name\":\"ReactiveHTML1\",\"overrides\":[],\"properties\":[]},{\"extends\":null,\"module\":null,\"name\":\"FlexBox1\",\"overrides\":[],\"properties\":[{\"default\":\"flex-start\",\"kind\":null,\"name\":\"align_content\"},{\"default\":\"flex-start\",\"kind\":null,\"name\":\"align_items\"},{\"default\":\"row\",\"kind\":null,\"name\":\"flex_direction\"},{\"default\":\"wrap\",\"kind\":null,\"name\":\"flex_wrap\"},{\"default\":\"flex-start\",\"kind\":null,\"name\":\"justify_content\"}]},{\"extends\":null,\"module\":null,\"name\":\"GridStack1\",\"overrides\":[],\"properties\":[{\"default\":\"warn\",\"kind\":null,\"name\":\"mode\"},{\"default\":null,\"kind\":null,\"name\":\"ncols\"},{\"default\":null,\"kind\":null,\"name\":\"nrows\"},{\"default\":true,\"kind\":null,\"name\":\"allow_resize\"},{\"default\":true,\"kind\":null,\"name\":\"allow_drag\"},{\"default\":[],\"kind\":null,\"name\":\"state\"}]},{\"extends\":null,\"module\":null,\"name\":\"click1\",\"overrides\":[],\"properties\":[{\"default\":\"\",\"kind\":null,\"name\":\"terminal_output\"},{\"default\":\"\",\"kind\":null,\"name\":\"debug_name\"},{\"default\":0,\"kind\":null,\"name\":\"clears\"}]},{\"extends\":null,\"module\":null,\"name\":\"NotificationAreaBase1\",\"overrides\":[],\"properties\":[{\"default\":\"bottom-right\",\"kind\":null,\"name\":\"position\"},{\"default\":0,\"kind\":null,\"name\":\"_clear\"}]},{\"extends\":null,\"module\":null,\"name\":\"NotificationArea1\",\"overrides\":[],\"properties\":[{\"default\":[],\"kind\":null,\"name\":\"notifications\"},{\"default\":\"bottom-right\",\"kind\":null,\"name\":\"position\"},{\"default\":0,\"kind\":null,\"name\":\"_clear\"},{\"default\":[{\"background\":\"#ffc107\",\"icon\":{\"className\":\"fas fa-exclamation-triangle\",\"color\":\"white\",\"tagName\":\"i\"},\"type\":\"warning\"},{\"background\":\"#007bff\",\"icon\":{\"className\":\"fas fa-info-circle\",\"color\":\"white\",\"tagName\":\"i\"},\"type\":\"info\"}],\"kind\":null,\"name\":\"types\"}]},{\"extends\":null,\"module\":null,\"name\":\"Notification\",\"overrides\":[],\"properties\":[{\"default\":null,\"kind\":null,\"name\":\"background\"},{\"default\":3000,\"kind\":null,\"name\":\"duration\"},{\"default\":null,\"kind\":null,\"name\":\"icon\"},{\"default\":\"\",\"kind\":null,\"name\":\"message\"},{\"default\":null,\"kind\":null,\"name\":\"notification_type\"},{\"default\":false,\"kind\":null,\"name\":\"_destroyed\"}]},{\"extends\":null,\"module\":null,\"name\":\"TemplateActions1\",\"overrides\":[],\"properties\":[{\"default\":0,\"kind\":null,\"name\":\"open_modal\"},{\"default\":0,\"kind\":null,\"name\":\"close_modal\"}]},{\"extends\":null,\"module\":null,\"name\":\"MaterialTemplateActions1\",\"overrides\":[],\"properties\":[{\"default\":0,\"kind\":null,\"name\":\"open_modal\"},{\"default\":0,\"kind\":null,\"name\":\"close_modal\"}]}],\"roots\":{\"references\":[{\"attributes\":{\"margin\":[5,5,5,5],\"name\":\"HSpacer01706\",\"sizing_mode\":\"stretch_width\"},\"id\":\"1819\",\"type\":\"Spacer\"},{\"attributes\":{\"source\":{\"id\":\"1929\"}},\"id\":\"1936\",\"type\":\"CDSView\"},{\"attributes\":{},\"id\":\"1858\",\"type\":\"AllLabels\"},{\"attributes\":{\"angle\":{\"value\":0.0},\"fill_alpha\":{\"value\":1.0},\"fill_color\":{\"value\":\"#e5ae38\"},\"hatch_alpha\":{\"value\":1.0},\"hatch_color\":{\"value\":\"#e5ae38\"},\"hatch_scale\":{\"value\":12.0},\"hatch_weight\":{\"value\":1.0},\"line_alpha\":{\"value\":1.0},\"line_cap\":{\"value\":\"butt\"},\"line_color\":{\"value\":\"#e5ae38\"},\"line_dash\":{\"value\":[]},\"line_dash_offset\":{\"value\":0},\"line_join\":{\"value\":\"bevel\"},\"line_width\":{\"value\":1},\"marker\":{\"value\":\"circle\"},\"size\":{\"value\":5.477225575051661},\"x\":{\"field\":\"PC1\"},\"y\":{\"field\":\"PC2\"}},\"id\":\"1928\",\"type\":\"Scatter\"},{\"attributes\":{\"children\":[{\"id\":\"1819\"},{\"id\":\"1826\"},{\"id\":\"1971\"}],\"margin\":[0,0,0,0],\"name\":\"Row01702\",\"tags\":[\"embedded\"]},\"id\":\"1818\",\"type\":\"Row\"},{\"attributes\":{\"bottom_units\":\"screen\",\"coordinates\":null,\"fill_alpha\":0.5,\"fill_color\":\"lightgrey\",\"group\":null,\"left_units\":\"screen\",\"level\":\"overlay\",\"line_alpha\":1.0,\"line_color\":\"black\",\"line_dash\":[4,4],\"line_width\":2,\"right_units\":\"screen\",\"syncable\":false,\"top_units\":\"screen\"},\"id\":\"1848\",\"type\":\"BoxAnnotation\"},{\"attributes\":{\"coordinates\":null,\"data_source\":{\"id\":\"1862\"},\"glyph\":{\"id\":\"1865\"},\"group\":null,\"hover_glyph\":null,\"muted_glyph\":{\"id\":\"1867\"},\"nonselection_glyph\":{\"id\":\"1866\"},\"selection_glyph\":{\"id\":\"1882\"},\"view\":{\"id\":\"1869\"}},\"id\":\"1868\",\"type\":\"GlyphRenderer\"},{\"attributes\":{\"data\":{\"PC1\":{\"__ndarray__\":\"opXVt8EY8b/VvP1Qmqfwv8bsAiEAs+2/iwL6EoMDAcArbCHvbk7xv6OiXLu2hvO/8f7C9lAr6b+v/X9e5pn+v/gpys16C/O/UED4Wlf78L+omK34FJz5v9DzyuOrs/i/jAg1cEZs77/cgIQtG2fpv4reoDOV+PC/hGeaqsaY7r9mmRbdwiIDwEiHkgOab/a/NQDswPcu7L8SLrI5G1Xvv5+A634RTv+/JrkpeWa17L/tdGYpZSkCwDZoh4kb7eO/oo4emHe/8L+oNPNB28fyvw==\",\"dtype\":\"float64\",\"order\":\"little\",\"shape\":[26]},\"PC2\":{\"__ndarray__\":\"yQSRmHqz2r9slBzsjiLdv/yW5TfS0ue/LSe7Oi6ByL/1x8O5SAXbv1S9IVySZ+W/o5mWA6eB2L+dxo07Jou9P0cuD6ncaN2/TL3XmP7j379+/5ezjI/Uvxzy+jTYTti/GhGqJQoW2b+EADzY7l7jPwdcZwMP1Nu/vvQ3T2HH579B+qIa8fbev9656muAjQVAPIyq23IE478SOrRcHPfhv9DeRXanB+4/4UnyH5PLvD/mm0rAEtzhvzh+4qxUz+K/QA3a2mhe3L9WwFmQnOvRvw==\",\"dtype\":\"float64\",\"order\":\"little\",\"shape\":[26]},\"PredictedClusters\":[0,0,0,0,0,0,0,0,0,0,0,0,0,0,0,0,0,0,0,0,0,0,0,0,0,0]},\"selected\":{\"id\":\"1863\"},\"selection_policy\":{\"id\":\"1877\"}},\"id\":\"1862\",\"type\":\"ColumnDataSource\"},{\"attributes\":{\"label\":{\"value\":\"3\"},\"renderers\":[{\"id\":\"1935\"}]},\"id\":\"1953\",\"type\":\"LegendItem\"},{\"attributes\":{\"coordinates\":null,\"data_source\":{\"id\":\"1929\"},\"glyph\":{\"id\":\"1932\"},\"group\":null,\"hover_glyph\":null,\"muted_glyph\":{\"id\":\"1934\"},\"nonselection_glyph\":{\"id\":\"1933\"},\"selection_glyph\":{\"id\":\"1954\"},\"view\":{\"id\":\"1936\"}},\"id\":\"1935\",\"type\":\"GlyphRenderer\"},{\"attributes\":{\"tools\":[{\"id\":\"1822\"},{\"id\":\"1843\"},{\"id\":\"1844\"},{\"id\":\"1845\"},{\"id\":\"1846\"},{\"id\":\"1847\"}]},\"id\":\"1849\",\"type\":\"Toolbar\"},{\"attributes\":{},\"id\":\"1857\",\"type\":\"BasicTickFormatter\"},{\"attributes\":{},\"id\":\"1860\",\"type\":\"BasicTickFormatter\"},{\"attributes\":{},\"id\":\"1861\",\"type\":\"AllLabels\"},{\"attributes\":{},\"id\":\"1950\",\"type\":\"UnionRenderers\"},{\"attributes\":{\"source\":{\"id\":\"1905\"}},\"id\":\"1912\",\"type\":\"CDSView\"},{\"attributes\":{\"angle\":{\"value\":0.0},\"fill_alpha\":{\"value\":1.0},\"fill_color\":{\"value\":\"#fc4f30\"},\"hatch_alpha\":{\"value\":1.0},\"hatch_color\":{\"value\":\"#fc4f30\"},\"hatch_scale\":{\"value\":12.0},\"hatch_weight\":{\"value\":1.0},\"line_alpha\":{\"value\":1.0},\"line_cap\":{\"value\":\"butt\"},\"line_color\":{\"value\":\"#fc4f30\"},\"line_dash\":{\"value\":[]},\"line_dash_offset\":{\"value\":0},\"line_join\":{\"value\":\"bevel\"},\"line_width\":{\"value\":1},\"marker\":{\"value\":\"circle\"},\"size\":{\"value\":5.477225575051661},\"x\":{\"field\":\"PC1\"},\"y\":{\"field\":\"PC2\"}},\"id\":\"1904\",\"type\":\"Scatter\"},{\"attributes\":{\"data\":{\"PC1\":{\"__ndarray__\":\"uBcmq5X+C0A=\",\"dtype\":\"float64\",\"order\":\"little\",\"shape\":[1]},\"PC2\":{\"__ndarray__\":\"TZdlHs5kEkA=\",\"dtype\":\"float64\",\"order\":\"little\",\"shape\":[1]},\"PredictedClusters\":[3]},\"selected\":{\"id\":\"1930\"},\"selection_policy\":{\"id\":\"1950\"}},\"id\":\"1929\",\"type\":\"ColumnDataSource\"},{\"attributes\":{\"end\":3.9900588774599237,\"reset_end\":3.9900588774599237,\"reset_start\":-2.654248527678913,\"start\":-2.654248527678913,\"tags\":[[[\"PC1\",\"PC1\",null]]]},\"id\":\"1820\",\"type\":\"Range1d\"},{\"attributes\":{\"fill_alpha\":{\"value\":0.1},\"fill_color\":{\"value\":\"#6d904f\"},\"hatch_alpha\":{\"value\":0.1},\"hatch_color\":{\"value\":\"#6d904f\"},\"line_alpha\":{\"value\":0.1},\"line_color\":{\"value\":\"#6d904f\"},\"size\":{\"value\":5.477225575051661},\"x\":{\"field\":\"PC1\"},\"y\":{\"field\":\"PC2\"}},\"id\":\"1933\",\"type\":\"Scatter\"},{\"attributes\":{\"callback\":null,\"renderers\":[{\"id\":\"1868\"},{\"id\":\"1889\"},{\"id\":\"1911\"},{\"id\":\"1935\"}],\"tags\":[\"hv_created\"],\"tooltips\":[[\"PredictedClusters\",\"@{PredictedClusters}\"],[\"PC1\",\"@{PC1}\"],[\"PC2\",\"@{PC2}\"]]},\"id\":\"1822\",\"type\":\"HoverTool\"},{\"attributes\":{\"label\":{\"value\":\"2\"},\"renderers\":[{\"id\":\"1911\"}]},\"id\":\"1927\",\"type\":\"LegendItem\"},{\"attributes\":{\"source\":{\"id\":\"1862\"}},\"id\":\"1869\",\"type\":\"CDSView\"},{\"attributes\":{\"fill_alpha\":{\"value\":0.2},\"fill_color\":{\"value\":\"#30a2da\"},\"hatch_alpha\":{\"value\":0.2},\"hatch_color\":{\"value\":\"#30a2da\"},\"line_alpha\":{\"value\":0.2},\"line_color\":{\"value\":\"#30a2da\"},\"size\":{\"value\":5.477225575051661},\"x\":{\"field\":\"PC1\"},\"y\":{\"field\":\"PC2\"}},\"id\":\"1867\",\"type\":\"Scatter\"},{\"attributes\":{\"coordinates\":null,\"data_source\":{\"id\":\"1905\"},\"glyph\":{\"id\":\"1908\"},\"group\":null,\"hover_glyph\":null,\"muted_glyph\":{\"id\":\"1910\"},\"nonselection_glyph\":{\"id\":\"1909\"},\"selection_glyph\":{\"id\":\"1928\"},\"view\":{\"id\":\"1912\"}},\"id\":\"1911\",\"type\":\"GlyphRenderer\"},{\"attributes\":{\"fill_color\":{\"value\":\"#6d904f\"},\"hatch_color\":{\"value\":\"#6d904f\"},\"line_color\":{\"value\":\"#6d904f\"},\"size\":{\"value\":5.477225575051661},\"x\":{\"field\":\"PC1\"},\"y\":{\"field\":\"PC2\"}},\"id\":\"1932\",\"type\":\"Scatter\"},{\"attributes\":{\"fill_alpha\":{\"value\":0.2},\"fill_color\":{\"value\":\"#6d904f\"},\"hatch_alpha\":{\"value\":0.2},\"hatch_color\":{\"value\":\"#6d904f\"},\"line_alpha\":{\"value\":0.2},\"line_color\":{\"value\":\"#6d904f\"},\"size\":{\"value\":5.477225575051661},\"x\":{\"field\":\"PC1\"},\"y\":{\"field\":\"PC2\"}},\"id\":\"1934\",\"type\":\"Scatter\"},{\"attributes\":{},\"id\":\"1884\",\"type\":\"Selection\"},{\"attributes\":{},\"id\":\"1930\",\"type\":\"Selection\"},{\"attributes\":{\"end\":9.124784751598003,\"reset_end\":9.124784751598003,\"reset_start\":-2.184934247836348,\"start\":-2.184934247836348,\"tags\":[[[\"PC2\",\"PC2\",null]]]},\"id\":\"1821\",\"type\":\"Range1d\"},{\"attributes\":{},\"id\":\"1831\",\"type\":\"LinearScale\"},{\"attributes\":{\"data\":{\"PC1\":{\"__ndarray__\":\"KtNLfdJFAEBBwpqYeun/P0eI23IPbApAN3X4CagLBECNx5WhCykGQMFok3rG+gJAd+UA1UdR/T9gV0YzgNINQIciGTu5Lfc/ka4zQ9eXA0AHHje2NSAAQOOdzTJudwBAo6AA5FKU+T8=\",\"dtype\":\"float64\",\"order\":\"little\",\"shape\":[13]},\"PC2\":{\"__ndarray__\":\"6aqxr8CH5L9at7UxKWXfv+KEvkkb4fO/rVYnBTdt4r9iJNJlaLnfv9xC9MDF59i/OGNILrS45b/SmQmFHfWov8HbD2QSnem/FOxJHyVt1r9TZP52XaDkv5Rb+pzsYd2/xXSmZ6Uy2r8=\",\"dtype\":\"float64\",\"order\":\"little\",\"shape\":[13]},\"PredictedClusters\":[1,1,1,1,1,1,1,1,1,1,1,1,1]},\"selected\":{\"id\":\"1884\"},\"selection_policy\":{\"id\":\"1900\"}},\"id\":\"1883\",\"type\":\"ColumnDataSource\"},{\"attributes\":{\"fill_color\":{\"value\":\"#30a2da\"},\"hatch_color\":{\"value\":\"#30a2da\"},\"line_color\":{\"value\":\"#30a2da\"},\"size\":{\"value\":5.477225575051661},\"x\":{\"field\":\"PC1\"},\"y\":{\"field\":\"PC2\"}},\"id\":\"1865\",\"type\":\"Scatter\"},{\"attributes\":{\"angle\":{\"value\":0.0},\"fill_alpha\":{\"value\":1.0},\"fill_color\":{\"value\":\"#30a2da\"},\"hatch_alpha\":{\"value\":1.0},\"hatch_color\":{\"value\":\"#30a2da\"},\"hatch_scale\":{\"value\":12.0},\"hatch_weight\":{\"value\":1.0},\"line_alpha\":{\"value\":1.0},\"line_cap\":{\"value\":\"butt\"},\"line_color\":{\"value\":\"#30a2da\"},\"line_dash\":{\"value\":[]},\"line_dash_offset\":{\"value\":0},\"line_join\":{\"value\":\"bevel\"},\"line_width\":{\"value\":1},\"marker\":{\"value\":\"circle\"},\"size\":{\"value\":5.477225575051661},\"x\":{\"field\":\"PC1\"},\"y\":{\"field\":\"PC2\"}},\"id\":\"1882\",\"type\":\"Scatter\"},{\"attributes\":{},\"id\":\"1924\",\"type\":\"UnionRenderers\"},{\"attributes\":{\"fill_alpha\":{\"value\":0.1},\"fill_color\":{\"value\":\"#30a2da\"},\"hatch_alpha\":{\"value\":0.1},\"hatch_color\":{\"value\":\"#30a2da\"},\"line_alpha\":{\"value\":0.1},\"line_color\":{\"value\":\"#30a2da\"},\"size\":{\"value\":5.477225575051661},\"x\":{\"field\":\"PC1\"},\"y\":{\"field\":\"PC2\"}},\"id\":\"1866\",\"type\":\"Scatter\"},{\"attributes\":{\"fill_alpha\":{\"value\":0.1},\"fill_color\":{\"value\":\"#fc4f30\"},\"hatch_alpha\":{\"value\":0.1},\"hatch_color\":{\"value\":\"#fc4f30\"},\"line_alpha\":{\"value\":0.1},\"line_color\":{\"value\":\"#fc4f30\"},\"size\":{\"value\":5.477225575051661},\"x\":{\"field\":\"PC1\"},\"y\":{\"field\":\"PC2\"}},\"id\":\"1887\",\"type\":\"Scatter\"},{\"attributes\":{},\"id\":\"1833\",\"type\":\"LinearScale\"},{\"attributes\":{\"fill_alpha\":{\"value\":0.1},\"fill_color\":{\"value\":\"#e5ae38\"},\"hatch_alpha\":{\"value\":0.1},\"hatch_color\":{\"value\":\"#e5ae38\"},\"line_alpha\":{\"value\":0.1},\"line_color\":{\"value\":\"#e5ae38\"},\"size\":{\"value\":5.477225575051661},\"x\":{\"field\":\"PC1\"},\"y\":{\"field\":\"PC2\"}},\"id\":\"1909\",\"type\":\"Scatter\"},{\"attributes\":{\"below\":[{\"id\":\"1835\"}],\"center\":[{\"id\":\"1838\"},{\"id\":\"1842\"}],\"height\":300,\"left\":[{\"id\":\"1839\"}],\"margin\":[5,5,5,5],\"min_border_bottom\":10,\"min_border_left\":10,\"min_border_right\":10,\"min_border_top\":10,\"renderers\":[{\"id\":\"1868\"},{\"id\":\"1889\"},{\"id\":\"1911\"},{\"id\":\"1935\"}],\"right\":[{\"id\":\"1880\"}],\"sizing_mode\":\"fixed\",\"title\":{\"id\":\"1827\"},\"toolbar\":{\"id\":\"1849\"},\"width\":700,\"x_range\":{\"id\":\"1820\"},\"x_scale\":{\"id\":\"1831\"},\"y_range\":{\"id\":\"1821\"},\"y_scale\":{\"id\":\"1833\"}},\"id\":\"1826\",\"subtype\":\"Figure\",\"type\":\"Plot\"},{\"attributes\":{\"margin\":[5,5,5,5],\"name\":\"HSpacer01707\",\"sizing_mode\":\"stretch_width\"},\"id\":\"1971\",\"type\":\"Spacer\"},{\"attributes\":{\"coordinates\":null,\"group\":null,\"text_color\":\"black\",\"text_font_size\":\"12pt\"},\"id\":\"1827\",\"type\":\"Title\"},{\"attributes\":{\"fill_color\":{\"value\":\"#e5ae38\"},\"hatch_color\":{\"value\":\"#e5ae38\"},\"line_color\":{\"value\":\"#e5ae38\"},\"size\":{\"value\":5.477225575051661},\"x\":{\"field\":\"PC1\"},\"y\":{\"field\":\"PC2\"}},\"id\":\"1908\",\"type\":\"Scatter\"},{\"attributes\":{\"fill_alpha\":{\"value\":0.2},\"fill_color\":{\"value\":\"#e5ae38\"},\"hatch_alpha\":{\"value\":0.2},\"hatch_color\":{\"value\":\"#e5ae38\"},\"line_alpha\":{\"value\":0.2},\"line_color\":{\"value\":\"#e5ae38\"},\"size\":{\"value\":5.477225575051661},\"x\":{\"field\":\"PC1\"},\"y\":{\"field\":\"PC2\"}},\"id\":\"1910\",\"type\":\"Scatter\"},{\"attributes\":{\"axis_label\":\"PC1\",\"coordinates\":null,\"formatter\":{\"id\":\"1857\"},\"group\":null,\"major_label_policy\":{\"id\":\"1858\"},\"ticker\":{\"id\":\"1836\"}},\"id\":\"1835\",\"type\":\"LinearAxis\"},{\"attributes\":{\"source\":{\"id\":\"1883\"}},\"id\":\"1890\",\"type\":\"CDSView\"},{\"attributes\":{},\"id\":\"1836\",\"type\":\"BasicTicker\"},{\"attributes\":{},\"id\":\"1906\",\"type\":\"Selection\"},{\"attributes\":{\"axis\":{\"id\":\"1835\"},\"coordinates\":null,\"grid_line_color\":null,\"group\":null,\"ticker\":null},\"id\":\"1838\",\"type\":\"Grid\"},{\"attributes\":{\"fill_color\":{\"value\":\"#fc4f30\"},\"hatch_color\":{\"value\":\"#fc4f30\"},\"line_color\":{\"value\":\"#fc4f30\"},\"size\":{\"value\":5.477225575051661},\"x\":{\"field\":\"PC1\"},\"y\":{\"field\":\"PC2\"}},\"id\":\"1886\",\"type\":\"Scatter\"},{\"attributes\":{},\"id\":\"1844\",\"type\":\"PanTool\"},{\"attributes\":{\"axis_label\":\"PC2\",\"coordinates\":null,\"formatter\":{\"id\":\"1860\"},\"group\":null,\"major_label_policy\":{\"id\":\"1861\"},\"ticker\":{\"id\":\"1840\"}},\"id\":\"1839\",\"type\":\"LinearAxis\"},{\"attributes\":{\"axis\":{\"id\":\"1839\"},\"coordinates\":null,\"dimension\":1,\"grid_line_color\":null,\"group\":null,\"ticker\":null},\"id\":\"1842\",\"type\":\"Grid\"},{\"attributes\":{},\"id\":\"1840\",\"type\":\"BasicTicker\"},{\"attributes\":{},\"id\":\"1845\",\"type\":\"WheelZoomTool\"},{\"attributes\":{\"label\":{\"value\":\"1\"},\"renderers\":[{\"id\":\"1889\"}]},\"id\":\"1903\",\"type\":\"LegendItem\"},{\"attributes\":{},\"id\":\"1877\",\"type\":\"UnionRenderers\"},{\"attributes\":{},\"id\":\"1843\",\"type\":\"SaveTool\"},{\"attributes\":{},\"id\":\"1863\",\"type\":\"Selection\"},{\"attributes\":{\"click_policy\":\"mute\",\"coordinates\":null,\"group\":null,\"items\":[{\"id\":\"1881\"},{\"id\":\"1903\"},{\"id\":\"1927\"},{\"id\":\"1953\"}],\"location\":[0,0],\"title\":\"PredictedClusters\"},\"id\":\"1880\",\"type\":\"Legend\"},{\"attributes\":{\"overlay\":{\"id\":\"1848\"}},\"id\":\"1846\",\"type\":\"BoxZoomTool\"},{\"attributes\":{},\"id\":\"1847\",\"type\":\"ResetTool\"},{\"attributes\":{\"coordinates\":null,\"data_source\":{\"id\":\"1883\"},\"glyph\":{\"id\":\"1886\"},\"group\":null,\"hover_glyph\":null,\"muted_glyph\":{\"id\":\"1888\"},\"nonselection_glyph\":{\"id\":\"1887\"},\"selection_glyph\":{\"id\":\"1904\"},\"view\":{\"id\":\"1890\"}},\"id\":\"1889\",\"type\":\"GlyphRenderer\"},{\"attributes\":{\"label\":{\"value\":\"0\"},\"renderers\":[{\"id\":\"1868\"}]},\"id\":\"1881\",\"type\":\"LegendItem\"},{\"attributes\":{\"angle\":{\"value\":0.0},\"fill_alpha\":{\"value\":1.0},\"fill_color\":{\"value\":\"#6d904f\"},\"hatch_alpha\":{\"value\":1.0},\"hatch_color\":{\"value\":\"#6d904f\"},\"hatch_scale\":{\"value\":12.0},\"hatch_weight\":{\"value\":1.0},\"line_alpha\":{\"value\":1.0},\"line_cap\":{\"value\":\"butt\"},\"line_color\":{\"value\":\"#6d904f\"},\"line_dash\":{\"value\":[]},\"line_dash_offset\":{\"value\":0},\"line_join\":{\"value\":\"bevel\"},\"line_width\":{\"value\":1},\"marker\":{\"value\":\"circle\"},\"size\":{\"value\":5.477225575051661},\"x\":{\"field\":\"PC1\"},\"y\":{\"field\":\"PC2\"}},\"id\":\"1954\",\"type\":\"Scatter\"},{\"attributes\":{},\"id\":\"1900\",\"type\":\"UnionRenderers\"},{\"attributes\":{\"fill_alpha\":{\"value\":0.2},\"fill_color\":{\"value\":\"#fc4f30\"},\"hatch_alpha\":{\"value\":0.2},\"hatch_color\":{\"value\":\"#fc4f30\"},\"line_alpha\":{\"value\":0.2},\"line_color\":{\"value\":\"#fc4f30\"},\"size\":{\"value\":5.477225575051661},\"x\":{\"field\":\"PC1\"},\"y\":{\"field\":\"PC2\"}},\"id\":\"1888\",\"type\":\"Scatter\"},{\"attributes\":{\"data\":{\"PC1\":{\"__ndarray__\":\"GtFii3lK5L8=\",\"dtype\":\"float64\",\"order\":\"little\",\"shape\":[1]},\"PC2\":{\"__ndarray__\":\"wWIJf1ddIEA=\",\"dtype\":\"float64\",\"order\":\"little\",\"shape\":[1]},\"PredictedClusters\":[2]},\"selected\":{\"id\":\"1906\"},\"selection_policy\":{\"id\":\"1924\"}},\"id\":\"1905\",\"type\":\"ColumnDataSource\"}],\"root_ids\":[\"1818\"]},\"title\":\"Bokeh Application\",\"version\":\"2.4.3\"}};\n",
       "    var render_items = [{\"docid\":\"de9522ca-48c3-4a18-a4f1-a832960d96bd\",\"root_ids\":[\"1818\"],\"roots\":{\"1818\":\"d465760f-d37e-40f0-b9ef-7b11a00c3a08\"}}];\n",
       "    root.Bokeh.embed.embed_items_notebook(docs_json, render_items);\n",
       "  }\n",
       "  if (root.Bokeh !== undefined && root.Bokeh.Panel !== undefined) {\n",
       "    embed_document(root);\n",
       "  } else {\n",
       "    var attempts = 0;\n",
       "    var timer = setInterval(function(root) {\n",
       "      if (root.Bokeh !== undefined && root.Bokeh.Panel !== undefined) {\n",
       "        clearInterval(timer);\n",
       "        embed_document(root);\n",
       "      } else if (document.readyState == \"complete\") {\n",
       "        attempts++;\n",
       "        if (attempts > 200) {\n",
       "          clearInterval(timer);\n",
       "          console.log(\"Bokeh: ERROR: Unable to run BokehJS code because BokehJS library is missing\");\n",
       "        }\n",
       "      }\n",
       "    }, 25, root)\n",
       "  }\n",
       "})(window);</script>"
      ],
      "text/plain": [
       ":NdOverlay   [PredictedClusters]\n",
       "   :Scatter   [PC1]   (PC2)"
      ]
     },
     "execution_count": 33,
     "metadata": {
      "application/vnd.holoviews_exec.v0+json": {
       "id": "1818"
      }
     },
     "output_type": "execute_result"
    }
   ],
   "source": [
    "# Create a scatter plot using hvPlot by setting \n",
    "# `x=\"price_change_percentage_24h\"` and `y=\"price_change_percentage_7d\"`. \n",
    "# Color the graph points with the labels found using K-Means and \n",
    "# add the crypto name in the `hover_cols` parameter to identify \n",
    "# the cryptocurrency represented by each data point.\n",
    "\n",
    "duplicate_market_pca_df.hvplot.scatter(\n",
    "    x = \"PC1\",\n",
    "    y = \"PC2\",\n",
    "    by = \"PredictedClusters\"\n",
    ")"
   ]
  },
  {
   "attachments": {},
   "cell_type": "markdown",
   "metadata": {},
   "source": [
    "### Visualize and Compare the Results\n",
    "\n",
    "In this section, you will visually analyze the cluster analysis results by contrasting the outcome with and without using the optimization techniques."
   ]
  },
  {
   "cell_type": "code",
   "execution_count": 34,
   "metadata": {},
   "outputs": [
    {
     "data": {},
     "metadata": {},
     "output_type": "display_data"
    },
    {
     "data": {
      "application/vnd.holoviews_exec.v0+json": "",
      "text/html": [
       "<div id='2053'>\n",
       "  <div class=\"bk-root\" id=\"aa10ddc2-c8ee-4ded-aca2-7234867d61eb\" data-root-id=\"2053\"></div>\n",
       "</div>\n",
       "<script type=\"application/javascript\">(function(root) {\n",
       "  function embed_document(root) {\n",
       "    var docs_json = {\"5510af97-8b14-4d6e-839a-493d623ff027\":{\"defs\":[{\"extends\":null,\"module\":null,\"name\":\"ReactiveHTML1\",\"overrides\":[],\"properties\":[]},{\"extends\":null,\"module\":null,\"name\":\"FlexBox1\",\"overrides\":[],\"properties\":[{\"default\":\"flex-start\",\"kind\":null,\"name\":\"align_content\"},{\"default\":\"flex-start\",\"kind\":null,\"name\":\"align_items\"},{\"default\":\"row\",\"kind\":null,\"name\":\"flex_direction\"},{\"default\":\"wrap\",\"kind\":null,\"name\":\"flex_wrap\"},{\"default\":\"flex-start\",\"kind\":null,\"name\":\"justify_content\"}]},{\"extends\":null,\"module\":null,\"name\":\"GridStack1\",\"overrides\":[],\"properties\":[{\"default\":\"warn\",\"kind\":null,\"name\":\"mode\"},{\"default\":null,\"kind\":null,\"name\":\"ncols\"},{\"default\":null,\"kind\":null,\"name\":\"nrows\"},{\"default\":true,\"kind\":null,\"name\":\"allow_resize\"},{\"default\":true,\"kind\":null,\"name\":\"allow_drag\"},{\"default\":[],\"kind\":null,\"name\":\"state\"}]},{\"extends\":null,\"module\":null,\"name\":\"click1\",\"overrides\":[],\"properties\":[{\"default\":\"\",\"kind\":null,\"name\":\"terminal_output\"},{\"default\":\"\",\"kind\":null,\"name\":\"debug_name\"},{\"default\":0,\"kind\":null,\"name\":\"clears\"}]},{\"extends\":null,\"module\":null,\"name\":\"NotificationAreaBase1\",\"overrides\":[],\"properties\":[{\"default\":\"bottom-right\",\"kind\":null,\"name\":\"position\"},{\"default\":0,\"kind\":null,\"name\":\"_clear\"}]},{\"extends\":null,\"module\":null,\"name\":\"NotificationArea1\",\"overrides\":[],\"properties\":[{\"default\":[],\"kind\":null,\"name\":\"notifications\"},{\"default\":\"bottom-right\",\"kind\":null,\"name\":\"position\"},{\"default\":0,\"kind\":null,\"name\":\"_clear\"},{\"default\":[{\"background\":\"#ffc107\",\"icon\":{\"className\":\"fas fa-exclamation-triangle\",\"color\":\"white\",\"tagName\":\"i\"},\"type\":\"warning\"},{\"background\":\"#007bff\",\"icon\":{\"className\":\"fas fa-info-circle\",\"color\":\"white\",\"tagName\":\"i\"},\"type\":\"info\"}],\"kind\":null,\"name\":\"types\"}]},{\"extends\":null,\"module\":null,\"name\":\"Notification\",\"overrides\":[],\"properties\":[{\"default\":null,\"kind\":null,\"name\":\"background\"},{\"default\":3000,\"kind\":null,\"name\":\"duration\"},{\"default\":null,\"kind\":null,\"name\":\"icon\"},{\"default\":\"\",\"kind\":null,\"name\":\"message\"},{\"default\":null,\"kind\":null,\"name\":\"notification_type\"},{\"default\":false,\"kind\":null,\"name\":\"_destroyed\"}]},{\"extends\":null,\"module\":null,\"name\":\"TemplateActions1\",\"overrides\":[],\"properties\":[{\"default\":0,\"kind\":null,\"name\":\"open_modal\"},{\"default\":0,\"kind\":null,\"name\":\"close_modal\"}]},{\"extends\":null,\"module\":null,\"name\":\"MaterialTemplateActions1\",\"overrides\":[],\"properties\":[{\"default\":0,\"kind\":null,\"name\":\"open_modal\"},{\"default\":0,\"kind\":null,\"name\":\"close_modal\"}]}],\"roots\":{\"references\":[{\"attributes\":{\"margin\":[5,5,5,5],\"name\":\"HSpacer01857\",\"sizing_mode\":\"stretch_width\"},\"id\":\"2054\",\"type\":\"Spacer\"},{\"attributes\":{},\"id\":\"2076\",\"type\":\"PanTool\"},{\"attributes\":{},\"id\":\"2114\",\"type\":\"LinearScale\"},{\"attributes\":{\"axis\":{\"id\":\"2071\"},\"coordinates\":null,\"dimension\":1,\"grid_line_color\":null,\"group\":null,\"ticker\":null},\"id\":\"2074\",\"type\":\"Grid\"},{\"attributes\":{\"callback\":null,\"renderers\":[{\"id\":\"2143\"}],\"tags\":[\"hv_created\"],\"tooltips\":[[\"k\",\"@{k}\"],[\"inertia\",\"@{inertia}\"]]},\"id\":\"2106\",\"type\":\"HoverTool\"},{\"attributes\":{},\"id\":\"2072\",\"type\":\"BasicTicker\"},{\"attributes\":{},\"id\":\"2077\",\"type\":\"WheelZoomTool\"},{\"attributes\":{},\"id\":\"2125\",\"type\":\"PanTool\"},{\"attributes\":{},\"id\":\"2075\",\"type\":\"SaveTool\"},{\"attributes\":{\"axis\":{\"id\":\"2116\"},\"coordinates\":null,\"grid_line_color\":null,\"group\":null,\"ticker\":null},\"id\":\"2119\",\"type\":\"Grid\"},{\"attributes\":{\"coordinates\":null,\"group\":null,\"text\":\"Elbow Curve\",\"text_color\":\"black\",\"text_font_size\":\"12pt\"},\"id\":\"2108\",\"type\":\"Title\"},{\"attributes\":{\"overlay\":{\"id\":\"2080\"}},\"id\":\"2078\",\"type\":\"BoxZoomTool\"},{\"attributes\":{},\"id\":\"2079\",\"type\":\"ResetTool\"},{\"attributes\":{\"axis_label\":\"k\",\"coordinates\":null,\"formatter\":{\"id\":\"2148\"},\"group\":null,\"major_label_policy\":{\"id\":\"2149\"},\"ticker\":{\"id\":\"2146\"}},\"id\":\"2116\",\"type\":\"LinearAxis\"},{\"attributes\":{\"bottom_units\":\"screen\",\"coordinates\":null,\"fill_alpha\":0.5,\"fill_color\":\"lightgrey\",\"group\":null,\"left_units\":\"screen\",\"level\":\"overlay\",\"line_alpha\":1.0,\"line_color\":\"black\",\"line_dash\":[4,4],\"line_width\":2,\"right_units\":\"screen\",\"syncable\":false,\"top_units\":\"screen\"},\"id\":\"2080\",\"type\":\"BoxAnnotation\"},{\"attributes\":{\"ticks\":[1,2,3,4,5,6,7,8,9,10,11]},\"id\":\"2097\",\"type\":\"FixedTicker\"},{\"attributes\":{},\"id\":\"2153\",\"type\":\"BasicTickFormatter\"},{\"attributes\":{},\"id\":\"2138\",\"type\":\"Selection\"},{\"attributes\":{\"children\":[{\"id\":\"2054\"},{\"id\":\"2178\"},{\"id\":\"2197\"}],\"margin\":[0,0,0,0],\"name\":\"Row01853\",\"tags\":[\"embedded\"]},\"id\":\"2053\",\"type\":\"Row\"},{\"attributes\":{\"axis_label\":\"inertia\",\"coordinates\":null,\"formatter\":{\"id\":\"2153\"},\"group\":null,\"major_label_policy\":{\"id\":\"2154\"},\"ticker\":{\"id\":\"2121\"}},\"id\":\"2120\",\"type\":\"LinearAxis\"},{\"attributes\":{\"source\":{\"id\":\"2088\"}},\"id\":\"2095\",\"type\":\"CDSView\"},{\"attributes\":{\"axis\":{\"id\":\"2120\"},\"coordinates\":null,\"dimension\":1,\"grid_line_color\":null,\"group\":null,\"ticker\":null},\"id\":\"2123\",\"type\":\"Grid\"},{\"attributes\":{},\"id\":\"2112\",\"type\":\"LinearScale\"},{\"attributes\":{},\"id\":\"2121\",\"type\":\"BasicTicker\"},{\"attributes\":{},\"id\":\"2126\",\"type\":\"WheelZoomTool\"},{\"attributes\":{\"line_color\":\"#30a2da\",\"line_width\":2,\"x\":{\"field\":\"k\"},\"y\":{\"field\":\"inertia\"}},\"id\":\"2091\",\"type\":\"Line\"},{\"attributes\":{},\"id\":\"2124\",\"type\":\"SaveTool\"},{\"attributes\":{\"line_alpha\":0.1,\"line_color\":\"#30a2da\",\"line_width\":2,\"x\":{\"field\":\"k\"},\"y\":{\"field\":\"inertia\"}},\"id\":\"2092\",\"type\":\"Line\"},{\"attributes\":{},\"id\":\"2171\",\"type\":\"UnionRenderers\"},{\"attributes\":{\"overlay\":{\"id\":\"2129\"}},\"id\":\"2127\",\"type\":\"BoxZoomTool\"},{\"attributes\":{\"margin\":[5,5,5,5],\"name\":\"HSpacer01858\",\"sizing_mode\":\"stretch_width\"},\"id\":\"2197\",\"type\":\"Spacer\"},{\"attributes\":{},\"id\":\"2128\",\"type\":\"ResetTool\"},{\"attributes\":{\"bottom_units\":\"screen\",\"coordinates\":null,\"fill_alpha\":0.5,\"fill_color\":\"lightgrey\",\"group\":null,\"left_units\":\"screen\",\"level\":\"overlay\",\"line_alpha\":1.0,\"line_color\":\"black\",\"line_dash\":[4,4],\"line_width\":2,\"right_units\":\"screen\",\"syncable\":false,\"top_units\":\"screen\"},\"id\":\"2129\",\"type\":\"BoxAnnotation\"},{\"attributes\":{\"line_alpha\":0.1,\"line_color\":\"#30a2da\",\"line_width\":2,\"x\":{\"field\":\"k\"},\"y\":{\"field\":\"inertia\"}},\"id\":\"2141\",\"type\":\"Line\"},{\"attributes\":{\"tools\":[{\"id\":\"2057\"},{\"id\":\"2075\"},{\"id\":\"2076\"},{\"id\":\"2077\"},{\"id\":\"2078\"},{\"id\":\"2079\"}]},\"id\":\"2081\",\"type\":\"Toolbar\"},{\"attributes\":{},\"id\":\"2149\",\"type\":\"AllLabels\"},{\"attributes\":{},\"id\":\"2099\",\"type\":\"BasicTickFormatter\"},{\"attributes\":{},\"id\":\"2161\",\"type\":\"UnionRenderers\"},{\"attributes\":{\"end\":357.63781861675545,\"reset_end\":357.63781861675545,\"reset_start\":-25.199129841556115,\"start\":-25.199129841556115,\"tags\":[[[\"inertia\",\"inertia\",null]]]},\"id\":\"2056\",\"type\":\"Range1d\"},{\"attributes\":{},\"id\":\"2105\",\"type\":\"AllLabels\"},{\"attributes\":{},\"id\":\"2148\",\"type\":\"BasicTickFormatter\"},{\"attributes\":{\"tools\":[{\"id\":\"2106\"},{\"id\":\"2124\"},{\"id\":\"2125\"},{\"id\":\"2126\"},{\"id\":\"2127\"},{\"id\":\"2128\"}]},\"id\":\"2130\",\"type\":\"Toolbar\"},{\"attributes\":{\"line_alpha\":0.2,\"line_color\":\"#30a2da\",\"line_width\":2,\"x\":{\"field\":\"k\"},\"y\":{\"field\":\"inertia\"}},\"id\":\"2093\",\"type\":\"Line\"},{\"attributes\":{\"axis_label\":\"inertia\",\"coordinates\":null,\"formatter\":{\"id\":\"2104\"},\"group\":null,\"major_label_policy\":{\"id\":\"2105\"},\"ticker\":{\"id\":\"2072\"}},\"id\":\"2071\",\"type\":\"LinearAxis\"},{\"attributes\":{\"line_color\":\"#30a2da\",\"line_width\":2,\"x\":{\"field\":\"k\"},\"y\":{\"field\":\"inertia\"}},\"id\":\"2096\",\"type\":\"Line\"},{\"attributes\":{\"line_color\":\"#30a2da\",\"line_width\":2,\"x\":{\"field\":\"k\"},\"y\":{\"field\":\"inertia\"}},\"id\":\"2140\",\"type\":\"Line\"},{\"attributes\":{},\"id\":\"2154\",\"type\":\"AllLabels\"},{\"attributes\":{\"data\":{\"inertia\":{\"__ndarray__\":\"AAAAAADwcUByhzI6P3poQN6RvNowzF5AGO6ulG/BU0BmEQsuWlNQQObqC/e6cUpAiCebkxT1RUBu++EeLsJCQMF0IF8cPkBAineL7Q85PEAnCo+5pos4QA==\",\"dtype\":\"float64\",\"order\":\"little\",\"shape\":[11]},\"k\":[1,2,3,4,5,6,7,8,9,10,11]},\"selected\":{\"id\":\"2089\"},\"selection_policy\":{\"id\":\"2161\"}},\"id\":\"2088\",\"type\":\"ColumnDataSource\"},{\"attributes\":{\"toolbar\":{\"id\":\"2176\"},\"toolbar_location\":\"above\"},\"id\":\"2177\",\"type\":\"ToolbarBox\"},{\"attributes\":{\"below\":[{\"id\":\"2067\"}],\"center\":[{\"id\":\"2070\"},{\"id\":\"2074\"}],\"height\":300,\"left\":[{\"id\":\"2071\"}],\"margin\":null,\"min_border_bottom\":10,\"min_border_left\":10,\"min_border_right\":10,\"min_border_top\":10,\"renderers\":[{\"id\":\"2094\"}],\"sizing_mode\":\"fixed\",\"title\":{\"id\":\"2059\"},\"toolbar\":{\"id\":\"2081\"},\"toolbar_location\":null,\"width\":700,\"x_range\":{\"id\":\"2055\"},\"x_scale\":{\"id\":\"2063\"},\"y_range\":{\"id\":\"2056\"},\"y_scale\":{\"id\":\"2065\"}},\"id\":\"2058\",\"subtype\":\"Figure\",\"type\":\"Plot\"},{\"attributes\":{\"coordinates\":null,\"data_source\":{\"id\":\"2088\"},\"glyph\":{\"id\":\"2091\"},\"group\":null,\"hover_glyph\":null,\"muted_glyph\":{\"id\":\"2093\"},\"nonselection_glyph\":{\"id\":\"2092\"},\"selection_glyph\":{\"id\":\"2096\"},\"view\":{\"id\":\"2095\"}},\"id\":\"2094\",\"type\":\"GlyphRenderer\"},{\"attributes\":{},\"id\":\"2063\",\"type\":\"LinearScale\"},{\"attributes\":{\"children\":[[{\"id\":\"2058\"},0,0],[{\"id\":\"2107\"},0,1]]},\"id\":\"2175\",\"type\":\"GridBox\"},{\"attributes\":{\"ticks\":[1,2,3,4,5,6,7,8,9,10,11]},\"id\":\"2146\",\"type\":\"FixedTicker\"},{\"attributes\":{\"children\":[{\"id\":\"2177\"},{\"id\":\"2175\"}]},\"id\":\"2178\",\"type\":\"Column\"},{\"attributes\":{\"source\":{\"id\":\"2137\"}},\"id\":\"2144\",\"type\":\"CDSView\"},{\"attributes\":{},\"id\":\"2100\",\"type\":\"AllLabels\"},{\"attributes\":{\"end\":11.0,\"reset_end\":11.0,\"reset_start\":1.0,\"start\":1.0,\"tags\":[[[\"k\",\"k\",null]]]},\"id\":\"2055\",\"type\":\"Range1d\"},{\"attributes\":{\"data\":{\"inertia\":{\"__ndarray__\":\"EdBJfsFbdECAjgI0NClpQPHljuIn71tALqyynUAZREAnVP4fJ/I9QHBpBZ0p/TRAmKD1eOS6LkDT7Sh6NEAoQOqJZW6+8SRANxGAhU2wH0CwZeYO2NAaQA==\",\"dtype\":\"float64\",\"order\":\"little\",\"shape\":[11]},\"k\":[1,2,3,4,5,6,7,8,9,10,11]},\"selected\":{\"id\":\"2138\"},\"selection_policy\":{\"id\":\"2171\"}},\"id\":\"2137\",\"type\":\"ColumnDataSource\"},{\"attributes\":{\"line_alpha\":0.2,\"line_color\":\"#30a2da\",\"line_width\":2,\"x\":{\"field\":\"k\"},\"y\":{\"field\":\"inertia\"}},\"id\":\"2142\",\"type\":\"Line\"},{\"attributes\":{\"callback\":null,\"renderers\":[{\"id\":\"2094\"}],\"tags\":[\"hv_created\"],\"tooltips\":[[\"k\",\"@{k}\"],[\"inertia\",\"@{inertia}\"]]},\"id\":\"2057\",\"type\":\"HoverTool\"},{\"attributes\":{\"below\":[{\"id\":\"2116\"}],\"center\":[{\"id\":\"2119\"},{\"id\":\"2123\"}],\"height\":300,\"left\":[{\"id\":\"2120\"}],\"margin\":null,\"min_border_bottom\":10,\"min_border_left\":10,\"min_border_right\":10,\"min_border_top\":10,\"renderers\":[{\"id\":\"2143\"}],\"sizing_mode\":\"fixed\",\"title\":{\"id\":\"2108\"},\"toolbar\":{\"id\":\"2130\"},\"toolbar_location\":null,\"width\":700,\"x_range\":{\"id\":\"2055\"},\"x_scale\":{\"id\":\"2112\"},\"y_range\":{\"id\":\"2056\"},\"y_scale\":{\"id\":\"2114\"}},\"id\":\"2107\",\"subtype\":\"Figure\",\"type\":\"Plot\"},{\"attributes\":{},\"id\":\"2065\",\"type\":\"LinearScale\"},{\"attributes\":{},\"id\":\"2104\",\"type\":\"BasicTickFormatter\"},{\"attributes\":{\"toolbars\":[{\"id\":\"2081\"},{\"id\":\"2130\"}],\"tools\":[{\"id\":\"2057\"},{\"id\":\"2075\"},{\"id\":\"2076\"},{\"id\":\"2077\"},{\"id\":\"2078\"},{\"id\":\"2079\"},{\"id\":\"2106\"},{\"id\":\"2124\"},{\"id\":\"2125\"},{\"id\":\"2126\"},{\"id\":\"2127\"},{\"id\":\"2128\"}]},\"id\":\"2176\",\"type\":\"ProxyToolbar\"},{\"attributes\":{\"coordinates\":null,\"group\":null,\"text\":\"Elbow Curve\",\"text_color\":\"black\",\"text_font_size\":\"12pt\"},\"id\":\"2059\",\"type\":\"Title\"},{\"attributes\":{\"axis\":{\"id\":\"2067\"},\"coordinates\":null,\"grid_line_color\":null,\"group\":null,\"ticker\":null},\"id\":\"2070\",\"type\":\"Grid\"},{\"attributes\":{\"line_color\":\"#30a2da\",\"line_width\":2,\"x\":{\"field\":\"k\"},\"y\":{\"field\":\"inertia\"}},\"id\":\"2145\",\"type\":\"Line\"},{\"attributes\":{\"axis_label\":\"k\",\"coordinates\":null,\"formatter\":{\"id\":\"2099\"},\"group\":null,\"major_label_policy\":{\"id\":\"2100\"},\"ticker\":{\"id\":\"2097\"}},\"id\":\"2067\",\"type\":\"LinearAxis\"},{\"attributes\":{},\"id\":\"2089\",\"type\":\"Selection\"},{\"attributes\":{\"coordinates\":null,\"data_source\":{\"id\":\"2137\"},\"glyph\":{\"id\":\"2140\"},\"group\":null,\"hover_glyph\":null,\"muted_glyph\":{\"id\":\"2142\"},\"nonselection_glyph\":{\"id\":\"2141\"},\"selection_glyph\":{\"id\":\"2145\"},\"view\":{\"id\":\"2144\"}},\"id\":\"2143\",\"type\":\"GlyphRenderer\"}],\"root_ids\":[\"2053\"]},\"title\":\"Bokeh Application\",\"version\":\"2.4.3\"}};\n",
       "    var render_items = [{\"docid\":\"5510af97-8b14-4d6e-839a-493d623ff027\",\"root_ids\":[\"2053\"],\"roots\":{\"2053\":\"aa10ddc2-c8ee-4ded-aca2-7234867d61eb\"}}];\n",
       "    root.Bokeh.embed.embed_items_notebook(docs_json, render_items);\n",
       "  }\n",
       "  if (root.Bokeh !== undefined && root.Bokeh.Panel !== undefined) {\n",
       "    embed_document(root);\n",
       "  } else {\n",
       "    var attempts = 0;\n",
       "    var timer = setInterval(function(root) {\n",
       "      if (root.Bokeh !== undefined && root.Bokeh.Panel !== undefined) {\n",
       "        clearInterval(timer);\n",
       "        embed_document(root);\n",
       "      } else if (document.readyState == \"complete\") {\n",
       "        attempts++;\n",
       "        if (attempts > 200) {\n",
       "          clearInterval(timer);\n",
       "          console.log(\"Bokeh: ERROR: Unable to run BokehJS code because BokehJS library is missing\");\n",
       "        }\n",
       "      }\n",
       "    }, 25, root)\n",
       "  }\n",
       "})(window);</script>"
      ],
      "text/plain": [
       ":Layout\n",
       "   .Curve.I  :Curve   [k]   (inertia)\n",
       "   .Curve.II :Curve   [k]   (inertia)"
      ]
     },
     "execution_count": 34,
     "metadata": {
      "application/vnd.holoviews_exec.v0+json": {
       "id": "2053"
      }
     },
     "output_type": "execute_result"
    }
   ],
   "source": [
    "# Composite plot to contrast the Elbow curves\n",
    "elbow_curve_df.hvplot.line(\n",
    "    x = \"k\",\n",
    "    y = \"inertia\",\n",
    "    title = \"Elbow Curve\",\n",
    "    xticks = k\n",
    ") + elbow_plot_pca"
   ]
  },
  {
   "cell_type": "code",
   "execution_count": 35,
   "metadata": {},
   "outputs": [
    {
     "data": {},
     "metadata": {},
     "output_type": "display_data"
    },
    {
     "data": {
      "application/vnd.holoviews_exec.v0+json": "",
      "text/html": [
       "<div id='2289'>\n",
       "  <div class=\"bk-root\" id=\"5cc7f3dd-892b-4b45-9bc1-4dd50e27c4be\" data-root-id=\"2289\"></div>\n",
       "</div>\n",
       "<script type=\"application/javascript\">(function(root) {\n",
       "  function embed_document(root) {\n",
       "    var docs_json = {\"0d65af5c-ffd3-436d-b4bc-f5bbf28cc864\":{\"defs\":[{\"extends\":null,\"module\":null,\"name\":\"ReactiveHTML1\",\"overrides\":[],\"properties\":[]},{\"extends\":null,\"module\":null,\"name\":\"FlexBox1\",\"overrides\":[],\"properties\":[{\"default\":\"flex-start\",\"kind\":null,\"name\":\"align_content\"},{\"default\":\"flex-start\",\"kind\":null,\"name\":\"align_items\"},{\"default\":\"row\",\"kind\":null,\"name\":\"flex_direction\"},{\"default\":\"wrap\",\"kind\":null,\"name\":\"flex_wrap\"},{\"default\":\"flex-start\",\"kind\":null,\"name\":\"justify_content\"}]},{\"extends\":null,\"module\":null,\"name\":\"GridStack1\",\"overrides\":[],\"properties\":[{\"default\":\"warn\",\"kind\":null,\"name\":\"mode\"},{\"default\":null,\"kind\":null,\"name\":\"ncols\"},{\"default\":null,\"kind\":null,\"name\":\"nrows\"},{\"default\":true,\"kind\":null,\"name\":\"allow_resize\"},{\"default\":true,\"kind\":null,\"name\":\"allow_drag\"},{\"default\":[],\"kind\":null,\"name\":\"state\"}]},{\"extends\":null,\"module\":null,\"name\":\"click1\",\"overrides\":[],\"properties\":[{\"default\":\"\",\"kind\":null,\"name\":\"terminal_output\"},{\"default\":\"\",\"kind\":null,\"name\":\"debug_name\"},{\"default\":0,\"kind\":null,\"name\":\"clears\"}]},{\"extends\":null,\"module\":null,\"name\":\"NotificationAreaBase1\",\"overrides\":[],\"properties\":[{\"default\":\"bottom-right\",\"kind\":null,\"name\":\"position\"},{\"default\":0,\"kind\":null,\"name\":\"_clear\"}]},{\"extends\":null,\"module\":null,\"name\":\"NotificationArea1\",\"overrides\":[],\"properties\":[{\"default\":[],\"kind\":null,\"name\":\"notifications\"},{\"default\":\"bottom-right\",\"kind\":null,\"name\":\"position\"},{\"default\":0,\"kind\":null,\"name\":\"_clear\"},{\"default\":[{\"background\":\"#ffc107\",\"icon\":{\"className\":\"fas fa-exclamation-triangle\",\"color\":\"white\",\"tagName\":\"i\"},\"type\":\"warning\"},{\"background\":\"#007bff\",\"icon\":{\"className\":\"fas fa-info-circle\",\"color\":\"white\",\"tagName\":\"i\"},\"type\":\"info\"}],\"kind\":null,\"name\":\"types\"}]},{\"extends\":null,\"module\":null,\"name\":\"Notification\",\"overrides\":[],\"properties\":[{\"default\":null,\"kind\":null,\"name\":\"background\"},{\"default\":3000,\"kind\":null,\"name\":\"duration\"},{\"default\":null,\"kind\":null,\"name\":\"icon\"},{\"default\":\"\",\"kind\":null,\"name\":\"message\"},{\"default\":null,\"kind\":null,\"name\":\"notification_type\"},{\"default\":false,\"kind\":null,\"name\":\"_destroyed\"}]},{\"extends\":null,\"module\":null,\"name\":\"TemplateActions1\",\"overrides\":[],\"properties\":[{\"default\":0,\"kind\":null,\"name\":\"open_modal\"},{\"default\":0,\"kind\":null,\"name\":\"close_modal\"}]},{\"extends\":null,\"module\":null,\"name\":\"MaterialTemplateActions1\",\"overrides\":[],\"properties\":[{\"default\":0,\"kind\":null,\"name\":\"open_modal\"},{\"default\":0,\"kind\":null,\"name\":\"close_modal\"}]}],\"roots\":{\"references\":[{\"attributes\":{\"coordinates\":null,\"group\":null,\"text_color\":\"black\",\"text_font_size\":\"12pt\"},\"id\":\"2433\",\"type\":\"Title\"},{\"attributes\":{\"source\":{\"id\":\"2376\"}},\"id\":\"2383\",\"type\":\"CDSView\"},{\"attributes\":{\"source\":{\"id\":\"2489\"}},\"id\":\"2496\",\"type\":\"CDSView\"},{\"attributes\":{},\"id\":\"2464\",\"type\":\"AllLabels\"},{\"attributes\":{\"children\":[[{\"id\":\"2297\"},0,0],[{\"id\":\"2432\"},0,1]]},\"id\":\"2595\",\"type\":\"GridBox\"},{\"attributes\":{},\"id\":\"2395\",\"type\":\"UnionRenderers\"},{\"attributes\":{\"axis_label\":\"PC1\",\"coordinates\":null,\"formatter\":{\"id\":\"2463\"},\"group\":null,\"major_label_policy\":{\"id\":\"2464\"},\"ticker\":{\"id\":\"2442\"}},\"id\":\"2441\",\"type\":\"LinearAxis\"},{\"attributes\":{\"children\":[{\"id\":\"2597\"},{\"id\":\"2595\"}]},\"id\":\"2598\",\"type\":\"Column\"},{\"attributes\":{\"axis\":{\"id\":\"2441\"},\"coordinates\":null,\"grid_line_color\":null,\"group\":null,\"ticker\":null},\"id\":\"2444\",\"type\":\"Grid\"},{\"attributes\":{\"angle\":{\"value\":0.0},\"fill_alpha\":{\"value\":1.0},\"fill_color\":{\"value\":\"#6d904f\"},\"hatch_alpha\":{\"value\":1.0},\"hatch_color\":{\"value\":\"#6d904f\"},\"hatch_scale\":{\"value\":12.0},\"hatch_weight\":{\"value\":1.0},\"line_alpha\":{\"value\":1.0},\"line_cap\":{\"value\":\"butt\"},\"line_color\":{\"value\":\"#6d904f\"},\"line_dash\":{\"value\":[]},\"line_dash_offset\":{\"value\":0},\"line_join\":{\"value\":\"bevel\"},\"line_width\":{\"value\":1},\"marker\":{\"value\":\"circle\"},\"size\":{\"value\":5.477225575051661},\"x\":{\"field\":\"PC1\"},\"y\":{\"field\":\"PC2\"}},\"id\":\"2560\",\"type\":\"Scatter\"},{\"attributes\":{},\"id\":\"2442\",\"type\":\"BasicTicker\"},{\"attributes\":{\"axis_label\":\"PC2\",\"coordinates\":null,\"formatter\":{\"id\":\"2466\"},\"group\":null,\"major_label_policy\":{\"id\":\"2467\"},\"ticker\":{\"id\":\"2446\"}},\"id\":\"2445\",\"type\":\"LinearAxis\"},{\"attributes\":{},\"id\":\"2450\",\"type\":\"PanTool\"},{\"attributes\":{\"fill_alpha\":{\"value\":0.1},\"fill_color\":{\"value\":\"#e5ae38\"},\"hatch_alpha\":{\"value\":0.1},\"hatch_color\":{\"value\":\"#e5ae38\"},\"line_alpha\":{\"value\":0.1},\"line_color\":{\"value\":\"#e5ae38\"},\"size\":{\"value\":5.477225575051661},\"x\":{\"field\":\"price_change_percentage_24h\"},\"y\":{\"field\":\"price_change_percentage_7d\"}},\"id\":\"2380\",\"type\":\"Scatter\"},{\"attributes\":{\"axis\":{\"id\":\"2445\"},\"coordinates\":null,\"dimension\":1,\"grid_line_color\":null,\"group\":null,\"ticker\":null},\"id\":\"2448\",\"type\":\"Grid\"},{\"attributes\":{},\"id\":\"2446\",\"type\":\"BasicTicker\"},{\"attributes\":{},\"id\":\"2451\",\"type\":\"WheelZoomTool\"},{\"attributes\":{\"label\":{\"value\":\"2\"},\"renderers\":[{\"id\":\"2382\"}]},\"id\":\"2398\",\"type\":\"LegendItem\"},{\"attributes\":{\"coordinates\":null,\"data_source\":{\"id\":\"2376\"},\"glyph\":{\"id\":\"2379\"},\"group\":null,\"hover_glyph\":null,\"muted_glyph\":{\"id\":\"2381\"},\"nonselection_glyph\":{\"id\":\"2380\"},\"selection_glyph\":{\"id\":\"2399\"},\"view\":{\"id\":\"2383\"}},\"id\":\"2382\",\"type\":\"GlyphRenderer\"},{\"attributes\":{\"fill_alpha\":{\"value\":0.2},\"fill_color\":{\"value\":\"#e5ae38\"},\"hatch_alpha\":{\"value\":0.2},\"hatch_color\":{\"value\":\"#e5ae38\"},\"line_alpha\":{\"value\":0.2},\"line_color\":{\"value\":\"#e5ae38\"},\"size\":{\"value\":5.477225575051661},\"x\":{\"field\":\"price_change_percentage_24h\"},\"y\":{\"field\":\"price_change_percentage_7d\"}},\"id\":\"2381\",\"type\":\"Scatter\"},{\"attributes\":{},\"id\":\"2449\",\"type\":\"SaveTool\"},{\"attributes\":{},\"id\":\"2437\",\"type\":\"LinearScale\"},{\"attributes\":{\"fill_alpha\":{\"value\":0.1},\"fill_color\":{\"value\":\"#fc4f30\"},\"hatch_alpha\":{\"value\":0.1},\"hatch_color\":{\"value\":\"#fc4f30\"},\"line_alpha\":{\"value\":0.1},\"line_color\":{\"value\":\"#fc4f30\"},\"size\":{\"value\":5.477225575051661},\"x\":{\"field\":\"PC1\"},\"y\":{\"field\":\"PC2\"}},\"id\":\"2493\",\"type\":\"Scatter\"},{\"attributes\":{\"overlay\":{\"id\":\"2454\"}},\"id\":\"2452\",\"type\":\"BoxZoomTool\"},{\"attributes\":{},\"id\":\"2453\",\"type\":\"ResetTool\"},{\"attributes\":{\"coordinates\":null,\"data_source\":{\"id\":\"2489\"},\"glyph\":{\"id\":\"2492\"},\"group\":null,\"hover_glyph\":null,\"muted_glyph\":{\"id\":\"2494\"},\"nonselection_glyph\":{\"id\":\"2493\"},\"selection_glyph\":{\"id\":\"2510\"},\"view\":{\"id\":\"2496\"}},\"id\":\"2495\",\"type\":\"GlyphRenderer\"},{\"attributes\":{\"label\":{\"value\":\"1\"},\"renderers\":[{\"id\":\"2495\"}]},\"id\":\"2509\",\"type\":\"LegendItem\"},{\"attributes\":{\"bottom_units\":\"screen\",\"coordinates\":null,\"fill_alpha\":0.5,\"fill_color\":\"lightgrey\",\"group\":null,\"left_units\":\"screen\",\"level\":\"overlay\",\"line_alpha\":1.0,\"line_color\":\"black\",\"line_dash\":[4,4],\"line_width\":2,\"right_units\":\"screen\",\"syncable\":false,\"top_units\":\"screen\"},\"id\":\"2454\",\"type\":\"BoxAnnotation\"},{\"attributes\":{\"fill_alpha\":{\"value\":0.2},\"fill_color\":{\"value\":\"#fc4f30\"},\"hatch_alpha\":{\"value\":0.2},\"hatch_color\":{\"value\":\"#fc4f30\"},\"line_alpha\":{\"value\":0.2},\"line_color\":{\"value\":\"#fc4f30\"},\"size\":{\"value\":5.477225575051661},\"x\":{\"field\":\"PC1\"},\"y\":{\"field\":\"PC2\"}},\"id\":\"2494\",\"type\":\"Scatter\"},{\"attributes\":{\"data\":{\"PC1\":{\"__ndarray__\":\"uBcmq5X+C0A=\",\"dtype\":\"float64\",\"order\":\"little\",\"shape\":[1]},\"PC2\":{\"__ndarray__\":\"TZdlHs5kEkA=\",\"dtype\":\"float64\",\"order\":\"little\",\"shape\":[1]},\"PredictedClusters\":[3]},\"selected\":{\"id\":\"2536\"},\"selection_policy\":{\"id\":\"2556\"}},\"id\":\"2535\",\"type\":\"ColumnDataSource\"},{\"attributes\":{\"fill_color\":{\"value\":\"#fc4f30\"},\"hatch_color\":{\"value\":\"#fc4f30\"},\"line_color\":{\"value\":\"#fc4f30\"},\"size\":{\"value\":5.477225575051661},\"x\":{\"field\":\"PC1\"},\"y\":{\"field\":\"PC2\"}},\"id\":\"2492\",\"type\":\"Scatter\"},{\"attributes\":{},\"id\":\"2506\",\"type\":\"UnionRenderers\"},{\"attributes\":{},\"id\":\"2348\",\"type\":\"UnionRenderers\"},{\"attributes\":{},\"id\":\"2469\",\"type\":\"Selection\"},{\"attributes\":{\"fill_alpha\":{\"value\":0.1},\"fill_color\":{\"value\":\"#30a2da\"},\"hatch_alpha\":{\"value\":0.1},\"hatch_color\":{\"value\":\"#30a2da\"},\"line_alpha\":{\"value\":0.1},\"line_color\":{\"value\":\"#30a2da\"},\"size\":{\"value\":5.477225575051661},\"x\":{\"field\":\"PC1\"},\"y\":{\"field\":\"PC2\"}},\"id\":\"2472\",\"type\":\"Scatter\"},{\"attributes\":{\"source\":{\"id\":\"2468\"}},\"id\":\"2475\",\"type\":\"CDSView\"},{\"attributes\":{\"tools\":[{\"id\":\"2428\"},{\"id\":\"2449\"},{\"id\":\"2450\"},{\"id\":\"2451\"},{\"id\":\"2452\"},{\"id\":\"2453\"}]},\"id\":\"2455\",\"type\":\"Toolbar\"},{\"attributes\":{\"margin\":[5,5,5,5],\"name\":\"HSpacer02235\",\"sizing_mode\":\"stretch_width\"},\"id\":\"2631\",\"type\":\"Spacer\"},{\"attributes\":{\"fill_alpha\":{\"value\":0.2},\"fill_color\":{\"value\":\"#30a2da\"},\"hatch_alpha\":{\"value\":0.2},\"hatch_color\":{\"value\":\"#30a2da\"},\"line_alpha\":{\"value\":0.2},\"line_color\":{\"value\":\"#30a2da\"},\"size\":{\"value\":5.477225575051661},\"x\":{\"field\":\"PC1\"},\"y\":{\"field\":\"PC2\"}},\"id\":\"2473\",\"type\":\"Scatter\"},{\"attributes\":{\"click_policy\":\"mute\",\"coordinates\":null,\"group\":null,\"items\":[{\"id\":\"2487\"},{\"id\":\"2509\"},{\"id\":\"2533\"},{\"id\":\"2559\"}],\"location\":[0,0],\"title\":\"PredictedClusters\"},\"id\":\"2486\",\"type\":\"Legend\"},{\"attributes\":{\"angle\":{\"value\":0.0},\"fill_alpha\":{\"value\":1.0},\"fill_color\":{\"value\":\"#e5ae38\"},\"hatch_alpha\":{\"value\":1.0},\"hatch_color\":{\"value\":\"#e5ae38\"},\"hatch_scale\":{\"value\":12.0},\"hatch_weight\":{\"value\":1.0},\"line_alpha\":{\"value\":1.0},\"line_cap\":{\"value\":\"butt\"},\"line_color\":{\"value\":\"#e5ae38\"},\"line_dash\":{\"value\":[]},\"line_dash_offset\":{\"value\":0},\"line_join\":{\"value\":\"bevel\"},\"line_width\":{\"value\":1},\"marker\":{\"value\":\"circle\"},\"size\":{\"value\":5.477225575051661},\"x\":{\"field\":\"price_change_percentage_24h\"},\"y\":{\"field\":\"price_change_percentage_7d\"}},\"id\":\"2399\",\"type\":\"Scatter\"},{\"attributes\":{\"fill_color\":{\"value\":\"#30a2da\"},\"hatch_color\":{\"value\":\"#30a2da\"},\"line_color\":{\"value\":\"#30a2da\"},\"size\":{\"value\":5.477225575051661},\"x\":{\"field\":\"PC1\"},\"y\":{\"field\":\"PC2\"}},\"id\":\"2471\",\"type\":\"Scatter\"},{\"attributes\":{\"data\":{\"PC1\":{\"__ndarray__\":\"KtNLfdJFAEBBwpqYeun/P0eI23IPbApAN3X4CagLBECNx5WhCykGQMFok3rG+gJAd+UA1UdR/T9gV0YzgNINQIciGTu5Lfc/ka4zQ9eXA0AHHje2NSAAQOOdzTJudwBAo6AA5FKU+T8=\",\"dtype\":\"float64\",\"order\":\"little\",\"shape\":[13]},\"PC2\":{\"__ndarray__\":\"6aqxr8CH5L9at7UxKWXfv+KEvkkb4fO/rVYnBTdt4r9iJNJlaLnfv9xC9MDF59i/OGNILrS45b/SmQmFHfWov8HbD2QSnem/FOxJHyVt1r9TZP52XaDkv5Rb+pzsYd2/xXSmZ6Uy2r8=\",\"dtype\":\"float64\",\"order\":\"little\",\"shape\":[13]},\"PredictedClusters\":[1,1,1,1,1,1,1,1,1,1,1,1,1]},\"selected\":{\"id\":\"2490\"},\"selection_policy\":{\"id\":\"2506\"}},\"id\":\"2489\",\"type\":\"ColumnDataSource\"},{\"attributes\":{\"below\":[{\"id\":\"2306\"}],\"center\":[{\"id\":\"2309\"},{\"id\":\"2313\"}],\"height\":300,\"left\":[{\"id\":\"2310\"}],\"margin\":null,\"min_border_bottom\":10,\"min_border_left\":10,\"min_border_right\":10,\"min_border_top\":10,\"renderers\":[{\"id\":\"2339\"},{\"id\":\"2360\"},{\"id\":\"2382\"},{\"id\":\"2406\"}],\"right\":[{\"id\":\"2351\"}],\"sizing_mode\":\"fixed\",\"title\":{\"id\":\"2298\"},\"toolbar\":{\"id\":\"2320\"},\"toolbar_location\":null,\"width\":700,\"x_range\":{\"id\":\"2291\"},\"x_scale\":{\"id\":\"2302\"},\"y_range\":{\"id\":\"2292\"},\"y_scale\":{\"id\":\"2304\"}},\"id\":\"2297\",\"subtype\":\"Figure\",\"type\":\"Plot\"},{\"attributes\":{\"source\":{\"id\":\"2400\"}},\"id\":\"2407\",\"type\":\"CDSView\"},{\"attributes\":{\"coordinates\":null,\"data_source\":{\"id\":\"2468\"},\"glyph\":{\"id\":\"2471\"},\"group\":null,\"hover_glyph\":null,\"muted_glyph\":{\"id\":\"2473\"},\"nonselection_glyph\":{\"id\":\"2472\"},\"selection_glyph\":{\"id\":\"2488\"},\"view\":{\"id\":\"2475\"}},\"id\":\"2474\",\"type\":\"GlyphRenderer\"},{\"attributes\":{\"label\":{\"value\":\"3\"},\"renderers\":[{\"id\":\"2406\"}]},\"id\":\"2424\",\"type\":\"LegendItem\"},{\"attributes\":{\"coordinates\":null,\"data_source\":{\"id\":\"2400\"},\"glyph\":{\"id\":\"2403\"},\"group\":null,\"hover_glyph\":null,\"muted_glyph\":{\"id\":\"2405\"},\"nonselection_glyph\":{\"id\":\"2404\"},\"selection_glyph\":{\"id\":\"2425\"},\"view\":{\"id\":\"2407\"}},\"id\":\"2406\",\"type\":\"GlyphRenderer\"},{\"attributes\":{\"angle\":{\"value\":0.0},\"fill_alpha\":{\"value\":1.0},\"fill_color\":{\"value\":\"#fc4f30\"},\"hatch_alpha\":{\"value\":1.0},\"hatch_color\":{\"value\":\"#fc4f30\"},\"hatch_scale\":{\"value\":12.0},\"hatch_weight\":{\"value\":1.0},\"line_alpha\":{\"value\":1.0},\"line_cap\":{\"value\":\"butt\"},\"line_color\":{\"value\":\"#fc4f30\"},\"line_dash\":{\"value\":[]},\"line_dash_offset\":{\"value\":0},\"line_join\":{\"value\":\"bevel\"},\"line_width\":{\"value\":1},\"marker\":{\"value\":\"circle\"},\"size\":{\"value\":5.477225575051661},\"x\":{\"field\":\"PC1\"},\"y\":{\"field\":\"PC2\"}},\"id\":\"2510\",\"type\":\"Scatter\"},{\"attributes\":{\"fill_color\":{\"value\":\"#e5ae38\"},\"hatch_color\":{\"value\":\"#e5ae38\"},\"line_color\":{\"value\":\"#e5ae38\"},\"size\":{\"value\":5.477225575051661},\"x\":{\"field\":\"PC1\"},\"y\":{\"field\":\"PC2\"}},\"id\":\"2514\",\"type\":\"Scatter\"},{\"attributes\":{\"end\":2.2155632386560065,\"reset_end\":2.2155632386560065,\"reset_start\":-5.276792781891412,\"start\":-5.276792781891412,\"tags\":[[[\"price_change_percentage_24h\",\"price_change_percentage_24h\",null]]]},\"id\":\"2291\",\"type\":\"Range1d\"},{\"attributes\":{},\"id\":\"2466\",\"type\":\"BasicTickFormatter\"},{\"attributes\":{},\"id\":\"2512\",\"type\":\"Selection\"},{\"attributes\":{\"callback\":null,\"renderers\":[{\"id\":\"2339\"},{\"id\":\"2360\"},{\"id\":\"2382\"},{\"id\":\"2406\"}],\"tags\":[\"hv_created\"],\"tooltips\":[[\"PredictedClusters\",\"@{PredictedClusters}\"],[\"price_change_percentage_24h\",\"@{price_change_percentage_24h}\"],[\"price_change_percentage_7d\",\"@{price_change_percentage_7d}\"]]},\"id\":\"2293\",\"type\":\"HoverTool\"},{\"attributes\":{\"toolbars\":[{\"id\":\"2320\"},{\"id\":\"2455\"}],\"tools\":[{\"id\":\"2293\"},{\"id\":\"2314\"},{\"id\":\"2315\"},{\"id\":\"2316\"},{\"id\":\"2317\"},{\"id\":\"2318\"},{\"id\":\"2428\"},{\"id\":\"2449\"},{\"id\":\"2450\"},{\"id\":\"2451\"},{\"id\":\"2452\"},{\"id\":\"2453\"}]},\"id\":\"2596\",\"type\":\"ProxyToolbar\"},{\"attributes\":{},\"id\":\"2439\",\"type\":\"LinearScale\"},{\"attributes\":{\"fill_alpha\":{\"value\":0.1},\"fill_color\":{\"value\":\"#6d904f\"},\"hatch_alpha\":{\"value\":0.1},\"hatch_color\":{\"value\":\"#6d904f\"},\"line_alpha\":{\"value\":0.1},\"line_color\":{\"value\":\"#6d904f\"},\"size\":{\"value\":5.477225575051661},\"x\":{\"field\":\"price_change_percentage_24h\"},\"y\":{\"field\":\"price_change_percentage_7d\"}},\"id\":\"2404\",\"type\":\"Scatter\"},{\"attributes\":{\"label\":{\"value\":\"0\"},\"renderers\":[{\"id\":\"2474\"}]},\"id\":\"2487\",\"type\":\"LegendItem\"},{\"attributes\":{\"end\":2.997678656273595,\"reset_end\":2.997678656273595,\"reset_start\":-2.107454305728652,\"start\":-2.107454305728652,\"tags\":[[[\"price_change_percentage_7d\",\"price_change_percentage_7d\",null]]]},\"id\":\"2292\",\"type\":\"Range1d\"},{\"attributes\":{\"fill_color\":{\"value\":\"#6d904f\"},\"hatch_color\":{\"value\":\"#6d904f\"},\"line_color\":{\"value\":\"#6d904f\"},\"size\":{\"value\":5.477225575051661},\"x\":{\"field\":\"price_change_percentage_24h\"},\"y\":{\"field\":\"price_change_percentage_7d\"}},\"id\":\"2403\",\"type\":\"Scatter\"},{\"attributes\":{\"angle\":{\"value\":0.0},\"fill_alpha\":{\"value\":1.0},\"fill_color\":{\"value\":\"#30a2da\"},\"hatch_alpha\":{\"value\":1.0},\"hatch_color\":{\"value\":\"#30a2da\"},\"hatch_scale\":{\"value\":12.0},\"hatch_weight\":{\"value\":1.0},\"line_alpha\":{\"value\":1.0},\"line_cap\":{\"value\":\"butt\"},\"line_color\":{\"value\":\"#30a2da\"},\"line_dash\":{\"value\":[]},\"line_dash_offset\":{\"value\":0},\"line_join\":{\"value\":\"bevel\"},\"line_width\":{\"value\":1},\"marker\":{\"value\":\"circle\"},\"size\":{\"value\":5.477225575051661},\"x\":{\"field\":\"price_change_percentage_24h\"},\"y\":{\"field\":\"price_change_percentage_7d\"}},\"id\":\"2353\",\"type\":\"Scatter\"},{\"attributes\":{\"fill_alpha\":{\"value\":0.2},\"fill_color\":{\"value\":\"#6d904f\"},\"hatch_alpha\":{\"value\":0.2},\"hatch_color\":{\"value\":\"#6d904f\"},\"line_alpha\":{\"value\":0.2},\"line_color\":{\"value\":\"#6d904f\"},\"size\":{\"value\":5.477225575051661},\"x\":{\"field\":\"price_change_percentage_24h\"},\"y\":{\"field\":\"price_change_percentage_7d\"}},\"id\":\"2405\",\"type\":\"Scatter\"},{\"attributes\":{},\"id\":\"2463\",\"type\":\"BasicTickFormatter\"},{\"attributes\":{},\"id\":\"2401\",\"type\":\"Selection\"},{\"attributes\":{\"data\":{\"PredictedClusters\":[2],\"price_change_percentage_24h\":{\"__ndarray__\":\"3WeHPpbsE8A=\",\"dtype\":\"float64\",\"order\":\"little\",\"shape\":[1]},\"price_change_percentage_7d\":{\"__ndarray__\":\"dIWi2pshp78=\",\"dtype\":\"float64\",\"order\":\"little\",\"shape\":[1]}},\"selected\":{\"id\":\"2377\"},\"selection_policy\":{\"id\":\"2395\"}},\"id\":\"2376\",\"type\":\"ColumnDataSource\"},{\"attributes\":{},\"id\":\"2467\",\"type\":\"AllLabels\"},{\"attributes\":{\"fill_alpha\":{\"value\":0.2},\"fill_color\":{\"value\":\"#fc4f30\"},\"hatch_alpha\":{\"value\":0.2},\"hatch_color\":{\"value\":\"#fc4f30\"},\"line_alpha\":{\"value\":0.2},\"line_color\":{\"value\":\"#fc4f30\"},\"size\":{\"value\":5.477225575051661},\"x\":{\"field\":\"price_change_percentage_24h\"},\"y\":{\"field\":\"price_change_percentage_7d\"}},\"id\":\"2359\",\"type\":\"Scatter\"},{\"attributes\":{},\"id\":\"2421\",\"type\":\"UnionRenderers\"},{\"attributes\":{},\"id\":\"2304\",\"type\":\"LinearScale\"},{\"attributes\":{\"source\":{\"id\":\"2511\"}},\"id\":\"2518\",\"type\":\"CDSView\"},{\"attributes\":{},\"id\":\"2302\",\"type\":\"LinearScale\"},{\"attributes\":{\"coordinates\":null,\"group\":null,\"text_color\":\"black\",\"text_font_size\":\"12pt\"},\"id\":\"2298\",\"type\":\"Title\"},{\"attributes\":{\"coordinates\":null,\"data_source\":{\"id\":\"2354\"},\"glyph\":{\"id\":\"2357\"},\"group\":null,\"hover_glyph\":null,\"muted_glyph\":{\"id\":\"2359\"},\"nonselection_glyph\":{\"id\":\"2358\"},\"selection_glyph\":{\"id\":\"2375\"},\"view\":{\"id\":\"2361\"}},\"id\":\"2360\",\"type\":\"GlyphRenderer\"},{\"attributes\":{\"fill_alpha\":{\"value\":0.1},\"fill_color\":{\"value\":\"#e5ae38\"},\"hatch_alpha\":{\"value\":0.1},\"hatch_color\":{\"value\":\"#e5ae38\"},\"line_alpha\":{\"value\":0.1},\"line_color\":{\"value\":\"#e5ae38\"},\"size\":{\"value\":5.477225575051661},\"x\":{\"field\":\"PC1\"},\"y\":{\"field\":\"PC2\"}},\"id\":\"2515\",\"type\":\"Scatter\"},{\"attributes\":{\"axis_label\":\"price_change_percentage_24h\",\"coordinates\":null,\"formatter\":{\"id\":\"2328\"},\"group\":null,\"major_label_policy\":{\"id\":\"2329\"},\"ticker\":{\"id\":\"2307\"}},\"id\":\"2306\",\"type\":\"LinearAxis\"},{\"attributes\":{\"label\":{\"value\":\"2\"},\"renderers\":[{\"id\":\"2517\"}]},\"id\":\"2533\",\"type\":\"LegendItem\"},{\"attributes\":{},\"id\":\"2307\",\"type\":\"BasicTicker\"},{\"attributes\":{},\"id\":\"2530\",\"type\":\"UnionRenderers\"},{\"attributes\":{\"fill_alpha\":{\"value\":0.2},\"fill_color\":{\"value\":\"#e5ae38\"},\"hatch_alpha\":{\"value\":0.2},\"hatch_color\":{\"value\":\"#e5ae38\"},\"line_alpha\":{\"value\":0.2},\"line_color\":{\"value\":\"#e5ae38\"},\"size\":{\"value\":5.477225575051661},\"x\":{\"field\":\"PC1\"},\"y\":{\"field\":\"PC2\"}},\"id\":\"2516\",\"type\":\"Scatter\"},{\"attributes\":{\"axis\":{\"id\":\"2306\"},\"coordinates\":null,\"grid_line_color\":null,\"group\":null,\"ticker\":null},\"id\":\"2309\",\"type\":\"Grid\"},{\"attributes\":{\"coordinates\":null,\"data_source\":{\"id\":\"2511\"},\"glyph\":{\"id\":\"2514\"},\"group\":null,\"hover_glyph\":null,\"muted_glyph\":{\"id\":\"2516\"},\"nonselection_glyph\":{\"id\":\"2515\"},\"selection_glyph\":{\"id\":\"2534\"},\"view\":{\"id\":\"2518\"}},\"id\":\"2517\",\"type\":\"GlyphRenderer\"},{\"attributes\":{},\"id\":\"2329\",\"type\":\"AllLabels\"},{\"attributes\":{},\"id\":\"2315\",\"type\":\"PanTool\"},{\"attributes\":{\"axis_label\":\"price_change_percentage_7d\",\"coordinates\":null,\"formatter\":{\"id\":\"2331\"},\"group\":null,\"major_label_policy\":{\"id\":\"2332\"},\"ticker\":{\"id\":\"2311\"}},\"id\":\"2310\",\"type\":\"LinearAxis\"},{\"attributes\":{\"axis\":{\"id\":\"2310\"},\"coordinates\":null,\"dimension\":1,\"grid_line_color\":null,\"group\":null,\"ticker\":null},\"id\":\"2313\",\"type\":\"Grid\"},{\"attributes\":{},\"id\":\"2311\",\"type\":\"BasicTicker\"},{\"attributes\":{},\"id\":\"2316\",\"type\":\"WheelZoomTool\"},{\"attributes\":{\"data\":{\"PredictedClusters\":[3,3,3,3,3,3,3,3,3,3,3,3,3],\"price_change_percentage_24h\":{\"__ndarray__\":\"DdlqYN9F4D86azDosLzHPzALIwCtFvM/9w6McDSK7D/VDHOpb1eHPzMEvaFkP7o/Sds39trWsz9Epj8/c9DQP4xAeNEVZ8O/qq8st/Fh0L8FWWk3mH7gP6wo083aUMC//ACFOIMFwL8=\",\"dtype\":\"float64\",\"order\":\"little\",\"shape\":[13]},\"price_change_percentage_7d\":{\"__ndarray__\":\"U1k8q3mQ3z9yoPpI+ebtPzAB2dP2AQBAgmkOMZk89T8FNulI+JMEQCZRaSLGIPg/84wjaB1l1T8rMp3jf678P2VmURqKqeY/XK6ZksNx/T9DfMqy1o7dPyTPDB1Xu+0/srW7TleV4j8=\",\"dtype\":\"float64\",\"order\":\"little\",\"shape\":[13]}},\"selected\":{\"id\":\"2401\"},\"selection_policy\":{\"id\":\"2421\"}},\"id\":\"2400\",\"type\":\"ColumnDataSource\"},{\"attributes\":{},\"id\":\"2314\",\"type\":\"SaveTool\"},{\"attributes\":{\"overlay\":{\"id\":\"2319\"}},\"id\":\"2317\",\"type\":\"BoxZoomTool\"},{\"attributes\":{},\"id\":\"2318\",\"type\":\"ResetTool\"},{\"attributes\":{\"bottom_units\":\"screen\",\"coordinates\":null,\"fill_alpha\":0.5,\"fill_color\":\"lightgrey\",\"group\":null,\"left_units\":\"screen\",\"level\":\"overlay\",\"line_alpha\":1.0,\"line_color\":\"black\",\"line_dash\":[4,4],\"line_width\":2,\"right_units\":\"screen\",\"syncable\":false,\"top_units\":\"screen\"},\"id\":\"2319\",\"type\":\"BoxAnnotation\"},{\"attributes\":{\"source\":{\"id\":\"2354\"}},\"id\":\"2361\",\"type\":\"CDSView\"},{\"attributes\":{\"fill_color\":{\"value\":\"#fc4f30\"},\"hatch_color\":{\"value\":\"#fc4f30\"},\"line_color\":{\"value\":\"#fc4f30\"},\"size\":{\"value\":5.477225575051661},\"x\":{\"field\":\"price_change_percentage_24h\"},\"y\":{\"field\":\"price_change_percentage_7d\"}},\"id\":\"2357\",\"type\":\"Scatter\"},{\"attributes\":{\"fill_alpha\":{\"value\":0.1},\"fill_color\":{\"value\":\"#fc4f30\"},\"hatch_alpha\":{\"value\":0.1},\"hatch_color\":{\"value\":\"#fc4f30\"},\"line_alpha\":{\"value\":0.1},\"line_color\":{\"value\":\"#fc4f30\"},\"size\":{\"value\":5.477225575051661},\"x\":{\"field\":\"price_change_percentage_24h\"},\"y\":{\"field\":\"price_change_percentage_7d\"}},\"id\":\"2358\",\"type\":\"Scatter\"},{\"attributes\":{},\"id\":\"2483\",\"type\":\"UnionRenderers\"},{\"attributes\":{\"label\":{\"value\":\"0\"},\"renderers\":[{\"id\":\"2339\"}]},\"id\":\"2352\",\"type\":\"LegendItem\"},{\"attributes\":{\"label\":{\"value\":\"1\"},\"renderers\":[{\"id\":\"2360\"}]},\"id\":\"2374\",\"type\":\"LegendItem\"},{\"attributes\":{\"fill_color\":{\"value\":\"#30a2da\"},\"hatch_color\":{\"value\":\"#30a2da\"},\"line_color\":{\"value\":\"#30a2da\"},\"size\":{\"value\":5.477225575051661},\"x\":{\"field\":\"price_change_percentage_24h\"},\"y\":{\"field\":\"price_change_percentage_7d\"}},\"id\":\"2336\",\"type\":\"Scatter\"},{\"attributes\":{\"angle\":{\"value\":0.0},\"fill_alpha\":{\"value\":1.0},\"fill_color\":{\"value\":\"#6d904f\"},\"hatch_alpha\":{\"value\":1.0},\"hatch_color\":{\"value\":\"#6d904f\"},\"hatch_scale\":{\"value\":12.0},\"hatch_weight\":{\"value\":1.0},\"line_alpha\":{\"value\":1.0},\"line_cap\":{\"value\":\"butt\"},\"line_color\":{\"value\":\"#6d904f\"},\"line_dash\":{\"value\":[]},\"line_dash_offset\":{\"value\":0},\"line_join\":{\"value\":\"bevel\"},\"line_width\":{\"value\":1},\"marker\":{\"value\":\"circle\"},\"size\":{\"value\":5.477225575051661},\"x\":{\"field\":\"price_change_percentage_24h\"},\"y\":{\"field\":\"price_change_percentage_7d\"}},\"id\":\"2425\",\"type\":\"Scatter\"},{\"attributes\":{},\"id\":\"2371\",\"type\":\"UnionRenderers\"},{\"attributes\":{},\"id\":\"2334\",\"type\":\"Selection\"},{\"attributes\":{\"coordinates\":null,\"data_source\":{\"id\":\"2333\"},\"glyph\":{\"id\":\"2336\"},\"group\":null,\"hover_glyph\":null,\"muted_glyph\":{\"id\":\"2338\"},\"nonselection_glyph\":{\"id\":\"2337\"},\"selection_glyph\":{\"id\":\"2353\"},\"view\":{\"id\":\"2340\"}},\"id\":\"2339\",\"type\":\"GlyphRenderer\"},{\"attributes\":{\"fill_color\":{\"value\":\"#6d904f\"},\"hatch_color\":{\"value\":\"#6d904f\"},\"line_color\":{\"value\":\"#6d904f\"},\"size\":{\"value\":5.477225575051661},\"x\":{\"field\":\"PC1\"},\"y\":{\"field\":\"PC2\"}},\"id\":\"2538\",\"type\":\"Scatter\"},{\"attributes\":{\"toolbar\":{\"id\":\"2596\"},\"toolbar_location\":\"above\"},\"id\":\"2597\",\"type\":\"ToolbarBox\"},{\"attributes\":{\"fill_alpha\":{\"value\":0.1},\"fill_color\":{\"value\":\"#30a2da\"},\"hatch_alpha\":{\"value\":0.1},\"hatch_color\":{\"value\":\"#30a2da\"},\"line_alpha\":{\"value\":0.1},\"line_color\":{\"value\":\"#30a2da\"},\"size\":{\"value\":5.477225575051661},\"x\":{\"field\":\"price_change_percentage_24h\"},\"y\":{\"field\":\"price_change_percentage_7d\"}},\"id\":\"2337\",\"type\":\"Scatter\"},{\"attributes\":{\"angle\":{\"value\":0.0},\"fill_alpha\":{\"value\":1.0},\"fill_color\":{\"value\":\"#e5ae38\"},\"hatch_alpha\":{\"value\":1.0},\"hatch_color\":{\"value\":\"#e5ae38\"},\"hatch_scale\":{\"value\":12.0},\"hatch_weight\":{\"value\":1.0},\"line_alpha\":{\"value\":1.0},\"line_cap\":{\"value\":\"butt\"},\"line_color\":{\"value\":\"#e5ae38\"},\"line_dash\":{\"value\":[]},\"line_dash_offset\":{\"value\":0},\"line_join\":{\"value\":\"bevel\"},\"line_width\":{\"value\":1},\"marker\":{\"value\":\"circle\"},\"size\":{\"value\":5.477225575051661},\"x\":{\"field\":\"PC1\"},\"y\":{\"field\":\"PC2\"}},\"id\":\"2534\",\"type\":\"Scatter\"},{\"attributes\":{\"source\":{\"id\":\"2333\"}},\"id\":\"2340\",\"type\":\"CDSView\"},{\"attributes\":{\"click_policy\":\"mute\",\"coordinates\":null,\"group\":null,\"items\":[{\"id\":\"2352\"},{\"id\":\"2374\"},{\"id\":\"2398\"},{\"id\":\"2424\"}],\"location\":[0,0],\"title\":\"PredictedClusters\"},\"id\":\"2351\",\"type\":\"Legend\"},{\"attributes\":{\"data\":{\"PredictedClusters\":[1],\"price_change_percentage_24h\":{\"__ndarray__\":\"VLqXBn668D8=\",\"dtype\":\"float64\",\"order\":\"little\",\"shape\":[1]},\"price_change_percentage_7d\":{\"__ndarray__\":\"Nv03JFjJ478=\",\"dtype\":\"float64\",\"order\":\"little\",\"shape\":[1]}},\"selected\":{\"id\":\"2355\"},\"selection_policy\":{\"id\":\"2371\"}},\"id\":\"2354\",\"type\":\"ColumnDataSource\"},{\"attributes\":{\"margin\":[5,5,5,5],\"name\":\"HSpacer02234\",\"sizing_mode\":\"stretch_width\"},\"id\":\"2290\",\"type\":\"Spacer\"},{\"attributes\":{\"label\":{\"value\":\"3\"},\"renderers\":[{\"id\":\"2541\"}]},\"id\":\"2559\",\"type\":\"LegendItem\"},{\"attributes\":{\"data\":{\"PC1\":{\"__ndarray__\":\"opXVt8EY8b/VvP1Qmqfwv8bsAiEAs+2/iwL6EoMDAcArbCHvbk7xv6OiXLu2hvO/8f7C9lAr6b+v/X9e5pn+v/gpys16C/O/UED4Wlf78L+omK34FJz5v9DzyuOrs/i/jAg1cEZs77/cgIQtG2fpv4reoDOV+PC/hGeaqsaY7r9mmRbdwiIDwEiHkgOab/a/NQDswPcu7L8SLrI5G1Xvv5+A634RTv+/JrkpeWa17L/tdGYpZSkCwDZoh4kb7eO/oo4emHe/8L+oNPNB28fyvw==\",\"dtype\":\"float64\",\"order\":\"little\",\"shape\":[26]},\"PC2\":{\"__ndarray__\":\"yQSRmHqz2r9slBzsjiLdv/yW5TfS0ue/LSe7Oi6ByL/1x8O5SAXbv1S9IVySZ+W/o5mWA6eB2L+dxo07Jou9P0cuD6ncaN2/TL3XmP7j379+/5ezjI/Uvxzy+jTYTti/GhGqJQoW2b+EADzY7l7jPwdcZwMP1Nu/vvQ3T2HH579B+qIa8fbev9656muAjQVAPIyq23IE478SOrRcHPfhv9DeRXanB+4/4UnyH5PLvD/mm0rAEtzhvzh+4qxUz+K/QA3a2mhe3L9WwFmQnOvRvw==\",\"dtype\":\"float64\",\"order\":\"little\",\"shape\":[26]},\"PredictedClusters\":[0,0,0,0,0,0,0,0,0,0,0,0,0,0,0,0,0,0,0,0,0,0,0,0,0,0]},\"selected\":{\"id\":\"2469\"},\"selection_policy\":{\"id\":\"2483\"}},\"id\":\"2468\",\"type\":\"ColumnDataSource\"},{\"attributes\":{\"children\":[{\"id\":\"2290\"},{\"id\":\"2598\"},{\"id\":\"2631\"}],\"margin\":[0,0,0,0],\"name\":\"Row02230\",\"tags\":[\"embedded\"]},\"id\":\"2289\",\"type\":\"Row\"},{\"attributes\":{\"source\":{\"id\":\"2535\"}},\"id\":\"2542\",\"type\":\"CDSView\"},{\"attributes\":{\"end\":3.9900588774599237,\"reset_end\":3.9900588774599237,\"reset_start\":-2.654248527678913,\"start\":-2.654248527678913,\"tags\":[[[\"PC1\",\"PC1\",null]]]},\"id\":\"2426\",\"type\":\"Range1d\"},{\"attributes\":{\"fill_alpha\":{\"value\":0.2},\"fill_color\":{\"value\":\"#6d904f\"},\"hatch_alpha\":{\"value\":0.2},\"hatch_color\":{\"value\":\"#6d904f\"},\"line_alpha\":{\"value\":0.2},\"line_color\":{\"value\":\"#6d904f\"},\"size\":{\"value\":5.477225575051661},\"x\":{\"field\":\"PC1\"},\"y\":{\"field\":\"PC2\"}},\"id\":\"2540\",\"type\":\"Scatter\"},{\"attributes\":{\"fill_alpha\":{\"value\":0.1},\"fill_color\":{\"value\":\"#6d904f\"},\"hatch_alpha\":{\"value\":0.1},\"hatch_color\":{\"value\":\"#6d904f\"},\"line_alpha\":{\"value\":0.1},\"line_color\":{\"value\":\"#6d904f\"},\"size\":{\"value\":5.477225575051661},\"x\":{\"field\":\"PC1\"},\"y\":{\"field\":\"PC2\"}},\"id\":\"2539\",\"type\":\"Scatter\"},{\"attributes\":{},\"id\":\"2556\",\"type\":\"UnionRenderers\"},{\"attributes\":{},\"id\":\"2355\",\"type\":\"Selection\"},{\"attributes\":{},\"id\":\"2536\",\"type\":\"Selection\"},{\"attributes\":{\"callback\":null,\"renderers\":[{\"id\":\"2474\"},{\"id\":\"2495\"},{\"id\":\"2517\"},{\"id\":\"2541\"}],\"tags\":[\"hv_created\"],\"tooltips\":[[\"PredictedClusters\",\"@{PredictedClusters}\"],[\"PC1\",\"@{PC1}\"],[\"PC2\",\"@{PC2}\"]]},\"id\":\"2428\",\"type\":\"HoverTool\"},{\"attributes\":{\"angle\":{\"value\":0.0},\"fill_alpha\":{\"value\":1.0},\"fill_color\":{\"value\":\"#fc4f30\"},\"hatch_alpha\":{\"value\":1.0},\"hatch_color\":{\"value\":\"#fc4f30\"},\"hatch_scale\":{\"value\":12.0},\"hatch_weight\":{\"value\":1.0},\"line_alpha\":{\"value\":1.0},\"line_cap\":{\"value\":\"butt\"},\"line_color\":{\"value\":\"#fc4f30\"},\"line_dash\":{\"value\":[]},\"line_dash_offset\":{\"value\":0},\"line_join\":{\"value\":\"bevel\"},\"line_width\":{\"value\":1},\"marker\":{\"value\":\"circle\"},\"size\":{\"value\":5.477225575051661},\"x\":{\"field\":\"price_change_percentage_24h\"},\"y\":{\"field\":\"price_change_percentage_7d\"}},\"id\":\"2375\",\"type\":\"Scatter\"},{\"attributes\":{},\"id\":\"2377\",\"type\":\"Selection\"},{\"attributes\":{\"tools\":[{\"id\":\"2293\"},{\"id\":\"2314\"},{\"id\":\"2315\"},{\"id\":\"2316\"},{\"id\":\"2317\"},{\"id\":\"2318\"}]},\"id\":\"2320\",\"type\":\"Toolbar\"},{\"attributes\":{\"data\":{\"PredictedClusters\":[0,0,0,0,0,0,0,0,0,0,0,0,0,0,0,0,0,0,0,0,0,0,0,0,0,0],\"price_change_percentage_24h\":{\"__ndarray__\":\"mCJF1OlLlj/mJRG3Ed+kv1qZGRifu9w//rJXHrAz1T/yMTqenpahPx9kk3dK7sM/GTRehHalwD90fnl54Irtv9XPDahDw9G/+VOWQSEmxz+kpbukw1bSP6eM4M4OgKo/BcMOj9+jqr/Chq6S5ebLv2h3TIfCZ68/weEQ8QyV0D/KmZTmC7niP1YH9WGFy/m/N7JuVBEB07/EU4GAhEGyv8Ocf0hw2/a/lrPBJY23/j/IKcQzxy3av5WrmDyeito/Bf22eE/6sz9Y362Ir3rzPw==\",\"dtype\":\"float64\",\"order\":\"little\",\"shape\":[26]},\"price_change_percentage_7d\":{\"__ndarray__\":\"bZSIvk+a5r9RujxqH/Ppvw2U7adXaMi/d+r7VGbW+b9EGSx/8nTnv4rfBo4Lhe2/BEBwXEEApb8Udj8VbP/2vySelkVDp9i/7SZvVsyO5r8uu+JVH+LUvziN+gRMte2/o2qlez1D3b/CtPLKIS7rvyYjaswHnea/US6joeTvzz/dRmuCvtDvv/9TV66U6fq/ZWX+mWVCuD8GJ0pHuV/Nv8nIE2ZWH5q/TTxj/me11z+Htdvf1gXtv2Avihmzf9o/e31xtwIC5r/STlu6Y3Ljvw==\",\"dtype\":\"float64\",\"order\":\"little\",\"shape\":[26]}},\"selected\":{\"id\":\"2334\"},\"selection_policy\":{\"id\":\"2348\"}},\"id\":\"2333\",\"type\":\"ColumnDataSource\"},{\"attributes\":{\"end\":9.124784751598003,\"reset_end\":9.124784751598003,\"reset_start\":-2.184934247836348,\"start\":-2.184934247836348,\"tags\":[[[\"PC2\",\"PC2\",null]]]},\"id\":\"2427\",\"type\":\"Range1d\"},{\"attributes\":{\"coordinates\":null,\"data_source\":{\"id\":\"2535\"},\"glyph\":{\"id\":\"2538\"},\"group\":null,\"hover_glyph\":null,\"muted_glyph\":{\"id\":\"2540\"},\"nonselection_glyph\":{\"id\":\"2539\"},\"selection_glyph\":{\"id\":\"2560\"},\"view\":{\"id\":\"2542\"}},\"id\":\"2541\",\"type\":\"GlyphRenderer\"},{\"attributes\":{},\"id\":\"2332\",\"type\":\"AllLabels\"},{\"attributes\":{\"fill_alpha\":{\"value\":0.2},\"fill_color\":{\"value\":\"#30a2da\"},\"hatch_alpha\":{\"value\":0.2},\"hatch_color\":{\"value\":\"#30a2da\"},\"line_alpha\":{\"value\":0.2},\"line_color\":{\"value\":\"#30a2da\"},\"size\":{\"value\":5.477225575051661},\"x\":{\"field\":\"price_change_percentage_24h\"},\"y\":{\"field\":\"price_change_percentage_7d\"}},\"id\":\"2338\",\"type\":\"Scatter\"},{\"attributes\":{\"angle\":{\"value\":0.0},\"fill_alpha\":{\"value\":1.0},\"fill_color\":{\"value\":\"#30a2da\"},\"hatch_alpha\":{\"value\":1.0},\"hatch_color\":{\"value\":\"#30a2da\"},\"hatch_scale\":{\"value\":12.0},\"hatch_weight\":{\"value\":1.0},\"line_alpha\":{\"value\":1.0},\"line_cap\":{\"value\":\"butt\"},\"line_color\":{\"value\":\"#30a2da\"},\"line_dash\":{\"value\":[]},\"line_dash_offset\":{\"value\":0},\"line_join\":{\"value\":\"bevel\"},\"line_width\":{\"value\":1},\"marker\":{\"value\":\"circle\"},\"size\":{\"value\":5.477225575051661},\"x\":{\"field\":\"PC1\"},\"y\":{\"field\":\"PC2\"}},\"id\":\"2488\",\"type\":\"Scatter\"},{\"attributes\":{\"below\":[{\"id\":\"2441\"}],\"center\":[{\"id\":\"2444\"},{\"id\":\"2448\"}],\"height\":300,\"left\":[{\"id\":\"2445\"}],\"margin\":null,\"min_border_bottom\":10,\"min_border_left\":10,\"min_border_right\":10,\"min_border_top\":10,\"renderers\":[{\"id\":\"2474\"},{\"id\":\"2495\"},{\"id\":\"2517\"},{\"id\":\"2541\"}],\"right\":[{\"id\":\"2486\"}],\"sizing_mode\":\"fixed\",\"title\":{\"id\":\"2433\"},\"toolbar\":{\"id\":\"2455\"},\"toolbar_location\":null,\"width\":700,\"x_range\":{\"id\":\"2426\"},\"x_scale\":{\"id\":\"2437\"},\"y_range\":{\"id\":\"2427\"},\"y_scale\":{\"id\":\"2439\"}},\"id\":\"2432\",\"subtype\":\"Figure\",\"type\":\"Plot\"},{\"attributes\":{\"fill_color\":{\"value\":\"#e5ae38\"},\"hatch_color\":{\"value\":\"#e5ae38\"},\"line_color\":{\"value\":\"#e5ae38\"},\"size\":{\"value\":5.477225575051661},\"x\":{\"field\":\"price_change_percentage_24h\"},\"y\":{\"field\":\"price_change_percentage_7d\"}},\"id\":\"2379\",\"type\":\"Scatter\"},{\"attributes\":{},\"id\":\"2490\",\"type\":\"Selection\"},{\"attributes\":{\"data\":{\"PC1\":{\"__ndarray__\":\"GtFii3lK5L8=\",\"dtype\":\"float64\",\"order\":\"little\",\"shape\":[1]},\"PC2\":{\"__ndarray__\":\"wWIJf1ddIEA=\",\"dtype\":\"float64\",\"order\":\"little\",\"shape\":[1]},\"PredictedClusters\":[2]},\"selected\":{\"id\":\"2512\"},\"selection_policy\":{\"id\":\"2530\"}},\"id\":\"2511\",\"type\":\"ColumnDataSource\"},{\"attributes\":{},\"id\":\"2328\",\"type\":\"BasicTickFormatter\"},{\"attributes\":{},\"id\":\"2331\",\"type\":\"BasicTickFormatter\"}],\"root_ids\":[\"2289\"]},\"title\":\"Bokeh Application\",\"version\":\"2.4.3\"}};\n",
       "    var render_items = [{\"docid\":\"0d65af5c-ffd3-436d-b4bc-f5bbf28cc864\",\"root_ids\":[\"2289\"],\"roots\":{\"2289\":\"5cc7f3dd-892b-4b45-9bc1-4dd50e27c4be\"}}];\n",
       "    root.Bokeh.embed.embed_items_notebook(docs_json, render_items);\n",
       "  }\n",
       "  if (root.Bokeh !== undefined && root.Bokeh.Panel !== undefined) {\n",
       "    embed_document(root);\n",
       "  } else {\n",
       "    var attempts = 0;\n",
       "    var timer = setInterval(function(root) {\n",
       "      if (root.Bokeh !== undefined && root.Bokeh.Panel !== undefined) {\n",
       "        clearInterval(timer);\n",
       "        embed_document(root);\n",
       "      } else if (document.readyState == \"complete\") {\n",
       "        attempts++;\n",
       "        if (attempts > 200) {\n",
       "          clearInterval(timer);\n",
       "          console.log(\"Bokeh: ERROR: Unable to run BokehJS code because BokehJS library is missing\");\n",
       "        }\n",
       "      }\n",
       "    }, 25, root)\n",
       "  }\n",
       "})(window);</script>"
      ],
      "text/plain": [
       ":Layout\n",
       "   .NdOverlay.I  :NdOverlay   [PredictedClusters]\n",
       "      :Scatter   [price_change_percentage_24h]   (price_change_percentage_7d)\n",
       "   .NdOverlay.II :NdOverlay   [PredictedClusters]\n",
       "      :Scatter   [PC1]   (PC2)"
      ]
     },
     "execution_count": 35,
     "metadata": {
      "application/vnd.holoviews_exec.v0+json": {
       "id": "2289"
      }
     },
     "output_type": "execute_result"
    }
   ],
   "source": [
    "# Composite plot to contrast the clusters\n",
    "market_predict_df.hvplot.scatter(\n",
    "    x = \"price_change_percentage_24h\",\n",
    "    y = \"price_change_percentage_7d\",\n",
    "    by = \"PredictedClusters\"\n",
    ") + duplicate_market_pca_df.hvplot.scatter(\n",
    "    x = \"PC1\",\n",
    "    y = \"PC2\",\n",
    "    by = \"PredictedClusters\"\n",
    ")"
   ]
  },
  {
   "attachments": {},
   "cell_type": "markdown",
   "metadata": {},
   "source": [
    "#### Answer the following question: \n",
    "\n",
    "  * **Question:** After visually analyzing the cluster analysis results, what is the impact of using fewer features to cluster the data using K-Means?\n",
    "\n",
    "  * **Answer: PCA data tends to work better than the original data and K Means curatesdata that makes better visualizations. ** "
   ]
  }
 ],
 "metadata": {
  "kernelspec": {
   "display_name": "Python 3 (ipykernel)",
   "language": "python",
   "name": "python3"
  },
  "language_info": {
   "codemirror_mode": {
    "name": "ipython",
    "version": 3
   },
   "file_extension": ".py",
   "mimetype": "text/x-python",
   "name": "python",
   "nbconvert_exporter": "python",
   "pygments_lexer": "ipython3",
   "version": "3.9.13"
  },
  "nteract": {
   "version": "0.28.0"
  },
  "vscode": {
   "interpreter": {
    "hash": "40d3a090f54c6569ab1632332b64b2c03c39dcf918b08424e98f38b5ae0af88f"
   }
  }
 },
 "nbformat": 4,
 "nbformat_minor": 4
}
